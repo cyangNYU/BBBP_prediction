{
 "cells": [
  {
   "cell_type": "code",
   "execution_count": 1,
   "id": "better-intro",
   "metadata": {},
   "outputs": [],
   "source": [
    "import sys, os\n",
    "import numpy as np\n",
    "import pandas as pd\n",
    "from rdkit.Chem import AllChem, Descriptors\n",
    "import sklearn\n",
    "from sklearn.metrics import confusion_matrix, precision_score,recall_score \n",
    "from sklearn.metrics import f1_score, precision_recall_curve, roc_curve, roc_auc_score\n",
    "import matplotlib.pyplot as plt\n",
    "%matplotlib inline"
   ]
  },
  {
   "cell_type": "code",
   "execution_count": 2,
   "id": "seeing-title",
   "metadata": {},
   "outputs": [
    {
     "data": {
      "text/html": [
       "<div>\n",
       "<style scoped>\n",
       "    .dataframe tbody tr th:only-of-type {\n",
       "        vertical-align: middle;\n",
       "    }\n",
       "\n",
       "    .dataframe tbody tr th {\n",
       "        vertical-align: top;\n",
       "    }\n",
       "\n",
       "    .dataframe thead th {\n",
       "        text-align: right;\n",
       "    }\n",
       "</style>\n",
       "<table border=\"1\" class=\"dataframe\">\n",
       "  <thead>\n",
       "    <tr style=\"text-align: right;\">\n",
       "      <th></th>\n",
       "      <th>num</th>\n",
       "      <th>name</th>\n",
       "      <th>BBclass</th>\n",
       "      <th>Check</th>\n",
       "      <th>smiles</th>\n",
       "      <th>MaxEStateIndex</th>\n",
       "      <th>MinEStateIndex</th>\n",
       "      <th>MaxAbsEStateIndex</th>\n",
       "      <th>MinAbsEStateIndex</th>\n",
       "      <th>qed</th>\n",
       "      <th>...</th>\n",
       "      <th>MFP_2039</th>\n",
       "      <th>MFP_2040</th>\n",
       "      <th>MFP_2041</th>\n",
       "      <th>MFP_2042</th>\n",
       "      <th>MFP_2043</th>\n",
       "      <th>MFP_2044</th>\n",
       "      <th>MFP_2045</th>\n",
       "      <th>MFP_2046</th>\n",
       "      <th>MFP_2047</th>\n",
       "      <th>MFP_2048</th>\n",
       "    </tr>\n",
       "  </thead>\n",
       "  <tbody>\n",
       "    <tr>\n",
       "      <th>0</th>\n",
       "      <td>1</td>\n",
       "      <td>Propanolol</td>\n",
       "      <td>1</td>\n",
       "      <td>2</td>\n",
       "      <td>CC(C)NCC(O)COc1cccc2ccccc12</td>\n",
       "      <td>9.843954</td>\n",
       "      <td>-0.498733</td>\n",
       "      <td>9.843954</td>\n",
       "      <td>0.299333</td>\n",
       "      <td>0.837506</td>\n",
       "      <td>...</td>\n",
       "      <td>1</td>\n",
       "      <td>0</td>\n",
       "      <td>0</td>\n",
       "      <td>0</td>\n",
       "      <td>0</td>\n",
       "      <td>0</td>\n",
       "      <td>0</td>\n",
       "      <td>0</td>\n",
       "      <td>0</td>\n",
       "      <td>0</td>\n",
       "    </tr>\n",
       "    <tr>\n",
       "      <th>1</th>\n",
       "      <td>2</td>\n",
       "      <td>Terbutylchlorambucil</td>\n",
       "      <td>1</td>\n",
       "      <td>2</td>\n",
       "      <td>CC(C)(C)OC(=O)CCCc1ccc(N(CCCl)CCCl)cc1</td>\n",
       "      <td>11.682268</td>\n",
       "      <td>-0.409691</td>\n",
       "      <td>11.682268</td>\n",
       "      <td>0.134704</td>\n",
       "      <td>0.474821</td>\n",
       "      <td>...</td>\n",
       "      <td>0</td>\n",
       "      <td>0</td>\n",
       "      <td>0</td>\n",
       "      <td>0</td>\n",
       "      <td>0</td>\n",
       "      <td>0</td>\n",
       "      <td>0</td>\n",
       "      <td>0</td>\n",
       "      <td>0</td>\n",
       "      <td>0</td>\n",
       "    </tr>\n",
       "  </tbody>\n",
       "</table>\n",
       "<p>2 rows × 2261 columns</p>\n",
       "</div>"
      ],
      "text/plain": [
       "   num                  name  BBclass  Check  \\\n",
       "0    1            Propanolol        1      2   \n",
       "1    2  Terbutylchlorambucil        1      2   \n",
       "\n",
       "                                   smiles  MaxEStateIndex  MinEStateIndex  \\\n",
       "0             CC(C)NCC(O)COc1cccc2ccccc12        9.843954       -0.498733   \n",
       "1  CC(C)(C)OC(=O)CCCc1ccc(N(CCCl)CCCl)cc1       11.682268       -0.409691   \n",
       "\n",
       "   MaxAbsEStateIndex  MinAbsEStateIndex       qed  ...  MFP_2039  MFP_2040  \\\n",
       "0           9.843954           0.299333  0.837506  ...         1         0   \n",
       "1          11.682268           0.134704  0.474821  ...         0         0   \n",
       "\n",
       "   MFP_2041  MFP_2042  MFP_2043  MFP_2044  MFP_2045  MFP_2046  MFP_2047  \\\n",
       "0         0         0         0         0         0         0         0   \n",
       "1         0         0         0         0         0         0         0   \n",
       "\n",
       "   MFP_2048  \n",
       "0         0  \n",
       "1         0  \n",
       "\n",
       "[2 rows x 2261 columns]"
      ]
     },
     "execution_count": 2,
     "metadata": {},
     "output_type": "execute_result"
    }
   ],
   "source": [
    "df = pd.read_csv('dataset/feature_set_all/train_set_2.csv')\n",
    "df[df.select_dtypes(np.float64).columns] = df.select_dtypes(np.float64).astype(np.float32)\n",
    "df.head(2)"
   ]
  },
  {
   "cell_type": "markdown",
   "id": "reverse-crazy",
   "metadata": {},
   "source": [
    "Check features with NaN or infinite value"
   ]
  },
  {
   "cell_type": "code",
   "execution_count": 3,
   "id": "criminal-ghana",
   "metadata": {},
   "outputs": [
    {
     "data": {
      "text/plain": [
       "(['Ipc'], 1)"
      ]
     },
     "execution_count": 3,
     "metadata": {},
     "output_type": "execute_result"
    }
   ],
   "source": [
    "columns = df.columns.to_numpy()\n",
    "check_features = columns[df.isin([np.inf, -np.inf, np.NaN]).any(axis=0).to_numpy()].tolist()\n",
    "check_features, len(check_features)"
   ]
  },
  {
   "cell_type": "code",
   "execution_count": 4,
   "id": "blank-technical",
   "metadata": {},
   "outputs": [
    {
     "data": {
      "text/plain": [
       "1351"
      ]
     },
     "execution_count": 4,
     "metadata": {},
     "output_type": "execute_result"
    }
   ],
   "source": [
    "lowVar_features = df.std()[df.std() < 0.14].index.tolist()\n",
    "len(lowVar_features)"
   ]
  },
  {
   "cell_type": "code",
   "execution_count": 5,
   "id": "structured-award",
   "metadata": {},
   "outputs": [
    {
     "data": {
      "text/plain": [
       "743"
      ]
     },
     "execution_count": 5,
     "metadata": {},
     "output_type": "execute_result"
    }
   ],
   "source": [
    "#features = [x[0] for x in Descriptors._descList]\n",
    "Fingerprints = ['MFP_%d'%(i+1) for i in range(2048)]\n",
    "descriptors = ['HeavyAtomMolWt','NHOHCount','NOCount','RingCount']\n",
    "features = Fingerprints + descriptors\n",
    "features = [x for x in features if x not in check_features+lowVar_features]\n",
    "len(features)"
   ]
  },
  {
   "cell_type": "code",
   "execution_count": 6,
   "id": "noble-christian",
   "metadata": {},
   "outputs": [
    {
     "data": {
      "text/plain": [
       "1    0.763562\n",
       "0    0.236438\n",
       "Name: BBclass, dtype: float64"
      ]
     },
     "execution_count": 6,
     "metadata": {},
     "output_type": "execute_result"
    }
   ],
   "source": [
    "df.BBclass.value_counts()/len(df)"
   ]
  },
  {
   "cell_type": "markdown",
   "id": "impossible-exchange",
   "metadata": {},
   "source": [
    "from sklearn.model_selection import train_test_split, StratifiedShuffleSplit\n",
    "\n",
    "split_method = ''\n",
    "\n",
    "if split_method == 'random':\n",
    "    train, test = train_test_split(df, test_size=0.2, random_state=10)\n",
    "    print ('train:', len(train), 'test:', len(test))\n",
    "    \n",
    "    X_train = np.c_[train[features]]\n",
    "    y_train = np.c_[train['BBclass']]\n",
    "    X_test = np.c_[test[features]]\n",
    "    y_test = np.c_[test['BBclass']]\n",
    "    \n",
    "    \n",
    "else:\n",
    "    df[\"MW_cat\"] = np.ceil(df[\"MolWt\"]/100.0)\n",
    "    df[\"MW_cat\"].where(df[\"MW_cat\"] < 6, 6.0, inplace=True)\n",
    "    \n",
    "    split = StratifiedShuffleSplit(n_splits=1, test_size=0.2, random_state=10)\n",
    "    for train_index, test_index in split.split(df, df[\"MW_cat\"]):\n",
    "        train = df.loc[train_index]\n",
    "        test = df.loc[test_index]\n",
    "        \n",
    "    print ('train:', len(train), 'test:', len(test))    \n",
    "    X_train = np.c_[train[features]]\n",
    "    y_train = np.c_[train['BBclass']]\n",
    "    X_test = np.c_[test[features]]\n",
    "    y_test = np.c_[test['BBclass']]"
   ]
  },
  {
   "cell_type": "code",
   "execution_count": 7,
   "id": "deadly-voltage",
   "metadata": {},
   "outputs": [],
   "source": [
    "X_train = np.c_[df[features]]\n",
    "y_train = np.c_[df['BBclass']]"
   ]
  },
  {
   "cell_type": "markdown",
   "id": "occasional-organic",
   "metadata": {},
   "source": [
    "### 1. Try a Balanced RandomForestClassifier"
   ]
  },
  {
   "cell_type": "code",
   "execution_count": 8,
   "id": "normal-chorus",
   "metadata": {},
   "outputs": [],
   "source": [
    "from sklearn.ensemble import RandomForestClassifier\n",
    "from imblearn.ensemble import BalancedRandomForestClassifier\n",
    "\n",
    "#RF_model = BalancedRandomForestClassifier(n_estimators=400,oob_score=True, random_state=10)\n",
    "RF_model = BalancedRandomForestClassifier(n_estimators=400,\n",
    "                                          criterion='gini',\n",
    "                                          oob_score=True, random_state=10)\n",
    "\n",
    "RF_model.fit(X_train, y_train[:,0])\n",
    "y_train_predict = RF_model.predict(X_train)\n",
    "y_oob_predict = np.argmax(RF_model.oob_decision_function_, axis=1)"
   ]
  },
  {
   "cell_type": "code",
   "execution_count": 9,
   "id": "alternative-gauge",
   "metadata": {},
   "outputs": [
    {
     "data": {
      "text/plain": [
       "33"
      ]
     },
     "execution_count": 9,
     "metadata": {},
     "output_type": "execute_result"
    }
   ],
   "source": [
    "new = pd.read_csv('dataset/feature_set_all/test_set.csv')\n",
    "X_test1 = np.c_[new[features]]\n",
    "y_test1 = np.c_[new['BBclass']]\n",
    "y_test1_predict = RF_model.predict(X_test1)\n",
    "len(new)"
   ]
  },
  {
   "cell_type": "markdown",
   "id": "familiar-tulsa",
   "metadata": {},
   "source": [
    "confusion matrix"
   ]
  },
  {
   "cell_type": "code",
   "execution_count": 10,
   "id": "grateful-homeless",
   "metadata": {},
   "outputs": [
    {
     "data": {
      "text/plain": [
       "array([[ 385,   77],\n",
       "       [ 167, 1325]])"
      ]
     },
     "execution_count": 10,
     "metadata": {},
     "output_type": "execute_result"
    }
   ],
   "source": [
    "confusion_matrix(y_train, y_oob_predict)"
   ]
  },
  {
   "cell_type": "code",
   "execution_count": 11,
   "id": "dated-motion",
   "metadata": {},
   "outputs": [
    {
     "data": {
      "text/plain": [
       "array([[16,  1],\n",
       "       [ 0, 16]])"
      ]
     },
     "execution_count": 11,
     "metadata": {},
     "output_type": "execute_result"
    }
   ],
   "source": [
    "confusion_matrix(y_test1, y_test1_predict)"
   ]
  },
  {
   "cell_type": "markdown",
   "id": "favorite-function",
   "metadata": {},
   "source": [
    "precision (for BBBP prediction, TP/(TP+FP) is more important)"
   ]
  },
  {
   "cell_type": "code",
   "execution_count": 12,
   "id": "dress-conclusion",
   "metadata": {},
   "outputs": [
    {
     "data": {
      "text/plain": [
       "0.9450784593437945"
      ]
     },
     "execution_count": 12,
     "metadata": {},
     "output_type": "execute_result"
    }
   ],
   "source": [
    "precision_score(y_train, y_oob_predict)"
   ]
  },
  {
   "cell_type": "code",
   "execution_count": 13,
   "id": "legendary-scope",
   "metadata": {},
   "outputs": [
    {
     "data": {
      "text/plain": [
       "0.9411764705882353"
      ]
     },
     "execution_count": 13,
     "metadata": {},
     "output_type": "execute_result"
    }
   ],
   "source": [
    "precision_score(y_test1, y_test1_predict)"
   ]
  },
  {
   "cell_type": "markdown",
   "id": "excellent-research",
   "metadata": {},
   "source": [
    "recall   (TP/(TP+FN)), also called sensitivity"
   ]
  },
  {
   "cell_type": "code",
   "execution_count": 14,
   "id": "congressional-treat",
   "metadata": {},
   "outputs": [
    {
     "data": {
      "text/plain": [
       "0.8880697050938338"
      ]
     },
     "execution_count": 14,
     "metadata": {},
     "output_type": "execute_result"
    }
   ],
   "source": [
    "recall_score(y_train, y_oob_predict)"
   ]
  },
  {
   "cell_type": "code",
   "execution_count": 15,
   "id": "specialized-correlation",
   "metadata": {},
   "outputs": [
    {
     "data": {
      "text/plain": [
       "1.0"
      ]
     },
     "execution_count": 15,
     "metadata": {},
     "output_type": "execute_result"
    }
   ],
   "source": [
    "recall_score(y_test1, y_test1_predict)"
   ]
  },
  {
   "cell_type": "markdown",
   "id": "labeled-minneapolis",
   "metadata": {},
   "source": [
    "Accuracy ((TP+TN/(all cases)))"
   ]
  },
  {
   "cell_type": "code",
   "execution_count": 16,
   "id": "expensive-track",
   "metadata": {},
   "outputs": [
    {
     "data": {
      "text/plain": [
       "0.8751279426816786"
      ]
     },
     "execution_count": 16,
     "metadata": {},
     "output_type": "execute_result"
    }
   ],
   "source": [
    "from sklearn.metrics import accuracy_score\n",
    "\n",
    "accuracy_score(y_train, y_oob_predict)"
   ]
  },
  {
   "cell_type": "code",
   "execution_count": 17,
   "id": "productive-brake",
   "metadata": {},
   "outputs": [
    {
     "data": {
      "text/plain": [
       "0.9696969696969697"
      ]
     },
     "execution_count": 17,
     "metadata": {},
     "output_type": "execute_result"
    }
   ],
   "source": [
    "accuracy_score(y_test1, y_test1_predict)"
   ]
  },
  {
   "cell_type": "markdown",
   "id": "clear-fossil",
   "metadata": {},
   "source": [
    "f1_score (2/(1/recall+1/precision))"
   ]
  },
  {
   "cell_type": "code",
   "execution_count": 18,
   "id": "identified-twins",
   "metadata": {},
   "outputs": [
    {
     "data": {
      "text/plain": [
       "0.9156876295784381"
      ]
     },
     "execution_count": 18,
     "metadata": {},
     "output_type": "execute_result"
    }
   ],
   "source": [
    "f1_score(y_train, y_oob_predict)"
   ]
  },
  {
   "cell_type": "code",
   "execution_count": 19,
   "id": "exceptional-leather",
   "metadata": {},
   "outputs": [
    {
     "data": {
      "text/plain": [
       "0.9696969696969697"
      ]
     },
     "execution_count": 19,
     "metadata": {},
     "output_type": "execute_result"
    }
   ],
   "source": [
    "f1_score(y_test1, y_test1_predict)"
   ]
  },
  {
   "cell_type": "markdown",
   "id": "sixth-advantage",
   "metadata": {},
   "source": [
    "specificity (TN/(TN+FP))"
   ]
  },
  {
   "cell_type": "code",
   "execution_count": 20,
   "id": "corresponding-luxury",
   "metadata": {},
   "outputs": [
    {
     "data": {
      "text/plain": [
       "(0.8333333333333334, 0.8880697050938338)"
      ]
     },
     "execution_count": 20,
     "metadata": {},
     "output_type": "execute_result"
    }
   ],
   "source": [
    "tn, fp, fn, tp = confusion_matrix(y_train, y_oob_predict).ravel()\n",
    "specificity = tn / (tn+fp)\n",
    "sensitivity = tp / (tp+fn)\n",
    "\n",
    "specificity, sensitivity"
   ]
  },
  {
   "cell_type": "code",
   "execution_count": 21,
   "id": "written-director",
   "metadata": {},
   "outputs": [
    {
     "data": {
      "text/plain": [
       "(0.9411764705882353, 1.0)"
      ]
     },
     "execution_count": 21,
     "metadata": {},
     "output_type": "execute_result"
    }
   ],
   "source": [
    "tn, fp, fn, tp = confusion_matrix(y_test1, y_test1_predict).ravel()\n",
    "specificity = tn / (tn+fp)\n",
    "sensitivity = tp / (tp+fn)\n",
    "\n",
    "specificity, sensitivity"
   ]
  },
  {
   "cell_type": "markdown",
   "id": "indirect-marking",
   "metadata": {},
   "source": [
    "ROC curve for oob prediction"
   ]
  },
  {
   "cell_type": "code",
   "execution_count": 22,
   "id": "commercial-decision",
   "metadata": {},
   "outputs": [],
   "source": [
    "y_probas = RF_model.oob_decision_function_\n",
    "y_scores = y_probas[:, 1] \n",
    "fpr_forest, tpr_forest, thresholds_forest = roc_curve(y_train, y_scores)"
   ]
  },
  {
   "cell_type": "code",
   "execution_count": 23,
   "id": "focused-entry",
   "metadata": {},
   "outputs": [],
   "source": [
    "def plot_roc_curve(fpr, tpr, label=None):\n",
    "    plt.plot(fpr, tpr, linewidth=2, label=label)\n",
    "    plt.plot([0, 1], [0, 1], 'k--')\n",
    "    plt.axis([0, 1, 0, 1])\n",
    "    plt.xticks(fontsize=14)\n",
    "    plt.yticks(fontsize=14)\n",
    "    plt.xlabel('False Positive Rate', fontsize=16)\n",
    "    plt.ylabel('True Positive Rate', fontsize=16)"
   ]
  },
  {
   "cell_type": "code",
   "execution_count": 24,
   "id": "alone-homeless",
   "metadata": {},
   "outputs": [
    {
     "data": {
      "image/png": "[encoded data removed]",
      "text/plain": [
       "<Figure size 576x432 with 1 Axes>"
      ]
     },
     "metadata": {
      "needs_background": "light"
     },
     "output_type": "display_data"
    }
   ],
   "source": [
    "plt.figure(figsize=(8, 6))\n",
    "plot_roc_curve(fpr_forest, tpr_forest, \"Random Forest\")\n",
    "plt.legend(loc=\"lower right\", fontsize=16)\n",
    "plt.show()"
   ]
  },
  {
   "cell_type": "code",
   "execution_count": 25,
   "id": "given-russian",
   "metadata": {},
   "outputs": [
    {
     "data": {
      "text/plain": [
       "0.9305836031707346"
      ]
     },
     "execution_count": 25,
     "metadata": {},
     "output_type": "execute_result"
    }
   ],
   "source": [
    "roc_auc_score(y_train, y_scores)"
   ]
  },
  {
   "cell_type": "markdown",
   "id": "accredited-telling",
   "metadata": {},
   "source": [
    "ROC curve for test set"
   ]
  },
  {
   "cell_type": "code",
   "execution_count": 26,
   "id": "verbal-interference",
   "metadata": {},
   "outputs": [],
   "source": [
    "y_probas1 = RF_model.predict_proba(X_test1)\n",
    "y_scores1 = y_probas1[:, 1] \n",
    "fpr_forest, tpr_forest, thresholds_forest = roc_curve(y_test1, y_scores1)"
   ]
  },
  {
   "cell_type": "code",
   "execution_count": 27,
   "id": "large-antarctica",
   "metadata": {},
   "outputs": [
    {
     "data": {
      "image/png": "[encoded data removed]",
      "text/plain": [
       "<Figure size 576x432 with 1 Axes>"
      ]
     },
     "metadata": {
      "needs_background": "light"
     },
     "output_type": "display_data"
    }
   ],
   "source": [
    "plt.figure(figsize=(8, 6))\n",
    "plot_roc_curve(fpr_forest, tpr_forest, \"Random Forest\")\n",
    "plt.legend(loc=\"lower right\", fontsize=16)\n",
    "plt.show()"
   ]
  },
  {
   "cell_type": "code",
   "execution_count": 28,
   "id": "annual-relations",
   "metadata": {},
   "outputs": [
    {
     "data": {
      "text/plain": [
       "0.9485294117647058"
      ]
     },
     "execution_count": 28,
     "metadata": {},
     "output_type": "execute_result"
    }
   ],
   "source": [
    "roc_auc_score(y_test1, y_scores1)"
   ]
  },
  {
   "cell_type": "code",
   "execution_count": null,
   "id": "adolescent-complement",
   "metadata": {},
   "outputs": [],
   "source": []
  },
  {
   "cell_type": "markdown",
   "id": "federal-wrist",
   "metadata": {},
   "source": [
    "Precision vs Recall for oob prediction"
   ]
  },
  {
   "cell_type": "code",
   "execution_count": 29,
   "id": "worthy-equity",
   "metadata": {},
   "outputs": [],
   "source": [
    "precisions, recalls, thresholds = precision_recall_curve(y_train, y_scores)"
   ]
  },
  {
   "cell_type": "code",
   "execution_count": 30,
   "id": "fifteen-rwanda",
   "metadata": {},
   "outputs": [],
   "source": [
    "def plot_precision_vs_recall(precisions, recalls):\n",
    "    plt.plot(recalls, precisions, \"b-\", linewidth=2)\n",
    "    plt.xlabel(\"Recall\", fontsize=16)\n",
    "    plt.ylabel(\"Precision\", fontsize=16)\n",
    "    plt.xticks(fontsize=14)\n",
    "    plt.yticks(fontsize=14)\n",
    "    plt.axis([0, 1, 0, 1])"
   ]
  },
  {
   "cell_type": "code",
   "execution_count": 31,
   "id": "severe-ribbon",
   "metadata": {},
   "outputs": [
    {
     "data": {
      "image/png": "[encoded data removed]",
      "text/plain": [
       "<Figure size 576x432 with 1 Axes>"
      ]
     },
     "metadata": {
      "needs_background": "light"
     },
     "output_type": "display_data"
    }
   ],
   "source": [
    "plt.figure(figsize=(8, 6))\n",
    "plot_precision_vs_recall(precisions, recalls)\n",
    "plt.show()"
   ]
  },
  {
   "cell_type": "code",
   "execution_count": 32,
   "id": "searching-category",
   "metadata": {},
   "outputs": [
    {
     "data": {
      "text/plain": [
       "0.9741003242082283"
      ]
     },
     "execution_count": 32,
     "metadata": {},
     "output_type": "execute_result"
    }
   ],
   "source": [
    "sklearn.metrics.auc(recalls, precisions)"
   ]
  },
  {
   "cell_type": "markdown",
   "id": "pressing-curtis",
   "metadata": {},
   "source": [
    "Precision vs Recall for test set"
   ]
  },
  {
   "cell_type": "code",
   "execution_count": 33,
   "id": "governmental-arthritis",
   "metadata": {},
   "outputs": [],
   "source": [
    "precisions, recalls, thresholds = precision_recall_curve(y_test1, y_scores1)"
   ]
  },
  {
   "cell_type": "code",
   "execution_count": 34,
   "id": "helpful-indication",
   "metadata": {},
   "outputs": [
    {
     "data": {
      "image/png": "[encoded data removed]",
      "text/plain": [
       "<Figure size 576x432 with 1 Axes>"
      ]
     },
     "metadata": {
      "needs_background": "light"
     },
     "output_type": "display_data"
    }
   ],
   "source": [
    "plt.figure(figsize=(8, 6))\n",
    "plot_precision_vs_recall(precisions, recalls)\n",
    "plt.show()"
   ]
  },
  {
   "cell_type": "code",
   "execution_count": 35,
   "id": "nuclear-qualification",
   "metadata": {},
   "outputs": [
    {
     "data": {
      "text/plain": [
       "0.8899912026290703"
      ]
     },
     "execution_count": 35,
     "metadata": {},
     "output_type": "execute_result"
    }
   ],
   "source": [
    "sklearn.metrics.auc(recalls, precisions)"
   ]
  },
  {
   "cell_type": "code",
   "execution_count": null,
   "id": "stable-wednesday",
   "metadata": {},
   "outputs": [],
   "source": []
  },
  {
   "cell_type": "markdown",
   "id": "dated-hardware",
   "metadata": {},
   "source": [
    "### 2. Save the RF model"
   ]
  },
  {
   "cell_type": "code",
   "execution_count": 36,
   "id": "medieval-shade",
   "metadata": {},
   "outputs": [],
   "source": [
    "import pickle"
   ]
  },
  {
   "cell_type": "code",
   "execution_count": 37,
   "id": "devoted-messaging",
   "metadata": {},
   "outputs": [],
   "source": [
    "output = 'model/RF_model.pickle.dat'\n",
    "pickle.dump(RF_model, open(output, \"wb\"))"
   ]
  },
  {
   "cell_type": "code",
   "execution_count": 38,
   "id": "dirty-group",
   "metadata": {},
   "outputs": [],
   "source": [
    "pickle.dump(features, open('model/RF_features.pickle',\"wb\"))"
   ]
  },
  {
   "cell_type": "code",
   "execution_count": null,
   "id": "inappropriate-racing",
   "metadata": {},
   "outputs": [],
   "source": []
  }
 ],
 "metadata": {
  "kernelspec": {
   "display_name": "Python 3",
   "language": "python",
   "name": "python3"
  },
  "language_info": {
   "codemirror_mode": {
    "name": "ipython",
    "version": 3
   },
   "file_extension": ".py",
   "mimetype": "text/x-python",
   "name": "python",
   "nbconvert_exporter": "python",
   "pygments_lexer": "ipython3",
   "version": "3.8.5"
  }
 },
 "nbformat": 4,
 "nbformat_minor": 5
}
