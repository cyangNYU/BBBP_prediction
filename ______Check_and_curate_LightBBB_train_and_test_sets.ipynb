{
 "cells": [
  {
   "cell_type": "code",
   "execution_count": 1,
   "id": "bound-exclusion",
   "metadata": {},
   "outputs": [],
   "source": [
    "import sys, os\n",
    "import numpy as np\n",
    "import pandas as pd\n",
    "from rdkit import Chem, DataStructs\n",
    "from rdkit.Chem import AllChem, rdFMCS, Descriptors, PandasTools,SaltRemover\n",
    "from rdkit.Chem import Draw\n",
    "from rdkit.Chem.Draw import IPythonConsole\n",
    "import matplotlib.pyplot as plt\n",
    "%matplotlib inline\n",
    "remover = SaltRemover.SaltRemover()"
   ]
  },
  {
   "cell_type": "markdown",
   "id": "vertical-selection",
   "metadata": {},
   "source": [
    "### 1. Check_smiles_and_remove_duplicates_for_train_set"
   ]
  },
  {
   "cell_type": "code",
   "execution_count": 2,
   "id": "worse-classic",
   "metadata": {},
   "outputs": [
    {
     "data": {
      "text/html": [
       "<div>\n",
       "<style scoped>\n",
       "    .dataframe tbody tr th:only-of-type {\n",
       "        vertical-align: middle;\n",
       "    }\n",
       "\n",
       "    .dataframe tbody tr th {\n",
       "        vertical-align: top;\n",
       "    }\n",
       "\n",
       "    .dataframe thead th {\n",
       "        text-align: right;\n",
       "    }\n",
       "</style>\n",
       "<table border=\"1\" class=\"dataframe\">\n",
       "  <thead>\n",
       "    <tr style=\"text-align: right;\">\n",
       "      <th></th>\n",
       "      <th>smiles</th>\n",
       "      <th>logBB</th>\n",
       "      <th>BBclass</th>\n",
       "    </tr>\n",
       "  </thead>\n",
       "  <tbody>\n",
       "    <tr>\n",
       "      <th>0</th>\n",
       "      <td>c1cc(F)ccc1Cn(c(c23)cccc2)c(n3)[C@@H]4CCCN(C)C4</td>\n",
       "      <td>0.43</td>\n",
       "      <td>1</td>\n",
       "    </tr>\n",
       "    <tr>\n",
       "      <th>1</th>\n",
       "      <td>CC1CCN(CC1)C(=O)c(c2)ccc3n(CC=C)c(c4c23)CCN(C4...</td>\n",
       "      <td>-0.13</td>\n",
       "      <td>0</td>\n",
       "    </tr>\n",
       "  </tbody>\n",
       "</table>\n",
       "</div>"
      ],
      "text/plain": [
       "                                              smiles  logBB  BBclass\n",
       "0    c1cc(F)ccc1Cn(c(c23)cccc2)c(n3)[C@@H]4CCCN(C)C4   0.43        1\n",
       "1  CC1CCN(CC1)C(=O)c(c2)ccc3n(CC=C)c(c4c23)CCN(C4...  -0.13        0"
      ]
     },
     "execution_count": 2,
     "metadata": {},
     "output_type": "execute_result"
    }
   ],
   "source": [
    "df = pd.read_csv('dataset/LightBBB_dataset/y_test_indices.csv')\n",
    "df.head(2)"
   ]
  },
  {
   "cell_type": "code",
   "execution_count": 3,
   "id": "suffering-nicholas",
   "metadata": {},
   "outputs": [],
   "source": [
    "def GetLarge(string):\n",
    "    List = string.split('.')\n",
    "    List = sorted(List, key=lambda x:len(x), reverse=True)\n",
    "    return List[0]"
   ]
  },
  {
   "cell_type": "code",
   "execution_count": 4,
   "id": "hawaiian-database",
   "metadata": {},
   "outputs": [
    {
     "name": "stderr",
     "output_type": "stream",
     "text": [
      "RDKit ERROR: [15:38:14] Explicit valence for atom # 1 N, 4, is greater than permitted\n",
      "RDKit ERROR: [15:38:14] Explicit valence for atom # 6 N, 4, is greater than permitted\n",
      "RDKit ERROR: [15:38:14] Explicit valence for atom # 6 N, 4, is greater than permitted\n",
      "RDKit ERROR: [15:38:14] Explicit valence for atom # 11 N, 4, is greater than permitted\n",
      "RDKit ERROR: [15:38:14] Explicit valence for atom # 12 N, 4, is greater than permitted\n",
      "RDKit ERROR: [15:38:14] Explicit valence for atom # 5 N, 4, is greater than permitted\n",
      "RDKit ERROR: [15:38:14] Explicit valence for atom # 5 N, 4, is greater than permitted\n",
      "RDKit ERROR: [15:38:14] Explicit valence for atom # 5 N, 4, is greater than permitted\n",
      "RDKit ERROR: [15:38:14] Explicit valence for atom # 5 N, 4, is greater than permitted\n",
      "RDKit ERROR: [15:38:14] Explicit valence for atom # 5 N, 4, is greater than permitted\n",
      "RDKit ERROR: [15:38:14] Explicit valence for atom # 5 N, 4, is greater than permitted\n",
      "RDKit ERROR: [15:38:15] Explicit valence for atom # 12 N, 4, is greater than permitted\n",
      "RDKit ERROR: [15:38:15] Explicit valence for atom # 5 N, 4, is greater than permitted\n",
      "RDKit ERROR: [15:38:15] Explicit valence for atom # 5 N, 4, is greater than permitted\n",
      "RDKit ERROR: [15:38:15] Explicit valence for atom # 5 N, 4, is greater than permitted\n",
      "RDKit ERROR: [15:38:15] Explicit valence for atom # 5 N, 4, is greater than permitted\n",
      "RDKit ERROR: [15:38:15] Explicit valence for atom # 5 N, 4, is greater than permitted\n",
      "RDKit ERROR: [15:38:15] Explicit valence for atom # 11 N, 4, is greater than permitted\n",
      "RDKit ERROR: [15:38:15] Explicit valence for atom # 5 N, 4, is greater than permitted\n",
      "RDKit ERROR: [15:38:16] Explicit valence for atom # 6 N, 4, is greater than permitted\n",
      "RDKit ERROR: [15:38:16] Explicit valence for atom # 0 C, 5, is greater than permitted\n"
     ]
    }
   ],
   "source": [
    "Check = []\n",
    "new_smile = []\n",
    "for i in df.smiles.tolist():\n",
    "    try:\n",
    "        mol = Chem.MolFromSmiles(GetLarge(i))\n",
    "        if mol is None:\n",
    "            Check.append(1)\n",
    "            new_smile.append(0)\n",
    "        else:\n",
    "            Check.append(2)\n",
    "            mol = remover.StripMol(mol, dontRemoveEverything=True)\n",
    "            new_smile.append(GetLarge(Chem.MolToSmiles(mol)))\n",
    "    except:\n",
    "        Check.append(0)\n",
    "        new_smile.append(0)"
   ]
  },
  {
   "cell_type": "code",
   "execution_count": 5,
   "id": "surface-buyer",
   "metadata": {},
   "outputs": [
    {
     "data": {
      "text/html": [
       "<div>\n",
       "<style scoped>\n",
       "    .dataframe tbody tr th:only-of-type {\n",
       "        vertical-align: middle;\n",
       "    }\n",
       "\n",
       "    .dataframe tbody tr th {\n",
       "        vertical-align: top;\n",
       "    }\n",
       "\n",
       "    .dataframe thead th {\n",
       "        text-align: right;\n",
       "    }\n",
       "</style>\n",
       "<table border=\"1\" class=\"dataframe\">\n",
       "  <thead>\n",
       "    <tr style=\"text-align: right;\">\n",
       "      <th></th>\n",
       "      <th>logBB</th>\n",
       "      <th>BBclass</th>\n",
       "      <th>Check</th>\n",
       "      <th>smiles</th>\n",
       "    </tr>\n",
       "  </thead>\n",
       "  <tbody>\n",
       "    <tr>\n",
       "      <th>0</th>\n",
       "      <td>0.43</td>\n",
       "      <td>1</td>\n",
       "      <td>2</td>\n",
       "      <td>CN1CCC[C@@H](c2nc3ccccc3n2Cc2ccc(F)cc2)C1</td>\n",
       "    </tr>\n",
       "    <tr>\n",
       "      <th>1</th>\n",
       "      <td>-0.13</td>\n",
       "      <td>0</td>\n",
       "      <td>2</td>\n",
       "      <td>C=CCn1c2c(c3cc(C(=O)N4CCC(C)CC4)ccc31)CN(CC1CC...</td>\n",
       "    </tr>\n",
       "  </tbody>\n",
       "</table>\n",
       "</div>"
      ],
      "text/plain": [
       "   logBB  BBclass  Check                                             smiles\n",
       "0   0.43        1      2          CN1CCC[C@@H](c2nc3ccccc3n2Cc2ccc(F)cc2)C1\n",
       "1  -0.13        0      2  C=CCn1c2c(c3cc(C(=O)N4CCC(C)CC4)ccc31)CN(CC1CC..."
      ]
     },
     "execution_count": 5,
     "metadata": {},
     "output_type": "execute_result"
    }
   ],
   "source": [
    "df['Check'] = pd.Series(Check, index=df.index)\n",
    "df['new_smile'] = pd.Series(new_smile, index=df.index)\n",
    "df = df[['logBB','BBclass','Check','new_smile']]\n",
    "df = df.rename(columns={\"new_smile\": \"smiles\"})\n",
    "df.head(2)"
   ]
  },
  {
   "cell_type": "code",
   "execution_count": 6,
   "id": "controlled-patch",
   "metadata": {},
   "outputs": [
    {
     "data": {
      "text/plain": [
       "(7162, 7141)"
      ]
     },
     "execution_count": 6,
     "metadata": {},
     "output_type": "execute_result"
    }
   ],
   "source": [
    "len(df), len(df.loc[df['Check']==2])"
   ]
  },
  {
   "cell_type": "code",
   "execution_count": 7,
   "id": "maritime-valley",
   "metadata": {},
   "outputs": [],
   "source": [
    "df = df.loc[df['Check']==2]"
   ]
  },
  {
   "cell_type": "code",
   "execution_count": 8,
   "id": "current-running",
   "metadata": {},
   "outputs": [],
   "source": [
    "def Check_duplicate_label(df):\n",
    "    duplicate = df[df.duplicated(['smiles'])]\n",
    "    dup_dict = {}\n",
    "    \n",
    "    for i,j in zip(duplicate['smiles'],duplicate['BBclass']):\n",
    "        if i not in dup_dict.keys():\n",
    "            dup_dict[i] = set()\n",
    "            dup_dict[i].add(j)\n",
    "        else:\n",
    "            dup_dict[i].add(j)\n",
    "            \n",
    "    inconsistent = [i for i, j in dup_dict.items() if len(j) > 1 ]\n",
    "    \n",
    "    return inconsistent"
   ]
  },
  {
   "cell_type": "code",
   "execution_count": 9,
   "id": "corrected-current",
   "metadata": {},
   "outputs": [
    {
     "data": {
      "text/plain": [
       "77"
      ]
     },
     "execution_count": 9,
     "metadata": {},
     "output_type": "execute_result"
    }
   ],
   "source": [
    "inconsistent = Check_duplicate_label(df)\n",
    "len(inconsistent)"
   ]
  },
  {
   "cell_type": "markdown",
   "id": "allied-alcohol",
   "metadata": {},
   "source": [
    "for example"
   ]
  },
  {
   "cell_type": "code",
   "execution_count": 10,
   "id": "optical-planning",
   "metadata": {},
   "outputs": [
    {
     "data": {
      "text/html": [
       "<div>\n",
       "<style scoped>\n",
       "    .dataframe tbody tr th:only-of-type {\n",
       "        vertical-align: middle;\n",
       "    }\n",
       "\n",
       "    .dataframe tbody tr th {\n",
       "        vertical-align: top;\n",
       "    }\n",
       "\n",
       "    .dataframe thead th {\n",
       "        text-align: right;\n",
       "    }\n",
       "</style>\n",
       "<table border=\"1\" class=\"dataframe\">\n",
       "  <thead>\n",
       "    <tr style=\"text-align: right;\">\n",
       "      <th></th>\n",
       "      <th>logBB</th>\n",
       "      <th>BBclass</th>\n",
       "      <th>Check</th>\n",
       "      <th>smiles</th>\n",
       "    </tr>\n",
       "  </thead>\n",
       "  <tbody>\n",
       "    <tr>\n",
       "      <th>1791</th>\n",
       "      <td>NaN</td>\n",
       "      <td>0</td>\n",
       "      <td>2</td>\n",
       "      <td>CCCCc1nc(Cl)c(CO)n1Cc1ccc(-c2ccccc2-c2nnn[nH]2...</td>\n",
       "    </tr>\n",
       "    <tr>\n",
       "      <th>5222</th>\n",
       "      <td>NaN</td>\n",
       "      <td>1</td>\n",
       "      <td>2</td>\n",
       "      <td>CCCCc1nc(Cl)c(CO)n1Cc1ccc(-c2ccccc2-c2nnn[nH]2...</td>\n",
       "    </tr>\n",
       "    <tr>\n",
       "      <th>6220</th>\n",
       "      <td>NaN</td>\n",
       "      <td>0</td>\n",
       "      <td>2</td>\n",
       "      <td>CCCCc1nc(Cl)c(CO)n1Cc1ccc(-c2ccccc2-c2nnn[nH]2...</td>\n",
       "    </tr>\n",
       "  </tbody>\n",
       "</table>\n",
       "</div>"
      ],
      "text/plain": [
       "      logBB  BBclass  Check                                             smiles\n",
       "1791    NaN        0      2  CCCCc1nc(Cl)c(CO)n1Cc1ccc(-c2ccccc2-c2nnn[nH]2...\n",
       "5222    NaN        1      2  CCCCc1nc(Cl)c(CO)n1Cc1ccc(-c2ccccc2-c2nnn[nH]2...\n",
       "6220    NaN        0      2  CCCCc1nc(Cl)c(CO)n1Cc1ccc(-c2ccccc2-c2nnn[nH]2..."
      ]
     },
     "execution_count": 10,
     "metadata": {},
     "output_type": "execute_result"
    }
   ],
   "source": [
    "df.loc[df['smiles']==inconsistent[-1]]"
   ]
  },
  {
   "cell_type": "code",
   "execution_count": 11,
   "id": "metallic-wrestling",
   "metadata": {},
   "outputs": [
    {
     "data": {
      "text/html": [
       "<div>\n",
       "<style scoped>\n",
       "    .dataframe tbody tr th:only-of-type {\n",
       "        vertical-align: middle;\n",
       "    }\n",
       "\n",
       "    .dataframe tbody tr th {\n",
       "        vertical-align: top;\n",
       "    }\n",
       "\n",
       "    .dataframe thead th {\n",
       "        text-align: right;\n",
       "    }\n",
       "</style>\n",
       "<table border=\"1\" class=\"dataframe\">\n",
       "  <thead>\n",
       "    <tr style=\"text-align: right;\">\n",
       "      <th></th>\n",
       "      <th>logBB</th>\n",
       "      <th>BBclass</th>\n",
       "      <th>Check</th>\n",
       "      <th>smiles</th>\n",
       "    </tr>\n",
       "  </thead>\n",
       "  <tbody>\n",
       "    <tr>\n",
       "      <th>2416</th>\n",
       "      <td>NaN</td>\n",
       "      <td>1</td>\n",
       "      <td>2</td>\n",
       "      <td>C[C@H]1COc2c(N3CCN(C)CC3)c(F)cc3c(=O)c(C(=O)O)...</td>\n",
       "    </tr>\n",
       "    <tr>\n",
       "      <th>4743</th>\n",
       "      <td>NaN</td>\n",
       "      <td>1</td>\n",
       "      <td>2</td>\n",
       "      <td>C[C@H]1COc2c(N3CCN(C)CC3)c(F)cc3c(=O)c(C(=O)O)...</td>\n",
       "    </tr>\n",
       "    <tr>\n",
       "      <th>6216</th>\n",
       "      <td>NaN</td>\n",
       "      <td>0</td>\n",
       "      <td>2</td>\n",
       "      <td>C[C@H]1COc2c(N3CCN(C)CC3)c(F)cc3c(=O)c(C(=O)O)...</td>\n",
       "    </tr>\n",
       "  </tbody>\n",
       "</table>\n",
       "</div>"
      ],
      "text/plain": [
       "      logBB  BBclass  Check                                             smiles\n",
       "2416    NaN        1      2  C[C@H]1COc2c(N3CCN(C)CC3)c(F)cc3c(=O)c(C(=O)O)...\n",
       "4743    NaN        1      2  C[C@H]1COc2c(N3CCN(C)CC3)c(F)cc3c(=O)c(C(=O)O)...\n",
       "6216    NaN        0      2  C[C@H]1COc2c(N3CCN(C)CC3)c(F)cc3c(=O)c(C(=O)O)..."
      ]
     },
     "execution_count": 11,
     "metadata": {},
     "output_type": "execute_result"
    }
   ],
   "source": [
    "df.loc[df['smiles']==inconsistent[-2]]"
   ]
  },
  {
   "cell_type": "markdown",
   "id": "previous-moral",
   "metadata": {},
   "source": [
    "So, drop duplicates and inconsistent cases"
   ]
  },
  {
   "cell_type": "code",
   "execution_count": 12,
   "id": "intended-region",
   "metadata": {},
   "outputs": [
    {
     "name": "stdout",
     "output_type": "stream",
     "text": [
      "After drop duplicates:  4507\n",
      "After drop inconsistent cases:  4430\n"
     ]
    }
   ],
   "source": [
    "df = df.drop_duplicates('smiles')\n",
    "print ('After drop duplicates: ',len(df))\n",
    "df = df.loc[~df['smiles'].isin(inconsistent)]\n",
    "print ('After drop inconsistent cases: ',len(df))"
   ]
  },
  {
   "cell_type": "code",
   "execution_count": 13,
   "id": "occasional-discipline",
   "metadata": {},
   "outputs": [],
   "source": [
    "df.to_csv('dataset/train_set.csv',index=False)"
   ]
  },
  {
   "cell_type": "markdown",
   "id": "economic-tamil",
   "metadata": {},
   "source": [
    "### 2. Similar curation for test set"
   ]
  },
  {
   "cell_type": "code",
   "execution_count": 14,
   "id": "worldwide-engineer",
   "metadata": {},
   "outputs": [
    {
     "data": {
      "text/html": [
       "<div>\n",
       "<style scoped>\n",
       "    .dataframe tbody tr th:only-of-type {\n",
       "        vertical-align: middle;\n",
       "    }\n",
       "\n",
       "    .dataframe tbody tr th {\n",
       "        vertical-align: top;\n",
       "    }\n",
       "\n",
       "    .dataframe thead th {\n",
       "        text-align: right;\n",
       "    }\n",
       "</style>\n",
       "<table border=\"1\" class=\"dataframe\">\n",
       "  <thead>\n",
       "    <tr style=\"text-align: right;\">\n",
       "      <th></th>\n",
       "      <th>smiles</th>\n",
       "      <th>logBB</th>\n",
       "      <th>BBclass</th>\n",
       "    </tr>\n",
       "  </thead>\n",
       "  <tbody>\n",
       "    <tr>\n",
       "      <th>0</th>\n",
       "      <td>CCCN(CCC)CCc1ccc(c2c1CC(N2)=C)O</td>\n",
       "      <td>NaN</td>\n",
       "      <td>1</td>\n",
       "    </tr>\n",
       "    <tr>\n",
       "      <th>1</th>\n",
       "      <td>c12c(C(c3ccccc3)=NCc3n1c(nn3)C)cc(Cl)cc2</td>\n",
       "      <td>NaN</td>\n",
       "      <td>1</td>\n",
       "    </tr>\n",
       "  </tbody>\n",
       "</table>\n",
       "</div>"
      ],
      "text/plain": [
       "                                      smiles  logBB  BBclass\n",
       "0           CCCN(CCC)CCc1ccc(c2c1CC(N2)=C)O     NaN        1\n",
       "1  c12c(C(c3ccccc3)=NCc3n1c(nn3)C)cc(Cl)cc2     NaN        1"
      ]
     },
     "execution_count": 14,
     "metadata": {},
     "output_type": "execute_result"
    }
   ],
   "source": [
    "df = pd.read_csv('dataset/LightBBB_dataset/y_indices_external.csv')\n",
    "df.head(2)"
   ]
  },
  {
   "cell_type": "code",
   "execution_count": 15,
   "id": "precise-toddler",
   "metadata": {},
   "outputs": [
    {
     "name": "stderr",
     "output_type": "stream",
     "text": [
      "RDKit ERROR: [15:38:31] Explicit valence for atom # 12 N, 4, is greater than permitted\n",
      "RDKit ERROR: [15:38:31] Explicit valence for atom # 4 O, 3, is greater than permitted\n",
      "RDKit ERROR: [15:38:31] Explicit valence for atom # 13 O, 3, is greater than permitted\n",
      "RDKit ERROR: [15:38:31] Explicit valence for atom # 14 N, 4, is greater than permitted\n"
     ]
    }
   ],
   "source": [
    "Check = []\n",
    "new_smile = []\n",
    "for i in df.smiles.tolist():\n",
    "    try:\n",
    "        mol = Chem.MolFromSmiles(GetLarge(i))\n",
    "        if mol is None:\n",
    "            Check.append(1)\n",
    "            new_smile.append(0)\n",
    "        else:\n",
    "            Check.append(2)\n",
    "            mol = remover.StripMol(mol, dontRemoveEverything=True)\n",
    "            new_smile.append(GetLarge(Chem.MolToSmiles(mol)))\n",
    "    except:\n",
    "        Check.append(0)\n",
    "        new_smile.append(0)"
   ]
  },
  {
   "cell_type": "code",
   "execution_count": 16,
   "id": "helpful-partnership",
   "metadata": {},
   "outputs": [
    {
     "name": "stdout",
     "output_type": "stream",
     "text": [
      "Before check smiles: 74\n",
      "After remove invalid smiles: 70\n"
     ]
    }
   ],
   "source": [
    "df['Check'] = pd.Series(Check, index=df.index)\n",
    "df['new_smile'] = pd.Series(new_smile, index=df.index)\n",
    "df = df[['logBB','BBclass','Check','new_smile']]\n",
    "df = df.rename(columns={\"new_smile\": \"smiles\"})\n",
    "print ('Before check smiles:', len(df))\n",
    "df = df.loc[df['Check']==2]\n",
    "print ('After remove invalid smiles:', len(df))"
   ]
  },
  {
   "cell_type": "code",
   "execution_count": 17,
   "id": "ranging-rhythm",
   "metadata": {},
   "outputs": [
    {
     "data": {
      "text/plain": [
       "0"
      ]
     },
     "execution_count": 17,
     "metadata": {},
     "output_type": "execute_result"
    }
   ],
   "source": [
    "inconsistent = Check_duplicate_label(df)\n",
    "len(inconsistent)"
   ]
  },
  {
   "cell_type": "code",
   "execution_count": 18,
   "id": "pharmaceutical-arthur",
   "metadata": {},
   "outputs": [
    {
     "data": {
      "text/plain": [
       "70"
      ]
     },
     "execution_count": 18,
     "metadata": {},
     "output_type": "execute_result"
    }
   ],
   "source": [
    "df = df.drop_duplicates('smiles')\n",
    "len(df)"
   ]
  },
  {
   "cell_type": "code",
   "execution_count": 19,
   "id": "ideal-stewart",
   "metadata": {},
   "outputs": [
    {
     "data": {
      "text/html": [
       "<div>\n",
       "<style scoped>\n",
       "    .dataframe tbody tr th:only-of-type {\n",
       "        vertical-align: middle;\n",
       "    }\n",
       "\n",
       "    .dataframe tbody tr th {\n",
       "        vertical-align: top;\n",
       "    }\n",
       "\n",
       "    .dataframe thead th {\n",
       "        text-align: right;\n",
       "    }\n",
       "</style>\n",
       "<table border=\"1\" class=\"dataframe\">\n",
       "  <thead>\n",
       "    <tr style=\"text-align: right;\">\n",
       "      <th></th>\n",
       "      <th>logBB</th>\n",
       "      <th>BBclass</th>\n",
       "      <th>Check</th>\n",
       "      <th>smiles</th>\n",
       "    </tr>\n",
       "  </thead>\n",
       "  <tbody>\n",
       "    <tr>\n",
       "      <th>0</th>\n",
       "      <td>NaN</td>\n",
       "      <td>1</td>\n",
       "      <td>2</td>\n",
       "      <td>C=C1Cc2c(CCN(CCC)CCC)ccc(O)c2N1</td>\n",
       "    </tr>\n",
       "    <tr>\n",
       "      <th>1</th>\n",
       "      <td>NaN</td>\n",
       "      <td>1</td>\n",
       "      <td>2</td>\n",
       "      <td>Cc1nnc2n1-c1ccc(Cl)cc1C(c1ccccc1)=NC2</td>\n",
       "    </tr>\n",
       "  </tbody>\n",
       "</table>\n",
       "</div>"
      ],
      "text/plain": [
       "   logBB  BBclass  Check                                 smiles\n",
       "0    NaN        1      2        C=C1Cc2c(CCN(CCC)CCC)ccc(O)c2N1\n",
       "1    NaN        1      2  Cc1nnc2n1-c1ccc(Cl)cc1C(c1ccccc1)=NC2"
      ]
     },
     "execution_count": 19,
     "metadata": {},
     "output_type": "execute_result"
    }
   ],
   "source": [
    "df.head(2)"
   ]
  },
  {
   "cell_type": "markdown",
   "id": "emerging-twist",
   "metadata": {},
   "source": [
    "remove overlaps with train set"
   ]
  },
  {
   "cell_type": "code",
   "execution_count": 20,
   "id": "helpful-thriller",
   "metadata": {},
   "outputs": [
    {
     "data": {
      "text/plain": [
       "33"
      ]
     },
     "execution_count": 20,
     "metadata": {},
     "output_type": "execute_result"
    }
   ],
   "source": [
    "ss = pd.read_csv('dataset/train_set.csv')\n",
    "df = df.loc[~df['smiles'].isin(ss.smiles.tolist())]\n",
    "len(df)"
   ]
  },
  {
   "cell_type": "code",
   "execution_count": 21,
   "id": "quarterly-confidentiality",
   "metadata": {},
   "outputs": [],
   "source": [
    "df.to_csv('dataset/test_set.csv',index=False)"
   ]
  },
  {
   "cell_type": "code",
   "execution_count": null,
   "id": "gross-catch",
   "metadata": {},
   "outputs": [],
   "source": []
  }
 ],
 "metadata": {
  "kernelspec": {
   "display_name": "Python 3",
   "language": "python",
   "name": "python3"
  },
  "language_info": {
   "codemirror_mode": {
    "name": "ipython",
    "version": 3
   },
   "file_extension": ".py",
   "mimetype": "text/x-python",
   "name": "python",
   "nbconvert_exporter": "python",
   "pygments_lexer": "ipython3",
   "version": "3.8.5"
  }
 },
 "nbformat": 4,
 "nbformat_minor": 5
}
