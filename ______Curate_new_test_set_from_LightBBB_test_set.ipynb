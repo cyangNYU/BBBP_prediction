{
 "cells": [
  {
   "cell_type": "code",
   "execution_count": 1,
   "id": "impaired-being",
   "metadata": {},
   "outputs": [],
   "source": [
    "import sys, os\n",
    "import numpy as np\n",
    "import pandas as pd\n",
    "from rdkit import Chem, DataStructs\n",
    "from rdkit.Chem import AllChem, rdFMCS, Descriptors, PandasTools,SaltRemover\n",
    "from rdkit.Chem import Draw\n",
    "from rdkit.Chem.Draw import IPythonConsole\n",
    "import matplotlib.pyplot as plt\n",
    "%matplotlib inline\n",
    "remover = SaltRemover.SaltRemover()"
   ]
  },
  {
   "cell_type": "markdown",
   "id": "pointed-premises",
   "metadata": {},
   "source": [
    "### 1. Check_smiles_and_remove_duplicates_for_test_set"
   ]
  },
  {
   "cell_type": "code",
   "execution_count": 2,
   "id": "overall-respondent",
   "metadata": {},
   "outputs": [],
   "source": [
    "def GetLarge(string):\n",
    "    List = string.split('.')\n",
    "    List = sorted(List, key=lambda x:len(x), reverse=True)\n",
    "    return List[0]"
   ]
  },
  {
   "cell_type": "code",
   "execution_count": 3,
   "id": "expected-secret",
   "metadata": {},
   "outputs": [],
   "source": [
    "def Check_duplicate_label(df):\n",
    "    duplicate = df[df.duplicated(['smiles'])]\n",
    "    dup_dict = {}\n",
    "    \n",
    "    for i,j in zip(duplicate['smiles'],duplicate['BBclass']):\n",
    "        if i not in dup_dict.keys():\n",
    "            dup_dict[i] = set()\n",
    "            dup_dict[i].add(j)\n",
    "        else:\n",
    "            dup_dict[i].add(j)\n",
    "            \n",
    "    inconsistent = [i for i, j in dup_dict.items() if len(j) > 1 ]\n",
    "    \n",
    "    return inconsistent"
   ]
  },
  {
   "cell_type": "code",
   "execution_count": 4,
   "id": "environmental-enforcement",
   "metadata": {},
   "outputs": [
    {
     "data": {
      "text/html": [
       "<div>\n",
       "<style scoped>\n",
       "    .dataframe tbody tr th:only-of-type {\n",
       "        vertical-align: middle;\n",
       "    }\n",
       "\n",
       "    .dataframe tbody tr th {\n",
       "        vertical-align: top;\n",
       "    }\n",
       "\n",
       "    .dataframe thead th {\n",
       "        text-align: right;\n",
       "    }\n",
       "</style>\n",
       "<table border=\"1\" class=\"dataframe\">\n",
       "  <thead>\n",
       "    <tr style=\"text-align: right;\">\n",
       "      <th></th>\n",
       "      <th>smiles</th>\n",
       "      <th>logBB</th>\n",
       "      <th>BBclass</th>\n",
       "    </tr>\n",
       "  </thead>\n",
       "  <tbody>\n",
       "    <tr>\n",
       "      <th>0</th>\n",
       "      <td>CCCN(CCC)CCc1ccc(c2c1CC(N2)=C)O</td>\n",
       "      <td>NaN</td>\n",
       "      <td>1</td>\n",
       "    </tr>\n",
       "    <tr>\n",
       "      <th>1</th>\n",
       "      <td>c12c(C(c3ccccc3)=NCc3n1c(nn3)C)cc(Cl)cc2</td>\n",
       "      <td>NaN</td>\n",
       "      <td>1</td>\n",
       "    </tr>\n",
       "  </tbody>\n",
       "</table>\n",
       "</div>"
      ],
      "text/plain": [
       "                                      smiles  logBB  BBclass\n",
       "0           CCCN(CCC)CCc1ccc(c2c1CC(N2)=C)O     NaN        1\n",
       "1  c12c(C(c3ccccc3)=NCc3n1c(nn3)C)cc(Cl)cc2     NaN        1"
      ]
     },
     "execution_count": 4,
     "metadata": {},
     "output_type": "execute_result"
    }
   ],
   "source": [
    "df = pd.read_csv('dataset/LightBBB_dataset/y_indices_external.csv')\n",
    "df.head(2)"
   ]
  },
  {
   "cell_type": "code",
   "execution_count": 5,
   "id": "optimum-integration",
   "metadata": {},
   "outputs": [
    {
     "name": "stderr",
     "output_type": "stream",
     "text": [
      "RDKit ERROR: [00:25:16] Explicit valence for atom # 12 N, 4, is greater than permitted\n",
      "RDKit ERROR: [00:25:16] Explicit valence for atom # 4 O, 3, is greater than permitted\n",
      "RDKit ERROR: [00:25:16] Explicit valence for atom # 13 O, 3, is greater than permitted\n",
      "RDKit ERROR: [00:25:16] Explicit valence for atom # 14 N, 4, is greater than permitted\n"
     ]
    }
   ],
   "source": [
    "Check = []\n",
    "new_smile = []\n",
    "for i in df.smiles.tolist():\n",
    "    try:\n",
    "        mol = Chem.MolFromSmiles(GetLarge(i))\n",
    "        if mol is None:\n",
    "            Check.append(1)\n",
    "            new_smile.append(0)\n",
    "        else:\n",
    "            Check.append(2)\n",
    "            mol = remover.StripMol(mol, dontRemoveEverything=True)\n",
    "            new_smile.append(GetLarge(Chem.MolToSmiles(mol)))\n",
    "    except:\n",
    "        Check.append(0)\n",
    "        new_smile.append(0)"
   ]
  },
  {
   "cell_type": "code",
   "execution_count": 6,
   "id": "practical-activation",
   "metadata": {},
   "outputs": [
    {
     "name": "stdout",
     "output_type": "stream",
     "text": [
      "Before check smiles: 74\n",
      "After remove invalid smiles: 70\n"
     ]
    }
   ],
   "source": [
    "df['Check'] = pd.Series(Check, index=df.index)\n",
    "df['new_smile'] = pd.Series(new_smile, index=df.index)\n",
    "df = df[['logBB','BBclass','Check','new_smile']]\n",
    "df = df.rename(columns={\"new_smile\": \"smiles\"})\n",
    "print ('Before check smiles:', len(df))\n",
    "df = df.loc[df['Check']==2]\n",
    "print ('After remove invalid smiles:', len(df))"
   ]
  },
  {
   "cell_type": "code",
   "execution_count": 7,
   "id": "robust-probe",
   "metadata": {},
   "outputs": [
    {
     "data": {
      "text/plain": [
       "0"
      ]
     },
     "execution_count": 7,
     "metadata": {},
     "output_type": "execute_result"
    }
   ],
   "source": [
    "inconsistent = Check_duplicate_label(df)\n",
    "len(inconsistent)"
   ]
  },
  {
   "cell_type": "code",
   "execution_count": 8,
   "id": "vertical-order",
   "metadata": {},
   "outputs": [
    {
     "data": {
      "text/plain": [
       "70"
      ]
     },
     "execution_count": 8,
     "metadata": {},
     "output_type": "execute_result"
    }
   ],
   "source": [
    "df = df.drop_duplicates('smiles')\n",
    "len(df)"
   ]
  },
  {
   "cell_type": "markdown",
   "id": "exclusive-latin",
   "metadata": {},
   "source": [
    "remove overlaps with train_set_2.csv"
   ]
  },
  {
   "cell_type": "code",
   "execution_count": 9,
   "id": "interstate-cookie",
   "metadata": {},
   "outputs": [
    {
     "data": {
      "text/plain": [
       "44"
      ]
     },
     "execution_count": 9,
     "metadata": {},
     "output_type": "execute_result"
    }
   ],
   "source": [
    "ss = pd.read_csv('dataset/train_set_2.csv')\n",
    "df = df.loc[~df['smiles'].isin(ss.smiles.tolist())]\n",
    "len(df)"
   ]
  },
  {
   "cell_type": "code",
   "execution_count": 10,
   "id": "satisfied-guest",
   "metadata": {},
   "outputs": [],
   "source": [
    "df.to_csv('dataset/test_set_2.csv',index=False)"
   ]
  },
  {
   "cell_type": "markdown",
   "id": "ceramic-manitoba",
   "metadata": {},
   "source": [
    "### 2. Calculate 1D and 2D molecular descriptors"
   ]
  },
  {
   "cell_type": "code",
   "execution_count": 11,
   "id": "concerned-transsexual",
   "metadata": {},
   "outputs": [
    {
     "data": {
      "text/plain": [
       "208"
      ]
     },
     "execution_count": 11,
     "metadata": {},
     "output_type": "execute_result"
    }
   ],
   "source": [
    "from rdkit.ML.Cluster import Butina\n",
    "from rdkit.ML.Descriptors.MoleculeDescriptors import MolecularDescriptorCalculator\n",
    "\n",
    "Total_descriptors = [x[0] for x in Descriptors._descList]\n",
    "len(Total_descriptors)"
   ]
  },
  {
   "cell_type": "code",
   "execution_count": 12,
   "id": "organic-clerk",
   "metadata": {},
   "outputs": [],
   "source": [
    "DescCalc = MolecularDescriptorCalculator(Total_descriptors)\n",
    "\n",
    "def GetRDKitDescriptors(smile):\n",
    "# Function for the calculation of ligand descriptors\n",
    "    mol = Chem.MolFromSmiles(smile)\n",
    "    mol.UpdatePropertyCache(strict=False)\n",
    "    Chem.GetSymmSSSR(mol)\n",
    "    return DescCalc.CalcDescriptors(mol)"
   ]
  },
  {
   "cell_type": "code",
   "execution_count": 13,
   "id": "architectural-enzyme",
   "metadata": {},
   "outputs": [],
   "source": [
    "df = pd.read_csv('dataset/test_set_2.csv')\n",
    "\n",
    "Features = []\n",
    "\n",
    "for i in df.smiles.tolist():\n",
    "    Features.append(GetRDKitDescriptors(i))\n",
    "    \n",
    "ss = pd.DataFrame(Features, columns=Total_descriptors)\n",
    "df = pd.concat([df,ss], axis=1, ignore_index=False)\n",
    "df.to_csv('dataset/feature_set/test_set_2.csv', index=False)"
   ]
  },
  {
   "cell_type": "code",
   "execution_count": null,
   "id": "forbidden-constitutional",
   "metadata": {},
   "outputs": [],
   "source": []
  },
  {
   "cell_type": "markdown",
   "id": "alike-electricity",
   "metadata": {},
   "source": [
    "### 3. Calculate_MorganFingerprint"
   ]
  },
  {
   "cell_type": "code",
   "execution_count": 14,
   "id": "compatible-weapon",
   "metadata": {},
   "outputs": [],
   "source": [
    "def Cal_fp(smile):\n",
    "    fp = AllChem.GetMorganFingerprintAsBitVect(Chem.MolFromSmiles(smile),3)\n",
    "    \n",
    "    return list(map(int, fp.ToBitString()))\n",
    "\n",
    "columns = ['MFP_%d'%(i+1) for i in range(2048)]"
   ]
  },
  {
   "cell_type": "code",
   "execution_count": 15,
   "id": "handed-rough",
   "metadata": {},
   "outputs": [],
   "source": [
    "df = pd.read_csv('dataset/feature_set/test_set_2.csv')\n",
    "\n",
    "Features = []\n",
    "for i in df.smiles.tolist():\n",
    "    Features.append(Cal_fp(i))\n",
    "ss = pd.DataFrame(Features, columns=columns)\n",
    "df = pd.concat([df,ss], axis=1, ignore_index=False)\n",
    "\n",
    "df.to_csv('dataset/feature_set_all/test_set_2.csv', index=False)"
   ]
  },
  {
   "cell_type": "code",
   "execution_count": null,
   "id": "circular-central",
   "metadata": {},
   "outputs": [],
   "source": []
  }
 ],
 "metadata": {
  "kernelspec": {
   "display_name": "Python 3",
   "language": "python",
   "name": "python3"
  },
  "language_info": {
   "codemirror_mode": {
    "name": "ipython",
    "version": 3
   },
   "file_extension": ".py",
   "mimetype": "text/x-python",
   "name": "python",
   "nbconvert_exporter": "python",
   "pygments_lexer": "ipython3",
   "version": "3.8.5"
  }
 },
 "nbformat": 4,
 "nbformat_minor": 5
}
