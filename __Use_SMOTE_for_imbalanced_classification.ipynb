{
 "cells": [
  {
   "cell_type": "code",
   "execution_count": 1,
   "id": "impaired-player",
   "metadata": {},
   "outputs": [],
   "source": [
    "import pandas as pd\n",
    "import numpy as np\n",
    "import time, random\n",
    "import matplotlib.pyplot as plt\n",
    "from imblearn.over_sampling import SMOTE\n",
    "from imblearn.over_sampling import BorderlineSMOTE\n",
    "from imblearn.under_sampling import RandomUnderSampler\n",
    "from xgboost import XGBClassifier\n",
    "from lightgbm import LGBMClassifier\n",
    "from sklearn.dummy import DummyClassifier\n",
    "from sklearn.neighbors import KNeighborsClassifier\n",
    "from sklearn.tree import DecisionTreeClassifier\n",
    "from sklearn.ensemble import RandomForestClassifier\n",
    "from sklearn.ensemble import AdaBoostClassifier\n",
    "from sklearn.ensemble import GradientBoostingClassifier\n",
    "from sklearn.naive_bayes import GaussianNB\n",
    "from sklearn.linear_model import LogisticRegression\n",
    "from sklearn.model_selection import RepeatedStratifiedKFold\n",
    "from sklearn.model_selection import cross_val_score\n",
    "from sklearn.model_selection import train_test_split\n",
    "from sklearn.metrics import classification_report\n",
    "from sklearn.metrics import confusion_matrix\n",
    "from sklearn.metrics import f1_score\n",
    "from sklearn.metrics import accuracy_score\n",
    "from sklearn.metrics import roc_auc_score\n",
    "from sklearn.metrics import precision_score\n",
    "from sklearn.metrics import recall_score\n",
    "from sklearn.metrics import average_precision_score\n",
    "from sklearn.metrics import precision_recall_curve\n",
    "from sklearn.metrics import make_scorer"
   ]
  },
  {
   "cell_type": "code",
   "execution_count": 2,
   "id": "above-trial",
   "metadata": {},
   "outputs": [
    {
     "data": {
      "text/html": [
       "<div>\n",
       "<style scoped>\n",
       "    .dataframe tbody tr th:only-of-type {\n",
       "        vertical-align: middle;\n",
       "    }\n",
       "\n",
       "    .dataframe tbody tr th {\n",
       "        vertical-align: top;\n",
       "    }\n",
       "\n",
       "    .dataframe thead th {\n",
       "        text-align: right;\n",
       "    }\n",
       "</style>\n",
       "<table border=\"1\" class=\"dataframe\">\n",
       "  <thead>\n",
       "    <tr style=\"text-align: right;\">\n",
       "      <th></th>\n",
       "      <th>num</th>\n",
       "      <th>name</th>\n",
       "      <th>BBclass</th>\n",
       "      <th>Check</th>\n",
       "      <th>smiles</th>\n",
       "      <th>MaxEStateIndex</th>\n",
       "      <th>MinEStateIndex</th>\n",
       "      <th>MaxAbsEStateIndex</th>\n",
       "      <th>MinAbsEStateIndex</th>\n",
       "      <th>qed</th>\n",
       "      <th>...</th>\n",
       "      <th>MFP_2039</th>\n",
       "      <th>MFP_2040</th>\n",
       "      <th>MFP_2041</th>\n",
       "      <th>MFP_2042</th>\n",
       "      <th>MFP_2043</th>\n",
       "      <th>MFP_2044</th>\n",
       "      <th>MFP_2045</th>\n",
       "      <th>MFP_2046</th>\n",
       "      <th>MFP_2047</th>\n",
       "      <th>MFP_2048</th>\n",
       "    </tr>\n",
       "  </thead>\n",
       "  <tbody>\n",
       "    <tr>\n",
       "      <th>0</th>\n",
       "      <td>1</td>\n",
       "      <td>Propanolol</td>\n",
       "      <td>1</td>\n",
       "      <td>2</td>\n",
       "      <td>CC(C)NCC(O)COc1cccc2ccccc12</td>\n",
       "      <td>9.843954</td>\n",
       "      <td>-0.498733</td>\n",
       "      <td>9.843954</td>\n",
       "      <td>0.299333</td>\n",
       "      <td>0.837506</td>\n",
       "      <td>...</td>\n",
       "      <td>1</td>\n",
       "      <td>0</td>\n",
       "      <td>0</td>\n",
       "      <td>0</td>\n",
       "      <td>0</td>\n",
       "      <td>0</td>\n",
       "      <td>0</td>\n",
       "      <td>0</td>\n",
       "      <td>0</td>\n",
       "      <td>0</td>\n",
       "    </tr>\n",
       "    <tr>\n",
       "      <th>1</th>\n",
       "      <td>2</td>\n",
       "      <td>Terbutylchlorambucil</td>\n",
       "      <td>1</td>\n",
       "      <td>2</td>\n",
       "      <td>CC(C)(C)OC(=O)CCCc1ccc(N(CCCl)CCCl)cc1</td>\n",
       "      <td>11.682268</td>\n",
       "      <td>-0.409691</td>\n",
       "      <td>11.682268</td>\n",
       "      <td>0.134704</td>\n",
       "      <td>0.474821</td>\n",
       "      <td>...</td>\n",
       "      <td>0</td>\n",
       "      <td>0</td>\n",
       "      <td>0</td>\n",
       "      <td>0</td>\n",
       "      <td>0</td>\n",
       "      <td>0</td>\n",
       "      <td>0</td>\n",
       "      <td>0</td>\n",
       "      <td>0</td>\n",
       "      <td>0</td>\n",
       "    </tr>\n",
       "  </tbody>\n",
       "</table>\n",
       "<p>2 rows × 2261 columns</p>\n",
       "</div>"
      ],
      "text/plain": [
       "   num                  name  BBclass  Check  \\\n",
       "0    1            Propanolol        1      2   \n",
       "1    2  Terbutylchlorambucil        1      2   \n",
       "\n",
       "                                   smiles  MaxEStateIndex  MinEStateIndex  \\\n",
       "0             CC(C)NCC(O)COc1cccc2ccccc12        9.843954       -0.498733   \n",
       "1  CC(C)(C)OC(=O)CCCc1ccc(N(CCCl)CCCl)cc1       11.682268       -0.409691   \n",
       "\n",
       "   MaxAbsEStateIndex  MinAbsEStateIndex       qed  ...  MFP_2039  MFP_2040  \\\n",
       "0           9.843954           0.299333  0.837506  ...         1         0   \n",
       "1          11.682268           0.134704  0.474821  ...         0         0   \n",
       "\n",
       "   MFP_2041  MFP_2042  MFP_2043  MFP_2044  MFP_2045  MFP_2046  MFP_2047  \\\n",
       "0         0         0         0         0         0         0         0   \n",
       "1         0         0         0         0         0         0         0   \n",
       "\n",
       "   MFP_2048  \n",
       "0         0  \n",
       "1         0  \n",
       "\n",
       "[2 rows x 2261 columns]"
      ]
     },
     "execution_count": 2,
     "metadata": {},
     "output_type": "execute_result"
    }
   ],
   "source": [
    "df = pd.read_csv('dataset/feature_set_all/train_set_2.csv')\n",
    "df[df.select_dtypes(np.float64).columns] = df.select_dtypes(np.float64).astype(np.float32)\n",
    "df.head(2)"
   ]
  },
  {
   "cell_type": "code",
   "execution_count": 3,
   "id": "residential-kentucky",
   "metadata": {},
   "outputs": [
    {
     "data": {
      "text/plain": [
       "(['Ipc'], 1)"
      ]
     },
     "execution_count": 3,
     "metadata": {},
     "output_type": "execute_result"
    }
   ],
   "source": [
    "columns = df.columns.to_numpy()\n",
    "check_features = columns[df.isin([np.inf, -np.inf, np.NaN]).any(axis=0).to_numpy()].tolist()\n",
    "check_features, len(check_features)"
   ]
  },
  {
   "cell_type": "code",
   "execution_count": 4,
   "id": "upset-canvas",
   "metadata": {},
   "outputs": [
    {
     "data": {
      "text/plain": [
       "1351"
      ]
     },
     "execution_count": 4,
     "metadata": {},
     "output_type": "execute_result"
    }
   ],
   "source": [
    "lowVar_features = df.std()[df.std() < 0.14].index.tolist()\n",
    "len(lowVar_features)"
   ]
  },
  {
   "cell_type": "code",
   "execution_count": 5,
   "id": "seasonal-grass",
   "metadata": {},
   "outputs": [
    {
     "data": {
      "text/plain": [
       "743"
      ]
     },
     "execution_count": 5,
     "metadata": {},
     "output_type": "execute_result"
    }
   ],
   "source": [
    "#features = [x[0] for x in Descriptors._descList]\n",
    "Fingerprints = ['MFP_%d'%(i+1) for i in range(2048)]\n",
    "descriptors = ['HeavyAtomMolWt','NHOHCount','NOCount','RingCount']\n",
    "features = Fingerprints + descriptors\n",
    "features = [x for x in features if x not in check_features+lowVar_features]\n",
    "len(features)"
   ]
  },
  {
   "cell_type": "code",
   "execution_count": 6,
   "id": "printable-pacific",
   "metadata": {},
   "outputs": [
    {
     "data": {
      "text/plain": [
       "1    1492\n",
       "0     462\n",
       "Name: BBclass, dtype: int64"
      ]
     },
     "execution_count": 6,
     "metadata": {},
     "output_type": "execute_result"
    }
   ],
   "source": [
    "df.BBclass.value_counts()"
   ]
  },
  {
   "cell_type": "code",
   "execution_count": 7,
   "id": "dangerous-australian",
   "metadata": {},
   "outputs": [],
   "source": [
    "X = np.c_[df[features]]\n",
    "y = np.c_[df['BBclass']]\n",
    "\n",
    "X_train, X_test, y_train, y_test = train_test_split(X, y, \n",
    "                                                    test_size=0.3, \n",
    "                                                    random_state=0, \n",
    "                                                    shuffle=True, \n",
    "                                                    stratify=y)"
   ]
  },
  {
   "cell_type": "code",
   "execution_count": 8,
   "id": "decent-freedom",
   "metadata": {},
   "outputs": [],
   "source": [
    "random_state = 0\n",
    "classifiers = {\n",
    "    \"DummyClassifier_most_frequent\": DummyClassifier(strategy='most_frequent', random_state=random_state),\n",
    "    \"LogisticRegression\": LogisticRegression(solver = 'lbfgs', max_iter=5000,random_state=random_state),\n",
    "    \"LGBMClassifier\": LGBMClassifier(random_state=random_state),\n",
    "    \"XGBClassifier\": XGBClassifier(eval_metric='mlogloss',use_label_encoder=False,random_state=random_state),\n",
    "    \"KNeighborsClassifier\": KNeighborsClassifier(3),    \n",
    "    \"DecisionTreeClassifier\": DecisionTreeClassifier(random_state=random_state),\n",
    "    \"RandomForestClassifier\": RandomForestClassifier(random_state=random_state),\n",
    "    \"AdaBoostClassifier\": AdaBoostClassifier(random_state=random_state),\n",
    "    \"GradientBoostingClassifier\": GradientBoostingClassifier(random_state=random_state),\n",
    "    \"GaussianNB\": GaussianNB(),\n",
    "}"
   ]
  },
  {
   "cell_type": "code",
   "execution_count": 9,
   "id": "undefined-spotlight",
   "metadata": {},
   "outputs": [
    {
     "name": "stdout",
     "output_type": "stream",
     "text": [
      "* DummyClassifier_most_frequent\n",
      "* LogisticRegression\n",
      "* LGBMClassifier\n",
      "* XGBClassifier\n",
      "* KNeighborsClassifier\n",
      "* DecisionTreeClassifier\n",
      "* RandomForestClassifier\n",
      "* AdaBoostClassifier\n",
      "* GradientBoostingClassifier\n",
      "* GaussianNB\n"
     ]
    }
   ],
   "source": [
    "df_models = pd.DataFrame(columns=['model', 'run_time', 'avg_pre', 'avg_pre_std'])\n",
    "\n",
    "for key in classifiers:\n",
    "\n",
    "    print('*',key)\n",
    "\n",
    "    start_time = time.time()\n",
    "\n",
    "    classifier = classifiers[key]\n",
    "    model = classifier.fit(X_train, y_train.ravel())\n",
    "    cv = RepeatedStratifiedKFold(n_splits=10, n_repeats=5, random_state=10)\n",
    "    scorer = make_scorer(average_precision_score)\n",
    "    cv_scores = cross_val_score(model, X_test, y_test.ravel(), cv=5, scoring=scorer)\n",
    "    y_pred = model.predict(X_test)\n",
    "\n",
    "    row = {'model': key,\n",
    "           'run_time': format(round((time.time() - start_time)/60,2)),\n",
    "           'avg_pre': cv_scores.mean(),\n",
    "           'avg_pre_std': cv_scores.std(),\n",
    "    }\n",
    "\n",
    "    df_models = df_models.append(row, ignore_index=True)"
   ]
  },
  {
   "cell_type": "code",
   "execution_count": 10,
   "id": "parliamentary-central",
   "metadata": {},
   "outputs": [
    {
     "data": {
      "text/html": [
       "<div>\n",
       "<style scoped>\n",
       "    .dataframe tbody tr th:only-of-type {\n",
       "        vertical-align: middle;\n",
       "    }\n",
       "\n",
       "    .dataframe tbody tr th {\n",
       "        vertical-align: top;\n",
       "    }\n",
       "\n",
       "    .dataframe thead th {\n",
       "        text-align: right;\n",
       "    }\n",
       "</style>\n",
       "<table border=\"1\" class=\"dataframe\">\n",
       "  <thead>\n",
       "    <tr style=\"text-align: right;\">\n",
       "      <th></th>\n",
       "      <th>model</th>\n",
       "      <th>run_time</th>\n",
       "      <th>avg_pre</th>\n",
       "      <th>avg_pre_std</th>\n",
       "    </tr>\n",
       "  </thead>\n",
       "  <tbody>\n",
       "    <tr>\n",
       "      <th>3</th>\n",
       "      <td>XGBClassifier</td>\n",
       "      <td>0.08</td>\n",
       "      <td>0.893089</td>\n",
       "      <td>0.015010</td>\n",
       "    </tr>\n",
       "    <tr>\n",
       "      <th>1</th>\n",
       "      <td>LogisticRegression</td>\n",
       "      <td>0.08</td>\n",
       "      <td>0.885455</td>\n",
       "      <td>0.014878</td>\n",
       "    </tr>\n",
       "    <tr>\n",
       "      <th>2</th>\n",
       "      <td>LGBMClassifier</td>\n",
       "      <td>0.01</td>\n",
       "      <td>0.884734</td>\n",
       "      <td>0.018125</td>\n",
       "    </tr>\n",
       "    <tr>\n",
       "      <th>8</th>\n",
       "      <td>GradientBoostingClassifier</td>\n",
       "      <td>0.08</td>\n",
       "      <td>0.877663</td>\n",
       "      <td>0.013571</td>\n",
       "    </tr>\n",
       "    <tr>\n",
       "      <th>6</th>\n",
       "      <td>RandomForestClassifier</td>\n",
       "      <td>0.03</td>\n",
       "      <td>0.873748</td>\n",
       "      <td>0.015181</td>\n",
       "    </tr>\n",
       "    <tr>\n",
       "      <th>5</th>\n",
       "      <td>DecisionTreeClassifier</td>\n",
       "      <td>0.01</td>\n",
       "      <td>0.871660</td>\n",
       "      <td>0.017780</td>\n",
       "    </tr>\n",
       "    <tr>\n",
       "      <th>7</th>\n",
       "      <td>AdaBoostClassifier</td>\n",
       "      <td>0.03</td>\n",
       "      <td>0.856581</td>\n",
       "      <td>0.012444</td>\n",
       "    </tr>\n",
       "    <tr>\n",
       "      <th>4</th>\n",
       "      <td>KNeighborsClassifier</td>\n",
       "      <td>0.0</td>\n",
       "      <td>0.838484</td>\n",
       "      <td>0.019713</td>\n",
       "    </tr>\n",
       "    <tr>\n",
       "      <th>9</th>\n",
       "      <td>GaussianNB</td>\n",
       "      <td>0.0</td>\n",
       "      <td>0.806414</td>\n",
       "      <td>0.015148</td>\n",
       "    </tr>\n",
       "    <tr>\n",
       "      <th>0</th>\n",
       "      <td>DummyClassifier_most_frequent</td>\n",
       "      <td>0.0</td>\n",
       "      <td>0.763204</td>\n",
       "      <td>0.003147</td>\n",
       "    </tr>\n",
       "  </tbody>\n",
       "</table>\n",
       "</div>"
      ],
      "text/plain": [
       "                           model run_time   avg_pre  avg_pre_std\n",
       "3                  XGBClassifier     0.08  0.893089     0.015010\n",
       "1             LogisticRegression     0.08  0.885455     0.014878\n",
       "2                 LGBMClassifier     0.01  0.884734     0.018125\n",
       "8     GradientBoostingClassifier     0.08  0.877663     0.013571\n",
       "6         RandomForestClassifier     0.03  0.873748     0.015181\n",
       "5         DecisionTreeClassifier     0.01  0.871660     0.017780\n",
       "7             AdaBoostClassifier     0.03  0.856581     0.012444\n",
       "4           KNeighborsClassifier      0.0  0.838484     0.019713\n",
       "9                     GaussianNB      0.0  0.806414     0.015148\n",
       "0  DummyClassifier_most_frequent      0.0  0.763204     0.003147"
      ]
     },
     "execution_count": 10,
     "metadata": {},
     "output_type": "execute_result"
    }
   ],
   "source": [
    "df_models.sort_values(by='avg_pre', ascending=False)"
   ]
  },
  {
   "cell_type": "markdown",
   "id": "african-suggestion",
   "metadata": {},
   "source": [
    "As XGB Classifier is the best one, let's take a look at other metrics of XGB Classifier"
   ]
  },
  {
   "cell_type": "code",
   "execution_count": 11,
   "id": "romance-mongolia",
   "metadata": {},
   "outputs": [
    {
     "data": {
      "text/html": [
       "<div>\n",
       "<style scoped>\n",
       "    .dataframe tbody tr th:only-of-type {\n",
       "        vertical-align: middle;\n",
       "    }\n",
       "\n",
       "    .dataframe tbody tr th {\n",
       "        vertical-align: top;\n",
       "    }\n",
       "\n",
       "    .dataframe thead th {\n",
       "        text-align: right;\n",
       "    }\n",
       "</style>\n",
       "<table border=\"1\" class=\"dataframe\">\n",
       "  <thead>\n",
       "    <tr style=\"text-align: right;\">\n",
       "      <th></th>\n",
       "      <th>model</th>\n",
       "      <th>tp</th>\n",
       "      <th>tn</th>\n",
       "      <th>fp</th>\n",
       "      <th>fn</th>\n",
       "      <th>correct</th>\n",
       "      <th>incorrect</th>\n",
       "      <th>accuracy</th>\n",
       "      <th>precision</th>\n",
       "      <th>recall</th>\n",
       "      <th>f1</th>\n",
       "      <th>roc_auc</th>\n",
       "      <th>avg_pre</th>\n",
       "    </tr>\n",
       "  </thead>\n",
       "  <tbody>\n",
       "    <tr>\n",
       "      <th>0</th>\n",
       "      <td>XGBClassifier without SMOTE</td>\n",
       "      <td>434</td>\n",
       "      <td>85</td>\n",
       "      <td>54</td>\n",
       "      <td>14</td>\n",
       "      <td>519</td>\n",
       "      <td>68</td>\n",
       "      <td>0.884</td>\n",
       "      <td>0.889</td>\n",
       "      <td>0.969</td>\n",
       "      <td>0.927</td>\n",
       "      <td>0.79</td>\n",
       "      <td>0.885</td>\n",
       "    </tr>\n",
       "  </tbody>\n",
       "</table>\n",
       "</div>"
      ],
      "text/plain": [
       "                         model   tp  tn  fp  fn correct incorrect  accuracy  \\\n",
       "0  XGBClassifier without SMOTE  434  85  54  14     519        68     0.884   \n",
       "\n",
       "   precision  recall     f1  roc_auc  avg_pre  \n",
       "0      0.889   0.969  0.927     0.79    0.885  "
      ]
     },
     "execution_count": 11,
     "metadata": {},
     "output_type": "execute_result"
    }
   ],
   "source": [
    "df_result = pd.DataFrame(columns=['model', 'tp', 'tn', 'fp', 'fn', 'correct', 'incorrect',\n",
    "                                  'accuracy', 'precision', 'recall', 'f1', 'roc_auc','avg_pre'])\n",
    "\n",
    "classifier = XGBClassifier(eval_metric='mlogloss',use_label_encoder=False,random_state=random_state)\n",
    "model = classifier.fit(X_train, y_train)\n",
    "y_pred = model.predict(X_test)\n",
    "\n",
    "tn, fp, fn, tp = confusion_matrix(y_test, y_pred).ravel()\n",
    "accuracy = accuracy_score(y_test, y_pred)\n",
    "precision = precision_score(y_test, y_pred)\n",
    "recall = recall_score(y_test, y_pred)\n",
    "f1 = f1_score(y_test, y_pred)\n",
    "roc_auc = roc_auc_score(y_test, y_pred)\n",
    "avg_precision = average_precision_score(y_test, y_pred)\n",
    "\n",
    "row = {'model': 'XGBClassifier without SMOTE',\n",
    "        'tp': tp,\n",
    "        'tn': tn,\n",
    "        'fp': fp,\n",
    "        'fn': fn,\n",
    "        'correct': tp+tn,\n",
    "        'incorrect': fp+fn,\n",
    "        'accuracy': round(accuracy,3),\n",
    "        'precision': round(precision,3),\n",
    "        'recall': round(recall,3),\n",
    "        'f1': round(f1,3),\n",
    "        'roc_auc': round(roc_auc,3),\n",
    "        'avg_pre': round(avg_precision,3),\n",
    "    }\n",
    "\n",
    "df_result = df_result.append(row, ignore_index=True)\n",
    "df_result.head()"
   ]
  },
  {
   "cell_type": "code",
   "execution_count": 12,
   "id": "boring-aquatic",
   "metadata": {},
   "outputs": [
    {
     "data": {
      "text/plain": [
       "Text(0.5, 1.0, 'Precision-Recall curve: ~0.8854')"
      ]
     },
     "execution_count": 12,
     "metadata": {},
     "output_type": "execute_result"
    },
    {
     "data": {
      "image/png": "[encoded data removed]",
      "text/plain": [
       "<Figure size 432x288 with 1 Axes>"
      ]
     },
     "metadata": {
      "needs_background": "light"
     },
     "output_type": "display_data"
    }
   ],
   "source": [
    "avg_precision = average_precision_score(y_test, y_pred)\n",
    "precision, recall, _ = precision_recall_curve(y_test, y_pred)\n",
    "\n",
    "plt.step(recall, precision, color='b', alpha=0.2, where='post')\n",
    "plt.fill_between(recall, precision, step='post', alpha=0.2, color='b')\n",
    "\n",
    "plt.xlabel('Recall')\n",
    "plt.ylabel('Precision')\n",
    "plt.ylim([0.0, 1.05])\n",
    "plt.xlim([0.0, 1.00])\n",
    "plt.title('Precision-Recall curve: ~{0:0.4f}'.format(avg_precision))"
   ]
  },
  {
   "cell_type": "markdown",
   "id": "creative-formula",
   "metadata": {},
   "source": [
    "### Fit a model using SMOTE"
   ]
  },
  {
   "cell_type": "code",
   "execution_count": 13,
   "id": "fleet-zimbabwe",
   "metadata": {},
   "outputs": [],
   "source": [
    "X_train, X_test, y_train, y_test = train_test_split(X, y, \n",
    "                                                    test_size=0.3, \n",
    "                                                    random_state=0, \n",
    "                                                    shuffle=True, \n",
    "                                                    stratify=y)"
   ]
  },
  {
   "cell_type": "code",
   "execution_count": 14,
   "id": "thorough-crown",
   "metadata": {},
   "outputs": [],
   "source": [
    "oversampled = SMOTE(random_state=random_state)\n",
    "X_train_smote, y_train_smote = oversampled.fit_resample(X_train, y_train)"
   ]
  },
  {
   "cell_type": "code",
   "execution_count": 15,
   "id": "female-timeline",
   "metadata": {},
   "outputs": [
    {
     "data": {
      "text/plain": [
       "0.5"
      ]
     },
     "execution_count": 15,
     "metadata": {},
     "output_type": "execute_result"
    }
   ],
   "source": [
    "y_train_smote.mean()"
   ]
  },
  {
   "cell_type": "code",
   "execution_count": 16,
   "id": "individual-rating",
   "metadata": {},
   "outputs": [],
   "source": [
    "classifier = XGBClassifier(eval_metric='mlogloss',use_label_encoder=False,random_state=random_state)\n",
    "model = classifier.fit(X_train_smote, y_train_smote)\n",
    "y_pred_smote = model.predict(X_test)"
   ]
  },
  {
   "cell_type": "code",
   "execution_count": 17,
   "id": "seasonal-liberty",
   "metadata": {},
   "outputs": [],
   "source": [
    "tn, fp, fn, tp = confusion_matrix(y_test, y_pred_smote).ravel()\n",
    "accuracy = accuracy_score(y_test, y_pred_smote)\n",
    "precision = precision_score(y_test, y_pred_smote)\n",
    "recall = recall_score(y_test, y_pred_smote)\n",
    "f1 = f1_score(y_test, y_pred_smote)\n",
    "roc_auc = roc_auc_score(y_test, y_pred_smote)\n",
    "avg_precision = average_precision_score(y_test, y_pred_smote)\n",
    "\n",
    "row = {'model': 'XGBClassifier with SMOTE',\n",
    "        'tp': tp,\n",
    "        'tn': tn,\n",
    "        'fp': fp,\n",
    "        'fn': fn,\n",
    "        'correct': tp+tn,\n",
    "        'incorrect': fp+fn,\n",
    "        'accuracy': accuracy,\n",
    "        'precision': precision,\n",
    "        'recall': recall,\n",
    "        'f1': f1,\n",
    "        'roc_auc': roc_auc,\n",
    "        'avg_pre': round(avg_precision,3),       \n",
    "    }"
   ]
  },
  {
   "cell_type": "code",
   "execution_count": 18,
   "id": "municipal-gregory",
   "metadata": {},
   "outputs": [
    {
     "data": {
      "text/html": [
       "<div>\n",
       "<style scoped>\n",
       "    .dataframe tbody tr th:only-of-type {\n",
       "        vertical-align: middle;\n",
       "    }\n",
       "\n",
       "    .dataframe tbody tr th {\n",
       "        vertical-align: top;\n",
       "    }\n",
       "\n",
       "    .dataframe thead th {\n",
       "        text-align: right;\n",
       "    }\n",
       "</style>\n",
       "<table border=\"1\" class=\"dataframe\">\n",
       "  <thead>\n",
       "    <tr style=\"text-align: right;\">\n",
       "      <th></th>\n",
       "      <th>model</th>\n",
       "      <th>tp</th>\n",
       "      <th>tn</th>\n",
       "      <th>fp</th>\n",
       "      <th>fn</th>\n",
       "      <th>correct</th>\n",
       "      <th>incorrect</th>\n",
       "      <th>accuracy</th>\n",
       "      <th>precision</th>\n",
       "      <th>recall</th>\n",
       "      <th>f1</th>\n",
       "      <th>roc_auc</th>\n",
       "      <th>avg_pre</th>\n",
       "    </tr>\n",
       "  </thead>\n",
       "  <tbody>\n",
       "    <tr>\n",
       "      <th>0</th>\n",
       "      <td>XGBClassifier without SMOTE</td>\n",
       "      <td>434</td>\n",
       "      <td>85</td>\n",
       "      <td>54</td>\n",
       "      <td>14</td>\n",
       "      <td>519</td>\n",
       "      <td>68</td>\n",
       "      <td>0.884000</td>\n",
       "      <td>0.889000</td>\n",
       "      <td>0.96900</td>\n",
       "      <td>0.927000</td>\n",
       "      <td>0.790000</td>\n",
       "      <td>0.885</td>\n",
       "    </tr>\n",
       "    <tr>\n",
       "      <th>1</th>\n",
       "      <td>XGBClassifier with SMOTE</td>\n",
       "      <td>434</td>\n",
       "      <td>90</td>\n",
       "      <td>49</td>\n",
       "      <td>14</td>\n",
       "      <td>524</td>\n",
       "      <td>63</td>\n",
       "      <td>0.892675</td>\n",
       "      <td>0.898551</td>\n",
       "      <td>0.96875</td>\n",
       "      <td>0.932331</td>\n",
       "      <td>0.808116</td>\n",
       "      <td>0.894</td>\n",
       "    </tr>\n",
       "  </tbody>\n",
       "</table>\n",
       "</div>"
      ],
      "text/plain": [
       "                         model   tp  tn  fp  fn correct incorrect  accuracy  \\\n",
       "0  XGBClassifier without SMOTE  434  85  54  14     519        68  0.884000   \n",
       "1     XGBClassifier with SMOTE  434  90  49  14     524        63  0.892675   \n",
       "\n",
       "   precision   recall        f1   roc_auc  avg_pre  \n",
       "0   0.889000  0.96900  0.927000  0.790000    0.885  \n",
       "1   0.898551  0.96875  0.932331  0.808116    0.894  "
      ]
     },
     "execution_count": 18,
     "metadata": {},
     "output_type": "execute_result"
    }
   ],
   "source": [
    "df_result = df_result.append(row, ignore_index=True)\n",
    "df_result.head()"
   ]
  },
  {
   "cell_type": "code",
   "execution_count": 19,
   "id": "hidden-shipping",
   "metadata": {},
   "outputs": [
    {
     "data": {
      "text/plain": [
       "Text(0.5, 1.0, 'Precision-Recall curve: ~0.8943')"
      ]
     },
     "execution_count": 19,
     "metadata": {},
     "output_type": "execute_result"
    },
    {
     "data": {
      "image/png": "[encoded data removed]",
      "text/plain": [
       "<Figure size 432x288 with 1 Axes>"
      ]
     },
     "metadata": {
      "needs_background": "light"
     },
     "output_type": "display_data"
    }
   ],
   "source": [
    "avg_precision = average_precision_score(y_test, y_pred_smote)\n",
    "precision, recall, _ = precision_recall_curve(y_test, y_pred_smote)\n",
    "\n",
    "plt.step(recall, precision, color='b', alpha=0.2, where='post')\n",
    "plt.fill_between(recall, precision, step='post', alpha=0.2, color='b')\n",
    "\n",
    "plt.xlabel('Recall')\n",
    "plt.ylabel('Precision')\n",
    "plt.ylim([0.0, 1.05])\n",
    "plt.xlim([0.0, 1.0])\n",
    "plt.title('Precision-Recall curve: ~{0:0.4f}'.format(avg_precision))"
   ]
  },
  {
   "cell_type": "markdown",
   "id": "accessory-white",
   "metadata": {},
   "source": [
    "### Using under-sampling and SMOTE over-sampling"
   ]
  },
  {
   "cell_type": "code",
   "execution_count": 20,
   "id": "treated-judges",
   "metadata": {},
   "outputs": [],
   "source": [
    "X_train, X_test, y_train, y_test = train_test_split(X, y, \n",
    "                                                    test_size=0.3, \n",
    "                                                    random_state=0, \n",
    "                                                    shuffle=True, \n",
    "                                                    stratify=y)"
   ]
  },
  {
   "cell_type": "code",
   "execution_count": 21,
   "id": "neural-publisher",
   "metadata": {},
   "outputs": [],
   "source": [
    "oversampled = SMOTE(sampling_strategy=0.6, \n",
    "                    random_state=0,\n",
    "                    k_neighbors=4)\n",
    "X_train_smote, y_train_smote = oversampled.fit_resample(X_train, y_train)"
   ]
  },
  {
   "cell_type": "code",
   "execution_count": 22,
   "id": "proud-brunei",
   "metadata": {},
   "outputs": [
    {
     "data": {
      "text/plain": [
       "0.6251497005988024"
      ]
     },
     "execution_count": 22,
     "metadata": {},
     "output_type": "execute_result"
    }
   ],
   "source": [
    "y_train_smote.mean()"
   ]
  },
  {
   "cell_type": "code",
   "execution_count": 23,
   "id": "underlying-detection",
   "metadata": {},
   "outputs": [],
   "source": [
    "undersampled = RandomUnderSampler(sampling_strategy=1.0, random_state=0)\n",
    "X_train_final, y_train_final = undersampled.fit_resample(X_train_smote, y_train_smote)"
   ]
  },
  {
   "cell_type": "code",
   "execution_count": 24,
   "id": "acting-venue",
   "metadata": {},
   "outputs": [
    {
     "data": {
      "text/plain": [
       "0.5"
      ]
     },
     "execution_count": 24,
     "metadata": {},
     "output_type": "execute_result"
    }
   ],
   "source": [
    "y_train_final.mean()"
   ]
  },
  {
   "cell_type": "code",
   "execution_count": 25,
   "id": "comparative-fluid",
   "metadata": {},
   "outputs": [],
   "source": [
    "classifier = XGBClassifier(eval_metric='mlogloss',use_label_encoder=False,random_state=random_state)\n",
    "model = classifier.fit(X_train_final, y_train_final)"
   ]
  },
  {
   "cell_type": "code",
   "execution_count": 26,
   "id": "internal-omaha",
   "metadata": {},
   "outputs": [],
   "source": [
    "y_pred_smote = model.predict(X_test)"
   ]
  },
  {
   "cell_type": "code",
   "execution_count": 27,
   "id": "sharp-fight",
   "metadata": {},
   "outputs": [],
   "source": [
    "tn, fp, fn, tp = confusion_matrix(y_test, y_pred_smote).ravel()\n",
    "accuracy = accuracy_score(y_test, y_pred_smote)\n",
    "precision = precision_score(y_test, y_pred_smote)\n",
    "recall = recall_score(y_test, y_pred_smote)\n",
    "f1 = f1_score(y_test, y_pred_smote)\n",
    "roc_auc = roc_auc_score(y_test, y_pred_smote)\n",
    "avg_precision = average_precision_score(y_test, y_pred_smote)\n",
    "\n",
    "row = {'model': 'XGBClassifier with under/over',\n",
    "        'tp': tp,\n",
    "        'tn': tn,\n",
    "        'fp': fp,\n",
    "        'fn': fn,\n",
    "        'correct': tp+tn,\n",
    "        'incorrect': fp+fn,\n",
    "        'accuracy': accuracy,\n",
    "        'precision': precision,\n",
    "        'recall': recall,\n",
    "        'f1': f1,\n",
    "        'roc_auc': roc_auc,\n",
    "        'avg_pre': round(avg_precision,3),       \n",
    "    }"
   ]
  },
  {
   "cell_type": "code",
   "execution_count": 28,
   "id": "immune-litigation",
   "metadata": {},
   "outputs": [
    {
     "data": {
      "text/html": [
       "<div>\n",
       "<style scoped>\n",
       "    .dataframe tbody tr th:only-of-type {\n",
       "        vertical-align: middle;\n",
       "    }\n",
       "\n",
       "    .dataframe tbody tr th {\n",
       "        vertical-align: top;\n",
       "    }\n",
       "\n",
       "    .dataframe thead th {\n",
       "        text-align: right;\n",
       "    }\n",
       "</style>\n",
       "<table border=\"1\" class=\"dataframe\">\n",
       "  <thead>\n",
       "    <tr style=\"text-align: right;\">\n",
       "      <th></th>\n",
       "      <th>model</th>\n",
       "      <th>tp</th>\n",
       "      <th>tn</th>\n",
       "      <th>fp</th>\n",
       "      <th>fn</th>\n",
       "      <th>correct</th>\n",
       "      <th>incorrect</th>\n",
       "      <th>accuracy</th>\n",
       "      <th>precision</th>\n",
       "      <th>recall</th>\n",
       "      <th>f1</th>\n",
       "      <th>roc_auc</th>\n",
       "      <th>avg_pre</th>\n",
       "    </tr>\n",
       "  </thead>\n",
       "  <tbody>\n",
       "    <tr>\n",
       "      <th>0</th>\n",
       "      <td>XGBClassifier without SMOTE</td>\n",
       "      <td>434</td>\n",
       "      <td>85</td>\n",
       "      <td>54</td>\n",
       "      <td>14</td>\n",
       "      <td>519</td>\n",
       "      <td>68</td>\n",
       "      <td>0.884000</td>\n",
       "      <td>0.889000</td>\n",
       "      <td>0.969000</td>\n",
       "      <td>0.927000</td>\n",
       "      <td>0.790000</td>\n",
       "      <td>0.885</td>\n",
       "    </tr>\n",
       "    <tr>\n",
       "      <th>1</th>\n",
       "      <td>XGBClassifier with SMOTE</td>\n",
       "      <td>434</td>\n",
       "      <td>90</td>\n",
       "      <td>49</td>\n",
       "      <td>14</td>\n",
       "      <td>524</td>\n",
       "      <td>63</td>\n",
       "      <td>0.892675</td>\n",
       "      <td>0.898551</td>\n",
       "      <td>0.968750</td>\n",
       "      <td>0.932331</td>\n",
       "      <td>0.808116</td>\n",
       "      <td>0.894</td>\n",
       "    </tr>\n",
       "    <tr>\n",
       "      <th>2</th>\n",
       "      <td>XGBClassifier with under/over</td>\n",
       "      <td>413</td>\n",
       "      <td>101</td>\n",
       "      <td>38</td>\n",
       "      <td>35</td>\n",
       "      <td>514</td>\n",
       "      <td>73</td>\n",
       "      <td>0.875639</td>\n",
       "      <td>0.915743</td>\n",
       "      <td>0.921875</td>\n",
       "      <td>0.918799</td>\n",
       "      <td>0.824247</td>\n",
       "      <td>0.904</td>\n",
       "    </tr>\n",
       "  </tbody>\n",
       "</table>\n",
       "</div>"
      ],
      "text/plain": [
       "                           model   tp   tn  fp  fn correct incorrect  \\\n",
       "0    XGBClassifier without SMOTE  434   85  54  14     519        68   \n",
       "1       XGBClassifier with SMOTE  434   90  49  14     524        63   \n",
       "2  XGBClassifier with under/over  413  101  38  35     514        73   \n",
       "\n",
       "   accuracy  precision    recall        f1   roc_auc  avg_pre  \n",
       "0  0.884000   0.889000  0.969000  0.927000  0.790000    0.885  \n",
       "1  0.892675   0.898551  0.968750  0.932331  0.808116    0.894  \n",
       "2  0.875639   0.915743  0.921875  0.918799  0.824247    0.904  "
      ]
     },
     "execution_count": 28,
     "metadata": {},
     "output_type": "execute_result"
    }
   ],
   "source": [
    "df_result = df_result.append(row, ignore_index=True)\n",
    "df_result.tail(20)"
   ]
  },
  {
   "cell_type": "code",
   "execution_count": 29,
   "id": "round-tomato",
   "metadata": {},
   "outputs": [
    {
     "data": {
      "text/plain": [
       "Text(0.5, 1.0, 'Precision-Recall curve: ~0.9038')"
      ]
     },
     "execution_count": 29,
     "metadata": {},
     "output_type": "execute_result"
    },
    {
     "data": {
      "image/png": "[encoded data removed]",
      "text/plain": [
       "<Figure size 432x288 with 1 Axes>"
      ]
     },
     "metadata": {
      "needs_background": "light"
     },
     "output_type": "display_data"
    }
   ],
   "source": [
    "avg_precision = average_precision_score(y_test, y_pred_smote)\n",
    "precision, recall, _ = precision_recall_curve(y_test, y_pred_smote)\n",
    "\n",
    "plt.step(recall, precision, color='b', alpha=0.2, where='post')\n",
    "plt.fill_between(recall, precision, step='post', alpha=0.2, color='b')\n",
    "\n",
    "plt.xlabel('Recall')\n",
    "plt.ylabel('Precision')\n",
    "plt.ylim([0.0, 1.05])\n",
    "plt.xlim([0.0, 1.0])\n",
    "plt.title('Precision-Recall curve: ~{0:0.4f}'.format(avg_precision))"
   ]
  },
  {
   "cell_type": "markdown",
   "id": "declared-monkey",
   "metadata": {},
   "source": [
    "### Borderline SMOTE"
   ]
  },
  {
   "cell_type": "code",
   "execution_count": 30,
   "id": "canadian-theme",
   "metadata": {},
   "outputs": [],
   "source": [
    "X_train, X_test, y_train, y_test = train_test_split(X, y, \n",
    "                                                    test_size=0.3, \n",
    "                                                    random_state=0, \n",
    "                                                    shuffle=True, \n",
    "                                                    stratify=y)"
   ]
  },
  {
   "cell_type": "code",
   "execution_count": 31,
   "id": "encouraging-timer",
   "metadata": {},
   "outputs": [],
   "source": [
    "oversampled = BorderlineSMOTE(random_state=0)\n",
    "X_train_smote, y_train_smote = oversampled.fit_resample(X_train, y_train)"
   ]
  },
  {
   "cell_type": "code",
   "execution_count": 32,
   "id": "confidential-brass",
   "metadata": {},
   "outputs": [
    {
     "data": {
      "text/plain": [
       "0.5"
      ]
     },
     "execution_count": 32,
     "metadata": {},
     "output_type": "execute_result"
    }
   ],
   "source": [
    "y_train_smote.mean()"
   ]
  },
  {
   "cell_type": "code",
   "execution_count": 33,
   "id": "frozen-utility",
   "metadata": {},
   "outputs": [],
   "source": [
    "classifier = XGBClassifier(eval_metric='mlogloss',use_label_encoder=False,random_state=random_state)\n",
    "model = classifier.fit(X_train_smote, y_train_smote)"
   ]
  },
  {
   "cell_type": "code",
   "execution_count": 34,
   "id": "bizarre-parts",
   "metadata": {},
   "outputs": [],
   "source": [
    "y_pred_smote = model.predict(X_test)"
   ]
  },
  {
   "cell_type": "code",
   "execution_count": 35,
   "id": "acknowledged-dividend",
   "metadata": {},
   "outputs": [],
   "source": [
    "tn, fp, fn, tp = confusion_matrix(y_test, y_pred_smote).ravel()\n",
    "accuracy = accuracy_score(y_test, y_pred_smote)\n",
    "precision = precision_score(y_test, y_pred_smote)\n",
    "recall = recall_score(y_test, y_pred_smote)\n",
    "f1 = f1_score(y_test, y_pred_smote)\n",
    "roc_auc = roc_auc_score(y_test, y_pred_smote)\n",
    "avg_precision = average_precision_score(y_test, y_pred_smote)\n",
    "\n",
    "row = {'model': 'XGBClassifier with Borderline SMOTE',\n",
    "        'tp': tp,\n",
    "        'tn': tn,\n",
    "        'fp': fp,\n",
    "        'fn': fn,\n",
    "        'correct': tp+tn,\n",
    "        'incorrect': fp+fn,\n",
    "        'accuracy': accuracy,\n",
    "        'precision': precision,\n",
    "        'recall': recall,\n",
    "        'f1': f1,\n",
    "        'roc_auc': roc_auc,\n",
    "        'avg_pre': round(avg_precision,3),       \n",
    "    }"
   ]
  },
  {
   "cell_type": "code",
   "execution_count": 36,
   "id": "honest-interim",
   "metadata": {},
   "outputs": [
    {
     "data": {
      "text/html": [
       "<div>\n",
       "<style scoped>\n",
       "    .dataframe tbody tr th:only-of-type {\n",
       "        vertical-align: middle;\n",
       "    }\n",
       "\n",
       "    .dataframe tbody tr th {\n",
       "        vertical-align: top;\n",
       "    }\n",
       "\n",
       "    .dataframe thead th {\n",
       "        text-align: right;\n",
       "    }\n",
       "</style>\n",
       "<table border=\"1\" class=\"dataframe\">\n",
       "  <thead>\n",
       "    <tr style=\"text-align: right;\">\n",
       "      <th></th>\n",
       "      <th>model</th>\n",
       "      <th>tp</th>\n",
       "      <th>tn</th>\n",
       "      <th>fp</th>\n",
       "      <th>fn</th>\n",
       "      <th>correct</th>\n",
       "      <th>incorrect</th>\n",
       "      <th>accuracy</th>\n",
       "      <th>precision</th>\n",
       "      <th>recall</th>\n",
       "      <th>f1</th>\n",
       "      <th>roc_auc</th>\n",
       "      <th>avg_pre</th>\n",
       "    </tr>\n",
       "  </thead>\n",
       "  <tbody>\n",
       "    <tr>\n",
       "      <th>0</th>\n",
       "      <td>XGBClassifier without SMOTE</td>\n",
       "      <td>434</td>\n",
       "      <td>85</td>\n",
       "      <td>54</td>\n",
       "      <td>14</td>\n",
       "      <td>519</td>\n",
       "      <td>68</td>\n",
       "      <td>0.884000</td>\n",
       "      <td>0.889000</td>\n",
       "      <td>0.969000</td>\n",
       "      <td>0.927000</td>\n",
       "      <td>0.790000</td>\n",
       "      <td>0.885</td>\n",
       "    </tr>\n",
       "    <tr>\n",
       "      <th>1</th>\n",
       "      <td>XGBClassifier with SMOTE</td>\n",
       "      <td>434</td>\n",
       "      <td>90</td>\n",
       "      <td>49</td>\n",
       "      <td>14</td>\n",
       "      <td>524</td>\n",
       "      <td>63</td>\n",
       "      <td>0.892675</td>\n",
       "      <td>0.898551</td>\n",
       "      <td>0.968750</td>\n",
       "      <td>0.932331</td>\n",
       "      <td>0.808116</td>\n",
       "      <td>0.894</td>\n",
       "    </tr>\n",
       "    <tr>\n",
       "      <th>2</th>\n",
       "      <td>XGBClassifier with under/over</td>\n",
       "      <td>413</td>\n",
       "      <td>101</td>\n",
       "      <td>38</td>\n",
       "      <td>35</td>\n",
       "      <td>514</td>\n",
       "      <td>73</td>\n",
       "      <td>0.875639</td>\n",
       "      <td>0.915743</td>\n",
       "      <td>0.921875</td>\n",
       "      <td>0.918799</td>\n",
       "      <td>0.824247</td>\n",
       "      <td>0.904</td>\n",
       "    </tr>\n",
       "    <tr>\n",
       "      <th>3</th>\n",
       "      <td>XGBClassifier with Borderline SMOTE</td>\n",
       "      <td>432</td>\n",
       "      <td>89</td>\n",
       "      <td>50</td>\n",
       "      <td>16</td>\n",
       "      <td>521</td>\n",
       "      <td>66</td>\n",
       "      <td>0.887564</td>\n",
       "      <td>0.896266</td>\n",
       "      <td>0.964286</td>\n",
       "      <td>0.929032</td>\n",
       "      <td>0.802287</td>\n",
       "      <td>0.892</td>\n",
       "    </tr>\n",
       "  </tbody>\n",
       "</table>\n",
       "</div>"
      ],
      "text/plain": [
       "                                 model   tp   tn  fp  fn correct incorrect  \\\n",
       "0          XGBClassifier without SMOTE  434   85  54  14     519        68   \n",
       "1             XGBClassifier with SMOTE  434   90  49  14     524        63   \n",
       "2        XGBClassifier with under/over  413  101  38  35     514        73   \n",
       "3  XGBClassifier with Borderline SMOTE  432   89  50  16     521        66   \n",
       "\n",
       "   accuracy  precision    recall        f1   roc_auc  avg_pre  \n",
       "0  0.884000   0.889000  0.969000  0.927000  0.790000    0.885  \n",
       "1  0.892675   0.898551  0.968750  0.932331  0.808116    0.894  \n",
       "2  0.875639   0.915743  0.921875  0.918799  0.824247    0.904  \n",
       "3  0.887564   0.896266  0.964286  0.929032  0.802287    0.892  "
      ]
     },
     "execution_count": 36,
     "metadata": {},
     "output_type": "execute_result"
    }
   ],
   "source": [
    "df_result = df_result.append(row, ignore_index=True)\n",
    "df_result.head()"
   ]
  },
  {
   "cell_type": "code",
   "execution_count": null,
   "id": "pharmaceutical-abortion",
   "metadata": {},
   "outputs": [],
   "source": []
  }
 ],
 "metadata": {
  "kernelspec": {
   "display_name": "Python 3",
   "language": "python",
   "name": "python3"
  },
  "language_info": {
   "codemirror_mode": {
    "name": "ipython",
    "version": 3
   },
   "file_extension": ".py",
   "mimetype": "text/x-python",
   "name": "python",
   "nbconvert_exporter": "python",
   "pygments_lexer": "ipython3",
   "version": "3.8.5"
  }
 },
 "nbformat": 4,
 "nbformat_minor": 5
}
