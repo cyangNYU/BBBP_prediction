{
 "cells": [
  {
   "cell_type": "code",
   "execution_count": 1,
   "id": "controversial-reducing",
   "metadata": {},
   "outputs": [],
   "source": [
    "import sys, os\n",
    "import numpy as np\n",
    "import pandas as pd\n",
    "from rdkit.Chem import AllChem, Descriptors\n",
    "import sklearn\n",
    "from xgboost import XGBClassifier\n",
    "from imblearn.over_sampling import SMOTE\n",
    "from imblearn.over_sampling import BorderlineSMOTE\n",
    "from imblearn.under_sampling import RandomUnderSampler\n",
    "from sklearn.metrics import confusion_matrix, precision_score,recall_score, accuracy_score\n",
    "from sklearn.metrics import f1_score, precision_recall_curve, roc_curve, roc_auc_score\n",
    "from sklearn.metrics import average_precision_score\n",
    "import matplotlib.pyplot as plt\n",
    "%matplotlib inline"
   ]
  },
  {
   "cell_type": "code",
   "execution_count": 2,
   "id": "eleven-poultry",
   "metadata": {},
   "outputs": [
    {
     "data": {
      "text/html": [
       "<div>\n",
       "<style scoped>\n",
       "    .dataframe tbody tr th:only-of-type {\n",
       "        vertical-align: middle;\n",
       "    }\n",
       "\n",
       "    .dataframe tbody tr th {\n",
       "        vertical-align: top;\n",
       "    }\n",
       "\n",
       "    .dataframe thead th {\n",
       "        text-align: right;\n",
       "    }\n",
       "</style>\n",
       "<table border=\"1\" class=\"dataframe\">\n",
       "  <thead>\n",
       "    <tr style=\"text-align: right;\">\n",
       "      <th></th>\n",
       "      <th>num</th>\n",
       "      <th>name</th>\n",
       "      <th>BBclass</th>\n",
       "      <th>Check</th>\n",
       "      <th>smiles</th>\n",
       "      <th>MaxEStateIndex</th>\n",
       "      <th>MinEStateIndex</th>\n",
       "      <th>MaxAbsEStateIndex</th>\n",
       "      <th>MinAbsEStateIndex</th>\n",
       "      <th>qed</th>\n",
       "      <th>...</th>\n",
       "      <th>MFP_2039</th>\n",
       "      <th>MFP_2040</th>\n",
       "      <th>MFP_2041</th>\n",
       "      <th>MFP_2042</th>\n",
       "      <th>MFP_2043</th>\n",
       "      <th>MFP_2044</th>\n",
       "      <th>MFP_2045</th>\n",
       "      <th>MFP_2046</th>\n",
       "      <th>MFP_2047</th>\n",
       "      <th>MFP_2048</th>\n",
       "    </tr>\n",
       "  </thead>\n",
       "  <tbody>\n",
       "    <tr>\n",
       "      <th>0</th>\n",
       "      <td>1</td>\n",
       "      <td>Propanolol</td>\n",
       "      <td>1</td>\n",
       "      <td>2</td>\n",
       "      <td>CC(C)NCC(O)COc1cccc2ccccc12</td>\n",
       "      <td>9.843954</td>\n",
       "      <td>-0.498733</td>\n",
       "      <td>9.843954</td>\n",
       "      <td>0.299333</td>\n",
       "      <td>0.837506</td>\n",
       "      <td>...</td>\n",
       "      <td>1</td>\n",
       "      <td>0</td>\n",
       "      <td>0</td>\n",
       "      <td>0</td>\n",
       "      <td>0</td>\n",
       "      <td>0</td>\n",
       "      <td>0</td>\n",
       "      <td>0</td>\n",
       "      <td>0</td>\n",
       "      <td>0</td>\n",
       "    </tr>\n",
       "    <tr>\n",
       "      <th>1</th>\n",
       "      <td>2</td>\n",
       "      <td>Terbutylchlorambucil</td>\n",
       "      <td>1</td>\n",
       "      <td>2</td>\n",
       "      <td>CC(C)(C)OC(=O)CCCc1ccc(N(CCCl)CCCl)cc1</td>\n",
       "      <td>11.682268</td>\n",
       "      <td>-0.409691</td>\n",
       "      <td>11.682268</td>\n",
       "      <td>0.134704</td>\n",
       "      <td>0.474821</td>\n",
       "      <td>...</td>\n",
       "      <td>0</td>\n",
       "      <td>0</td>\n",
       "      <td>0</td>\n",
       "      <td>0</td>\n",
       "      <td>0</td>\n",
       "      <td>0</td>\n",
       "      <td>0</td>\n",
       "      <td>0</td>\n",
       "      <td>0</td>\n",
       "      <td>0</td>\n",
       "    </tr>\n",
       "  </tbody>\n",
       "</table>\n",
       "<p>2 rows × 2261 columns</p>\n",
       "</div>"
      ],
      "text/plain": [
       "   num                  name  BBclass  Check  \\\n",
       "0    1            Propanolol        1      2   \n",
       "1    2  Terbutylchlorambucil        1      2   \n",
       "\n",
       "                                   smiles  MaxEStateIndex  MinEStateIndex  \\\n",
       "0             CC(C)NCC(O)COc1cccc2ccccc12        9.843954       -0.498733   \n",
       "1  CC(C)(C)OC(=O)CCCc1ccc(N(CCCl)CCCl)cc1       11.682268       -0.409691   \n",
       "\n",
       "   MaxAbsEStateIndex  MinAbsEStateIndex       qed  ...  MFP_2039  MFP_2040  \\\n",
       "0           9.843954           0.299333  0.837506  ...         1         0   \n",
       "1          11.682268           0.134704  0.474821  ...         0         0   \n",
       "\n",
       "   MFP_2041  MFP_2042  MFP_2043  MFP_2044  MFP_2045  MFP_2046  MFP_2047  \\\n",
       "0         0         0         0         0         0         0         0   \n",
       "1         0         0         0         0         0         0         0   \n",
       "\n",
       "   MFP_2048  \n",
       "0         0  \n",
       "1         0  \n",
       "\n",
       "[2 rows x 2261 columns]"
      ]
     },
     "execution_count": 2,
     "metadata": {},
     "output_type": "execute_result"
    }
   ],
   "source": [
    "df = pd.read_csv('dataset/feature_set_all/train_set_2.csv')\n",
    "df[df.select_dtypes(np.float64).columns] = df.select_dtypes(np.float64).astype(np.float32)\n",
    "df.head(2)"
   ]
  },
  {
   "cell_type": "code",
   "execution_count": 3,
   "id": "fabulous-private",
   "metadata": {},
   "outputs": [
    {
     "data": {
      "text/plain": [
       "(['Ipc'], 1)"
      ]
     },
     "execution_count": 3,
     "metadata": {},
     "output_type": "execute_result"
    }
   ],
   "source": [
    "columns = df.columns.to_numpy()\n",
    "check_features = columns[df.isin([np.inf, -np.inf, np.NaN]).any(axis=0).to_numpy()].tolist()\n",
    "check_features, len(check_features)"
   ]
  },
  {
   "cell_type": "code",
   "execution_count": 4,
   "id": "valid-secretariat",
   "metadata": {},
   "outputs": [
    {
     "data": {
      "text/plain": [
       "1351"
      ]
     },
     "execution_count": 4,
     "metadata": {},
     "output_type": "execute_result"
    }
   ],
   "source": [
    "lowVar_features = df.std()[df.std() < 0.14].index.tolist()\n",
    "len(lowVar_features)"
   ]
  },
  {
   "cell_type": "code",
   "execution_count": 5,
   "id": "hazardous-channels",
   "metadata": {},
   "outputs": [
    {
     "data": {
      "text/plain": [
       "743"
      ]
     },
     "execution_count": 5,
     "metadata": {},
     "output_type": "execute_result"
    }
   ],
   "source": [
    "#features = [x[0] for x in Descriptors._descList]\n",
    "Fingerprints = ['MFP_%d'%(i+1) for i in range(2048)]\n",
    "descriptors = ['HeavyAtomMolWt','NHOHCount','NOCount','RingCount']\n",
    "features = Fingerprints + descriptors\n",
    "features = [x for x in features if x not in check_features+lowVar_features]\n",
    "len(features)"
   ]
  },
  {
   "cell_type": "code",
   "execution_count": 6,
   "id": "fatal-graphic",
   "metadata": {},
   "outputs": [
    {
     "data": {
      "text/plain": [
       "1    0.763562\n",
       "0    0.236438\n",
       "Name: BBclass, dtype: float64"
      ]
     },
     "execution_count": 6,
     "metadata": {},
     "output_type": "execute_result"
    }
   ],
   "source": [
    "df.BBclass.value_counts()/len(df)"
   ]
  },
  {
   "cell_type": "code",
   "execution_count": 7,
   "id": "divided-civilian",
   "metadata": {},
   "outputs": [],
   "source": [
    "X_train = np.c_[df[features]]\n",
    "y_train = np.c_[df['BBclass']]"
   ]
  },
  {
   "cell_type": "code",
   "execution_count": 8,
   "id": "popular-library",
   "metadata": {},
   "outputs": [
    {
     "data": {
      "text/plain": [
       "313"
      ]
     },
     "execution_count": 8,
     "metadata": {},
     "output_type": "execute_result"
    }
   ],
   "source": [
    "test = pd.read_csv('dataset/feature_set_all/test_set_6.csv')\n",
    "X_test = np.c_[test[features]]\n",
    "y_test = np.c_[test['BBclass']]\n",
    "len(test)"
   ]
  },
  {
   "cell_type": "markdown",
   "id": "minus-namibia",
   "metadata": {},
   "source": [
    "### 1. Try a standard XGB model "
   ]
  },
  {
   "cell_type": "code",
   "execution_count": 9,
   "id": "suspended-heritage",
   "metadata": {},
   "outputs": [
    {
     "data": {
      "text/html": [
       "<div>\n",
       "<style scoped>\n",
       "    .dataframe tbody tr th:only-of-type {\n",
       "        vertical-align: middle;\n",
       "    }\n",
       "\n",
       "    .dataframe tbody tr th {\n",
       "        vertical-align: top;\n",
       "    }\n",
       "\n",
       "    .dataframe thead th {\n",
       "        text-align: right;\n",
       "    }\n",
       "</style>\n",
       "<table border=\"1\" class=\"dataframe\">\n",
       "  <thead>\n",
       "    <tr style=\"text-align: right;\">\n",
       "      <th></th>\n",
       "      <th>model</th>\n",
       "      <th>tp</th>\n",
       "      <th>tn</th>\n",
       "      <th>fp</th>\n",
       "      <th>fn</th>\n",
       "      <th>correct</th>\n",
       "      <th>incorrect</th>\n",
       "      <th>accuracy</th>\n",
       "      <th>precision</th>\n",
       "      <th>recall</th>\n",
       "      <th>f1</th>\n",
       "      <th>roc_auc</th>\n",
       "      <th>avg_pre</th>\n",
       "    </tr>\n",
       "  </thead>\n",
       "  <tbody>\n",
       "    <tr>\n",
       "      <th>0</th>\n",
       "      <td>XGBClassifier without SMOTE</td>\n",
       "      <td>211</td>\n",
       "      <td>23</td>\n",
       "      <td>27</td>\n",
       "      <td>52</td>\n",
       "      <td>234</td>\n",
       "      <td>79</td>\n",
       "      <td>0.748</td>\n",
       "      <td>0.887</td>\n",
       "      <td>0.802</td>\n",
       "      <td>0.842</td>\n",
       "      <td>0.631</td>\n",
       "      <td>0.877</td>\n",
       "    </tr>\n",
       "  </tbody>\n",
       "</table>\n",
       "</div>"
      ],
      "text/plain": [
       "                         model   tp  tn  fp  fn correct incorrect  accuracy  \\\n",
       "0  XGBClassifier without SMOTE  211  23  27  52     234        79     0.748   \n",
       "\n",
       "   precision  recall     f1  roc_auc  avg_pre  \n",
       "0      0.887   0.802  0.842    0.631    0.877  "
      ]
     },
     "execution_count": 9,
     "metadata": {},
     "output_type": "execute_result"
    }
   ],
   "source": [
    "df_result = pd.DataFrame(columns=['model', 'tp', 'tn', 'fp', 'fn', 'correct', 'incorrect',\n",
    "                                  'accuracy', 'precision', 'recall', 'f1', 'roc_auc','avg_pre'])\n",
    "\n",
    "classifier = XGBClassifier(eval_metric='mlogloss',use_label_encoder=False,random_state=10)\n",
    "model = classifier.fit(X_train, y_train)\n",
    "y_pred = model.predict(X_test)\n",
    "\n",
    "tn, fp, fn, tp = confusion_matrix(y_test, y_pred).ravel()\n",
    "accuracy = accuracy_score(y_test, y_pred)\n",
    "precision = precision_score(y_test, y_pred)\n",
    "recall = recall_score(y_test, y_pred)\n",
    "f1 = f1_score(y_test, y_pred)\n",
    "roc_auc = roc_auc_score(y_test, y_pred)\n",
    "avg_precision = average_precision_score(y_test, y_pred)\n",
    "\n",
    "row = {'model': 'XGBClassifier without SMOTE',\n",
    "        'tp': tp,\n",
    "        'tn': tn,\n",
    "        'fp': fp,\n",
    "        'fn': fn,\n",
    "        'correct': tp+tn,\n",
    "        'incorrect': fp+fn,\n",
    "        'accuracy': round(accuracy,3),\n",
    "        'precision': round(precision,3),\n",
    "        'recall': round(recall,3),\n",
    "        'f1': round(f1,3),\n",
    "        'roc_auc': round(roc_auc,3),\n",
    "        'avg_pre': round(avg_precision,3),\n",
    "    }\n",
    "\n",
    "df_result = df_result.append(row, ignore_index=True)\n",
    "df_result.head()"
   ]
  },
  {
   "cell_type": "code",
   "execution_count": 10,
   "id": "genuine-screening",
   "metadata": {},
   "outputs": [
    {
     "data": {
      "text/plain": [
       "Text(0.5, 1.0, 'Precision-Recall curve: ~0.8774')"
      ]
     },
     "execution_count": 10,
     "metadata": {},
     "output_type": "execute_result"
    },
    {
     "data": {
      "image/png": "[encoded data removed]",
      "text/plain": [
       "<Figure size 432x288 with 1 Axes>"
      ]
     },
     "metadata": {
      "needs_background": "light"
     },
     "output_type": "display_data"
    }
   ],
   "source": [
    "avg_precision = average_precision_score(y_test, y_pred)\n",
    "precision, recall, _ = precision_recall_curve(y_test, y_pred)\n",
    "\n",
    "plt.step(recall, precision, color='b', alpha=0.2, where='post')\n",
    "plt.fill_between(recall, precision, step='post', alpha=0.2, color='b')\n",
    "\n",
    "plt.xlabel('Recall')\n",
    "plt.ylabel('Precision')\n",
    "plt.ylim([0.0, 1.05])\n",
    "plt.xlim([0.0, 1.00])\n",
    "plt.title('Precision-Recall curve: ~{0:0.4f}'.format(avg_precision))"
   ]
  },
  {
   "cell_type": "markdown",
   "id": "tight-senegal",
   "metadata": {},
   "source": [
    "### 2. Fit XGB model using SMOTE"
   ]
  },
  {
   "cell_type": "code",
   "execution_count": 11,
   "id": "harmful-carry",
   "metadata": {},
   "outputs": [],
   "source": [
    "oversampled = SMOTE(random_state=10)\n",
    "X_train_smote, y_train_smote = oversampled.fit_resample(X_train, y_train)"
   ]
  },
  {
   "cell_type": "code",
   "execution_count": 12,
   "id": "occupied-safety",
   "metadata": {},
   "outputs": [
    {
     "data": {
      "text/plain": [
       "0.5"
      ]
     },
     "execution_count": 12,
     "metadata": {},
     "output_type": "execute_result"
    }
   ],
   "source": [
    "y_train_smote.mean()"
   ]
  },
  {
   "cell_type": "code",
   "execution_count": 13,
   "id": "assured-reminder",
   "metadata": {},
   "outputs": [],
   "source": [
    "classifier = XGBClassifier(eval_metric='mlogloss',use_label_encoder=False,random_state=10)\n",
    "model = classifier.fit(X_train_smote, y_train_smote)\n",
    "y_pred_smote = model.predict(X_test)"
   ]
  },
  {
   "cell_type": "code",
   "execution_count": 14,
   "id": "premium-secretary",
   "metadata": {},
   "outputs": [],
   "source": [
    "tn, fp, fn, tp = confusion_matrix(y_test, y_pred_smote).ravel()\n",
    "accuracy = accuracy_score(y_test, y_pred_smote)\n",
    "precision = precision_score(y_test, y_pred_smote)\n",
    "recall = recall_score(y_test, y_pred_smote)\n",
    "f1 = f1_score(y_test, y_pred_smote)\n",
    "roc_auc = roc_auc_score(y_test, y_pred_smote)\n",
    "avg_precision = average_precision_score(y_test, y_pred_smote)\n",
    "\n",
    "row = {'model': 'XGBClassifier with SMOTE',\n",
    "        'tp': tp,\n",
    "        'tn': tn,\n",
    "        'fp': fp,\n",
    "        'fn': fn,\n",
    "        'correct': tp+tn,\n",
    "        'incorrect': fp+fn,\n",
    "        'accuracy': accuracy,\n",
    "        'precision': precision,\n",
    "        'recall': recall,\n",
    "        'f1': f1,\n",
    "        'roc_auc': roc_auc,\n",
    "        'avg_pre': round(avg_precision,3),       \n",
    "    }"
   ]
  },
  {
   "cell_type": "code",
   "execution_count": 15,
   "id": "equal-belief",
   "metadata": {},
   "outputs": [
    {
     "data": {
      "text/html": [
       "<div>\n",
       "<style scoped>\n",
       "    .dataframe tbody tr th:only-of-type {\n",
       "        vertical-align: middle;\n",
       "    }\n",
       "\n",
       "    .dataframe tbody tr th {\n",
       "        vertical-align: top;\n",
       "    }\n",
       "\n",
       "    .dataframe thead th {\n",
       "        text-align: right;\n",
       "    }\n",
       "</style>\n",
       "<table border=\"1\" class=\"dataframe\">\n",
       "  <thead>\n",
       "    <tr style=\"text-align: right;\">\n",
       "      <th></th>\n",
       "      <th>model</th>\n",
       "      <th>tp</th>\n",
       "      <th>tn</th>\n",
       "      <th>fp</th>\n",
       "      <th>fn</th>\n",
       "      <th>correct</th>\n",
       "      <th>incorrect</th>\n",
       "      <th>accuracy</th>\n",
       "      <th>precision</th>\n",
       "      <th>recall</th>\n",
       "      <th>f1</th>\n",
       "      <th>roc_auc</th>\n",
       "      <th>avg_pre</th>\n",
       "    </tr>\n",
       "  </thead>\n",
       "  <tbody>\n",
       "    <tr>\n",
       "      <th>0</th>\n",
       "      <td>XGBClassifier without SMOTE</td>\n",
       "      <td>211</td>\n",
       "      <td>23</td>\n",
       "      <td>27</td>\n",
       "      <td>52</td>\n",
       "      <td>234</td>\n",
       "      <td>79</td>\n",
       "      <td>0.748000</td>\n",
       "      <td>0.887000</td>\n",
       "      <td>0.802000</td>\n",
       "      <td>0.842000</td>\n",
       "      <td>0.631000</td>\n",
       "      <td>0.877</td>\n",
       "    </tr>\n",
       "    <tr>\n",
       "      <th>1</th>\n",
       "      <td>XGBClassifier with SMOTE</td>\n",
       "      <td>211</td>\n",
       "      <td>25</td>\n",
       "      <td>25</td>\n",
       "      <td>52</td>\n",
       "      <td>236</td>\n",
       "      <td>77</td>\n",
       "      <td>0.753994</td>\n",
       "      <td>0.894068</td>\n",
       "      <td>0.802281</td>\n",
       "      <td>0.845691</td>\n",
       "      <td>0.651141</td>\n",
       "      <td>0.883</td>\n",
       "    </tr>\n",
       "  </tbody>\n",
       "</table>\n",
       "</div>"
      ],
      "text/plain": [
       "                         model   tp  tn  fp  fn correct incorrect  accuracy  \\\n",
       "0  XGBClassifier without SMOTE  211  23  27  52     234        79  0.748000   \n",
       "1     XGBClassifier with SMOTE  211  25  25  52     236        77  0.753994   \n",
       "\n",
       "   precision    recall        f1   roc_auc  avg_pre  \n",
       "0   0.887000  0.802000  0.842000  0.631000    0.877  \n",
       "1   0.894068  0.802281  0.845691  0.651141    0.883  "
      ]
     },
     "execution_count": 15,
     "metadata": {},
     "output_type": "execute_result"
    }
   ],
   "source": [
    "df_result = df_result.append(row, ignore_index=True)\n",
    "df_result"
   ]
  },
  {
   "cell_type": "code",
   "execution_count": 16,
   "id": "civil-principal",
   "metadata": {},
   "outputs": [
    {
     "data": {
      "text/plain": [
       "Text(0.5, 1.0, 'Precision-Recall curve: ~0.8834')"
      ]
     },
     "execution_count": 16,
     "metadata": {},
     "output_type": "execute_result"
    },
    {
     "data": {
      "image/png": "[encoded data removed]",
      "text/plain": [
       "<Figure size 432x288 with 1 Axes>"
      ]
     },
     "metadata": {
      "needs_background": "light"
     },
     "output_type": "display_data"
    }
   ],
   "source": [
    "avg_precision = average_precision_score(y_test, y_pred_smote)\n",
    "precision, recall, _ = precision_recall_curve(y_test, y_pred_smote)\n",
    "\n",
    "plt.step(recall, precision, color='b', alpha=0.2, where='post')\n",
    "plt.fill_between(recall, precision, step='post', alpha=0.2, color='b')\n",
    "\n",
    "plt.xlabel('Recall')\n",
    "plt.ylabel('Precision')\n",
    "plt.ylim([0.0, 1.05])\n",
    "plt.xlim([0.0, 1.0])\n",
    "plt.title('Precision-Recall curve: ~{0:0.4f}'.format(avg_precision))"
   ]
  },
  {
   "cell_type": "markdown",
   "id": "supported-senate",
   "metadata": {},
   "source": [
    "### 3. Using under-sampling and SMOTE over-sampling"
   ]
  },
  {
   "cell_type": "code",
   "execution_count": 17,
   "id": "productive-rebel",
   "metadata": {},
   "outputs": [],
   "source": [
    "oversampled = SMOTE(sampling_strategy=0.6, \n",
    "                    random_state=0,\n",
    "                    k_neighbors=4)\n",
    "X_train_smote, y_train_smote = oversampled.fit_resample(X_train, y_train)"
   ]
  },
  {
   "cell_type": "code",
   "execution_count": 18,
   "id": "mysterious-porcelain",
   "metadata": {},
   "outputs": [
    {
     "data": {
      "text/plain": [
       "0.6250523669878508"
      ]
     },
     "execution_count": 18,
     "metadata": {},
     "output_type": "execute_result"
    }
   ],
   "source": [
    "y_train_smote.mean()"
   ]
  },
  {
   "cell_type": "code",
   "execution_count": 19,
   "id": "becoming-announcement",
   "metadata": {},
   "outputs": [],
   "source": [
    "undersampled = RandomUnderSampler(sampling_strategy=1.0, random_state=0)\n",
    "X_train_final, y_train_final = undersampled.fit_resample(X_train_smote, y_train_smote)"
   ]
  },
  {
   "cell_type": "code",
   "execution_count": 20,
   "id": "sustainable-rolling",
   "metadata": {},
   "outputs": [
    {
     "data": {
      "text/plain": [
       "0.5"
      ]
     },
     "execution_count": 20,
     "metadata": {},
     "output_type": "execute_result"
    }
   ],
   "source": [
    "y_train_final.mean()"
   ]
  },
  {
   "cell_type": "code",
   "execution_count": 21,
   "id": "acute-script",
   "metadata": {},
   "outputs": [],
   "source": [
    "classifier = XGBClassifier(eval_metric='mlogloss',use_label_encoder=False,random_state=10)\n",
    "model = classifier.fit(X_train_final, y_train_final)\n",
    "y_pred_smote = model.predict(X_test)"
   ]
  },
  {
   "cell_type": "code",
   "execution_count": 22,
   "id": "positive-enterprise",
   "metadata": {},
   "outputs": [],
   "source": [
    "tn, fp, fn, tp = confusion_matrix(y_test, y_pred_smote).ravel()\n",
    "accuracy = accuracy_score(y_test, y_pred_smote)\n",
    "precision = precision_score(y_test, y_pred_smote)\n",
    "recall = recall_score(y_test, y_pred_smote)\n",
    "f1 = f1_score(y_test, y_pred_smote)\n",
    "roc_auc = roc_auc_score(y_test, y_pred_smote)\n",
    "avg_precision = average_precision_score(y_test, y_pred_smote)\n",
    "\n",
    "row = {'model': 'XGBClassifier with under/over',\n",
    "        'tp': tp,\n",
    "        'tn': tn,\n",
    "        'fp': fp,\n",
    "        'fn': fn,\n",
    "        'correct': tp+tn,\n",
    "        'incorrect': fp+fn,\n",
    "        'accuracy': accuracy,\n",
    "        'precision': precision,\n",
    "        'recall': recall,\n",
    "        'f1': f1,\n",
    "        'roc_auc': roc_auc,\n",
    "        'avg_pre': round(avg_precision,3),       \n",
    "    }"
   ]
  },
  {
   "cell_type": "code",
   "execution_count": 23,
   "id": "secondary-positive",
   "metadata": {},
   "outputs": [
    {
     "data": {
      "text/html": [
       "<div>\n",
       "<style scoped>\n",
       "    .dataframe tbody tr th:only-of-type {\n",
       "        vertical-align: middle;\n",
       "    }\n",
       "\n",
       "    .dataframe tbody tr th {\n",
       "        vertical-align: top;\n",
       "    }\n",
       "\n",
       "    .dataframe thead th {\n",
       "        text-align: right;\n",
       "    }\n",
       "</style>\n",
       "<table border=\"1\" class=\"dataframe\">\n",
       "  <thead>\n",
       "    <tr style=\"text-align: right;\">\n",
       "      <th></th>\n",
       "      <th>model</th>\n",
       "      <th>tp</th>\n",
       "      <th>tn</th>\n",
       "      <th>fp</th>\n",
       "      <th>fn</th>\n",
       "      <th>correct</th>\n",
       "      <th>incorrect</th>\n",
       "      <th>accuracy</th>\n",
       "      <th>precision</th>\n",
       "      <th>recall</th>\n",
       "      <th>f1</th>\n",
       "      <th>roc_auc</th>\n",
       "      <th>avg_pre</th>\n",
       "    </tr>\n",
       "  </thead>\n",
       "  <tbody>\n",
       "    <tr>\n",
       "      <th>0</th>\n",
       "      <td>XGBClassifier without SMOTE</td>\n",
       "      <td>211</td>\n",
       "      <td>23</td>\n",
       "      <td>27</td>\n",
       "      <td>52</td>\n",
       "      <td>234</td>\n",
       "      <td>79</td>\n",
       "      <td>0.748000</td>\n",
       "      <td>0.887000</td>\n",
       "      <td>0.802000</td>\n",
       "      <td>0.842000</td>\n",
       "      <td>0.631000</td>\n",
       "      <td>0.877</td>\n",
       "    </tr>\n",
       "    <tr>\n",
       "      <th>1</th>\n",
       "      <td>XGBClassifier with SMOTE</td>\n",
       "      <td>211</td>\n",
       "      <td>25</td>\n",
       "      <td>25</td>\n",
       "      <td>52</td>\n",
       "      <td>236</td>\n",
       "      <td>77</td>\n",
       "      <td>0.753994</td>\n",
       "      <td>0.894068</td>\n",
       "      <td>0.802281</td>\n",
       "      <td>0.845691</td>\n",
       "      <td>0.651141</td>\n",
       "      <td>0.883</td>\n",
       "    </tr>\n",
       "    <tr>\n",
       "      <th>2</th>\n",
       "      <td>XGBClassifier with under/over</td>\n",
       "      <td>190</td>\n",
       "      <td>28</td>\n",
       "      <td>22</td>\n",
       "      <td>73</td>\n",
       "      <td>218</td>\n",
       "      <td>95</td>\n",
       "      <td>0.696486</td>\n",
       "      <td>0.896226</td>\n",
       "      <td>0.722433</td>\n",
       "      <td>0.800000</td>\n",
       "      <td>0.641217</td>\n",
       "      <td>0.881</td>\n",
       "    </tr>\n",
       "  </tbody>\n",
       "</table>\n",
       "</div>"
      ],
      "text/plain": [
       "                           model   tp  tn  fp  fn correct incorrect  accuracy  \\\n",
       "0    XGBClassifier without SMOTE  211  23  27  52     234        79  0.748000   \n",
       "1       XGBClassifier with SMOTE  211  25  25  52     236        77  0.753994   \n",
       "2  XGBClassifier with under/over  190  28  22  73     218        95  0.696486   \n",
       "\n",
       "   precision    recall        f1   roc_auc  avg_pre  \n",
       "0   0.887000  0.802000  0.842000  0.631000    0.877  \n",
       "1   0.894068  0.802281  0.845691  0.651141    0.883  \n",
       "2   0.896226  0.722433  0.800000  0.641217    0.881  "
      ]
     },
     "execution_count": 23,
     "metadata": {},
     "output_type": "execute_result"
    }
   ],
   "source": [
    "df_result = df_result.append(row, ignore_index=True)\n",
    "df_result"
   ]
  },
  {
   "cell_type": "code",
   "execution_count": 24,
   "id": "crazy-housing",
   "metadata": {},
   "outputs": [
    {
     "data": {
      "text/plain": [
       "Text(0.5, 1.0, 'Precision-Recall curve: ~0.8807')"
      ]
     },
     "execution_count": 24,
     "metadata": {},
     "output_type": "execute_result"
    },
    {
     "data": {
      "image/png": "[encoded data removed]",
      "text/plain": [
       "<Figure size 432x288 with 1 Axes>"
      ]
     },
     "metadata": {
      "needs_background": "light"
     },
     "output_type": "display_data"
    }
   ],
   "source": [
    "avg_precision = average_precision_score(y_test, y_pred_smote)\n",
    "precision, recall, _ = precision_recall_curve(y_test, y_pred_smote)\n",
    "\n",
    "plt.step(recall, precision, color='b', alpha=0.2, where='post')\n",
    "plt.fill_between(recall, precision, step='post', alpha=0.2, color='b')\n",
    "\n",
    "plt.xlabel('Recall')\n",
    "plt.ylabel('Precision')\n",
    "plt.ylim([0.0, 1.05])\n",
    "plt.xlim([0.0, 1.0])\n",
    "plt.title('Precision-Recall curve: ~{0:0.4f}'.format(avg_precision))"
   ]
  },
  {
   "cell_type": "markdown",
   "id": "internal-classroom",
   "metadata": {},
   "source": [
    "### 4. Borderline SMOTE"
   ]
  },
  {
   "cell_type": "code",
   "execution_count": 25,
   "id": "assured-raising",
   "metadata": {},
   "outputs": [],
   "source": [
    "oversampled = BorderlineSMOTE(random_state=0)\n",
    "X_train_smote, y_train_smote = oversampled.fit_resample(X_train, y_train)"
   ]
  },
  {
   "cell_type": "code",
   "execution_count": 26,
   "id": "modified-rescue",
   "metadata": {},
   "outputs": [
    {
     "data": {
      "text/plain": [
       "0.5"
      ]
     },
     "execution_count": 26,
     "metadata": {},
     "output_type": "execute_result"
    }
   ],
   "source": [
    "y_train_smote.mean()"
   ]
  },
  {
   "cell_type": "code",
   "execution_count": 27,
   "id": "central-content",
   "metadata": {},
   "outputs": [],
   "source": [
    "classifier = XGBClassifier(eval_metric='mlogloss',use_label_encoder=False,random_state=10)\n",
    "model = classifier.fit(X_train_smote, y_train_smote)\n",
    "y_pred_smote = model.predict(X_test)"
   ]
  },
  {
   "cell_type": "code",
   "execution_count": 28,
   "id": "fresh-lindsay",
   "metadata": {},
   "outputs": [],
   "source": [
    "tn, fp, fn, tp = confusion_matrix(y_test, y_pred_smote).ravel()\n",
    "accuracy = accuracy_score(y_test, y_pred_smote)\n",
    "precision = precision_score(y_test, y_pred_smote)\n",
    "recall = recall_score(y_test, y_pred_smote)\n",
    "f1 = f1_score(y_test, y_pred_smote)\n",
    "roc_auc = roc_auc_score(y_test, y_pred_smote)\n",
    "avg_precision = average_precision_score(y_test, y_pred_smote)\n",
    "\n",
    "row = {'model': 'XGBClassifier with Borderline SMOTE',\n",
    "        'tp': tp,\n",
    "        'tn': tn,\n",
    "        'fp': fp,\n",
    "        'fn': fn,\n",
    "        'correct': tp+tn,\n",
    "        'incorrect': fp+fn,\n",
    "        'accuracy': accuracy,\n",
    "        'precision': precision,\n",
    "        'recall': recall,\n",
    "        'f1': f1,\n",
    "        'roc_auc': roc_auc,\n",
    "        'avg_pre': round(avg_precision,3),       \n",
    "    }"
   ]
  },
  {
   "cell_type": "code",
   "execution_count": 29,
   "id": "nonprofit-harassment",
   "metadata": {},
   "outputs": [
    {
     "data": {
      "text/html": [
       "<div>\n",
       "<style scoped>\n",
       "    .dataframe tbody tr th:only-of-type {\n",
       "        vertical-align: middle;\n",
       "    }\n",
       "\n",
       "    .dataframe tbody tr th {\n",
       "        vertical-align: top;\n",
       "    }\n",
       "\n",
       "    .dataframe thead th {\n",
       "        text-align: right;\n",
       "    }\n",
       "</style>\n",
       "<table border=\"1\" class=\"dataframe\">\n",
       "  <thead>\n",
       "    <tr style=\"text-align: right;\">\n",
       "      <th></th>\n",
       "      <th>model</th>\n",
       "      <th>tp</th>\n",
       "      <th>tn</th>\n",
       "      <th>fp</th>\n",
       "      <th>fn</th>\n",
       "      <th>correct</th>\n",
       "      <th>incorrect</th>\n",
       "      <th>accuracy</th>\n",
       "      <th>precision</th>\n",
       "      <th>recall</th>\n",
       "      <th>f1</th>\n",
       "      <th>roc_auc</th>\n",
       "      <th>avg_pre</th>\n",
       "    </tr>\n",
       "  </thead>\n",
       "  <tbody>\n",
       "    <tr>\n",
       "      <th>0</th>\n",
       "      <td>XGBClassifier without SMOTE</td>\n",
       "      <td>211</td>\n",
       "      <td>23</td>\n",
       "      <td>27</td>\n",
       "      <td>52</td>\n",
       "      <td>234</td>\n",
       "      <td>79</td>\n",
       "      <td>0.748000</td>\n",
       "      <td>0.887000</td>\n",
       "      <td>0.802000</td>\n",
       "      <td>0.842000</td>\n",
       "      <td>0.631000</td>\n",
       "      <td>0.877</td>\n",
       "    </tr>\n",
       "    <tr>\n",
       "      <th>1</th>\n",
       "      <td>XGBClassifier with SMOTE</td>\n",
       "      <td>211</td>\n",
       "      <td>25</td>\n",
       "      <td>25</td>\n",
       "      <td>52</td>\n",
       "      <td>236</td>\n",
       "      <td>77</td>\n",
       "      <td>0.753994</td>\n",
       "      <td>0.894068</td>\n",
       "      <td>0.802281</td>\n",
       "      <td>0.845691</td>\n",
       "      <td>0.651141</td>\n",
       "      <td>0.883</td>\n",
       "    </tr>\n",
       "    <tr>\n",
       "      <th>2</th>\n",
       "      <td>XGBClassifier with under/over</td>\n",
       "      <td>190</td>\n",
       "      <td>28</td>\n",
       "      <td>22</td>\n",
       "      <td>73</td>\n",
       "      <td>218</td>\n",
       "      <td>95</td>\n",
       "      <td>0.696486</td>\n",
       "      <td>0.896226</td>\n",
       "      <td>0.722433</td>\n",
       "      <td>0.800000</td>\n",
       "      <td>0.641217</td>\n",
       "      <td>0.881</td>\n",
       "    </tr>\n",
       "    <tr>\n",
       "      <th>3</th>\n",
       "      <td>XGBClassifier with Borderline SMOTE</td>\n",
       "      <td>213</td>\n",
       "      <td>26</td>\n",
       "      <td>24</td>\n",
       "      <td>50</td>\n",
       "      <td>239</td>\n",
       "      <td>74</td>\n",
       "      <td>0.763578</td>\n",
       "      <td>0.898734</td>\n",
       "      <td>0.809886</td>\n",
       "      <td>0.852000</td>\n",
       "      <td>0.664943</td>\n",
       "      <td>0.888</td>\n",
       "    </tr>\n",
       "  </tbody>\n",
       "</table>\n",
       "</div>"
      ],
      "text/plain": [
       "                                 model   tp  tn  fp  fn correct incorrect  \\\n",
       "0          XGBClassifier without SMOTE  211  23  27  52     234        79   \n",
       "1             XGBClassifier with SMOTE  211  25  25  52     236        77   \n",
       "2        XGBClassifier with under/over  190  28  22  73     218        95   \n",
       "3  XGBClassifier with Borderline SMOTE  213  26  24  50     239        74   \n",
       "\n",
       "   accuracy  precision    recall        f1   roc_auc  avg_pre  \n",
       "0  0.748000   0.887000  0.802000  0.842000  0.631000    0.877  \n",
       "1  0.753994   0.894068  0.802281  0.845691  0.651141    0.883  \n",
       "2  0.696486   0.896226  0.722433  0.800000  0.641217    0.881  \n",
       "3  0.763578   0.898734  0.809886  0.852000  0.664943    0.888  "
      ]
     },
     "execution_count": 29,
     "metadata": {},
     "output_type": "execute_result"
    }
   ],
   "source": [
    "df_result = df_result.append(row, ignore_index=True)\n",
    "df_result"
   ]
  },
  {
   "cell_type": "markdown",
   "id": "center-hobby",
   "metadata": {},
   "source": [
    "### 5. Compared with Balanced RF Classifier"
   ]
  },
  {
   "cell_type": "code",
   "execution_count": 30,
   "id": "literary-penguin",
   "metadata": {},
   "outputs": [],
   "source": [
    "from imblearn.ensemble import BalancedRandomForestClassifier\n",
    "\n",
    "classifier = BalancedRandomForestClassifier(n_estimators=400,\n",
    "                                          criterion='gini',\n",
    "                                          oob_score=True, random_state=10)\n",
    "\n",
    "model = classifier.fit(X_train, y_train[:,0])\n",
    "y_pred_RF = model.predict(X_test)"
   ]
  },
  {
   "cell_type": "code",
   "execution_count": 31,
   "id": "central-physiology",
   "metadata": {},
   "outputs": [],
   "source": [
    "tn, fp, fn, tp = confusion_matrix(y_test, y_pred_RF).ravel()\n",
    "accuracy = accuracy_score(y_test, y_pred_RF)\n",
    "precision = precision_score(y_test, y_pred_RF)\n",
    "recall = recall_score(y_test, y_pred_RF)\n",
    "f1 = f1_score(y_test, y_pred_RF)\n",
    "roc_auc = roc_auc_score(y_test, y_pred_RF)\n",
    "avg_precision = average_precision_score(y_test, y_pred_RF)\n",
    "\n",
    "row = {'model': 'Balanced RF Classifier',\n",
    "        'tp': tp,\n",
    "        'tn': tn,\n",
    "        'fp': fp,\n",
    "        'fn': fn,\n",
    "        'correct': tp+tn,\n",
    "        'incorrect': fp+fn,\n",
    "        'accuracy': accuracy,\n",
    "        'precision': precision,\n",
    "        'recall': recall,\n",
    "        'f1': f1,\n",
    "        'roc_auc': roc_auc,\n",
    "        'avg_pre': round(avg_precision,3),       \n",
    "    }"
   ]
  },
  {
   "cell_type": "code",
   "execution_count": 32,
   "id": "disciplinary-ballot",
   "metadata": {},
   "outputs": [
    {
     "data": {
      "text/html": [
       "<div>\n",
       "<style scoped>\n",
       "    .dataframe tbody tr th:only-of-type {\n",
       "        vertical-align: middle;\n",
       "    }\n",
       "\n",
       "    .dataframe tbody tr th {\n",
       "        vertical-align: top;\n",
       "    }\n",
       "\n",
       "    .dataframe thead th {\n",
       "        text-align: right;\n",
       "    }\n",
       "</style>\n",
       "<table border=\"1\" class=\"dataframe\">\n",
       "  <thead>\n",
       "    <tr style=\"text-align: right;\">\n",
       "      <th></th>\n",
       "      <th>model</th>\n",
       "      <th>tp</th>\n",
       "      <th>tn</th>\n",
       "      <th>fp</th>\n",
       "      <th>fn</th>\n",
       "      <th>correct</th>\n",
       "      <th>incorrect</th>\n",
       "      <th>accuracy</th>\n",
       "      <th>precision</th>\n",
       "      <th>recall</th>\n",
       "      <th>f1</th>\n",
       "      <th>roc_auc</th>\n",
       "      <th>avg_pre</th>\n",
       "    </tr>\n",
       "  </thead>\n",
       "  <tbody>\n",
       "    <tr>\n",
       "      <th>0</th>\n",
       "      <td>XGBClassifier without SMOTE</td>\n",
       "      <td>211</td>\n",
       "      <td>23</td>\n",
       "      <td>27</td>\n",
       "      <td>52</td>\n",
       "      <td>234</td>\n",
       "      <td>79</td>\n",
       "      <td>0.748000</td>\n",
       "      <td>0.887000</td>\n",
       "      <td>0.802000</td>\n",
       "      <td>0.842000</td>\n",
       "      <td>0.631000</td>\n",
       "      <td>0.877</td>\n",
       "    </tr>\n",
       "    <tr>\n",
       "      <th>1</th>\n",
       "      <td>XGBClassifier with SMOTE</td>\n",
       "      <td>211</td>\n",
       "      <td>25</td>\n",
       "      <td>25</td>\n",
       "      <td>52</td>\n",
       "      <td>236</td>\n",
       "      <td>77</td>\n",
       "      <td>0.753994</td>\n",
       "      <td>0.894068</td>\n",
       "      <td>0.802281</td>\n",
       "      <td>0.845691</td>\n",
       "      <td>0.651141</td>\n",
       "      <td>0.883</td>\n",
       "    </tr>\n",
       "    <tr>\n",
       "      <th>2</th>\n",
       "      <td>XGBClassifier with under/over</td>\n",
       "      <td>190</td>\n",
       "      <td>28</td>\n",
       "      <td>22</td>\n",
       "      <td>73</td>\n",
       "      <td>218</td>\n",
       "      <td>95</td>\n",
       "      <td>0.696486</td>\n",
       "      <td>0.896226</td>\n",
       "      <td>0.722433</td>\n",
       "      <td>0.800000</td>\n",
       "      <td>0.641217</td>\n",
       "      <td>0.881</td>\n",
       "    </tr>\n",
       "    <tr>\n",
       "      <th>3</th>\n",
       "      <td>XGBClassifier with Borderline SMOTE</td>\n",
       "      <td>213</td>\n",
       "      <td>26</td>\n",
       "      <td>24</td>\n",
       "      <td>50</td>\n",
       "      <td>239</td>\n",
       "      <td>74</td>\n",
       "      <td>0.763578</td>\n",
       "      <td>0.898734</td>\n",
       "      <td>0.809886</td>\n",
       "      <td>0.852000</td>\n",
       "      <td>0.664943</td>\n",
       "      <td>0.888</td>\n",
       "    </tr>\n",
       "    <tr>\n",
       "      <th>4</th>\n",
       "      <td>Balanced RF Classifier</td>\n",
       "      <td>179</td>\n",
       "      <td>36</td>\n",
       "      <td>14</td>\n",
       "      <td>84</td>\n",
       "      <td>215</td>\n",
       "      <td>98</td>\n",
       "      <td>0.686901</td>\n",
       "      <td>0.927461</td>\n",
       "      <td>0.680608</td>\n",
       "      <td>0.785088</td>\n",
       "      <td>0.700304</td>\n",
       "      <td>0.900</td>\n",
       "    </tr>\n",
       "  </tbody>\n",
       "</table>\n",
       "</div>"
      ],
      "text/plain": [
       "                                 model   tp  tn  fp  fn correct incorrect  \\\n",
       "0          XGBClassifier without SMOTE  211  23  27  52     234        79   \n",
       "1             XGBClassifier with SMOTE  211  25  25  52     236        77   \n",
       "2        XGBClassifier with under/over  190  28  22  73     218        95   \n",
       "3  XGBClassifier with Borderline SMOTE  213  26  24  50     239        74   \n",
       "4               Balanced RF Classifier  179  36  14  84     215        98   \n",
       "\n",
       "   accuracy  precision    recall        f1   roc_auc  avg_pre  \n",
       "0  0.748000   0.887000  0.802000  0.842000  0.631000    0.877  \n",
       "1  0.753994   0.894068  0.802281  0.845691  0.651141    0.883  \n",
       "2  0.696486   0.896226  0.722433  0.800000  0.641217    0.881  \n",
       "3  0.763578   0.898734  0.809886  0.852000  0.664943    0.888  \n",
       "4  0.686901   0.927461  0.680608  0.785088  0.700304    0.900  "
      ]
     },
     "execution_count": 32,
     "metadata": {},
     "output_type": "execute_result"
    }
   ],
   "source": [
    "df_result = df_result.append(row, ignore_index=True)\n",
    "df_result"
   ]
  },
  {
   "cell_type": "markdown",
   "id": "manual-honolulu",
   "metadata": {},
   "source": [
    "### 6. Compared with standard RF Classifier"
   ]
  },
  {
   "cell_type": "code",
   "execution_count": 33,
   "id": "dramatic-client",
   "metadata": {},
   "outputs": [],
   "source": [
    "from sklearn.ensemble import RandomForestClassifier\n",
    "\n",
    "classifier = RandomForestClassifier(n_estimators=400,\n",
    "                                          criterion='gini',\n",
    "                                          oob_score=True, random_state=10)\n",
    "\n",
    "model = classifier.fit(X_train, y_train[:,0])\n",
    "y_pred_RF = model.predict(X_test)"
   ]
  },
  {
   "cell_type": "code",
   "execution_count": 34,
   "id": "cross-degree",
   "metadata": {},
   "outputs": [],
   "source": [
    "tn, fp, fn, tp = confusion_matrix(y_test, y_pred_RF).ravel()\n",
    "accuracy = accuracy_score(y_test, y_pred_RF)\n",
    "precision = precision_score(y_test, y_pred_RF)\n",
    "recall = recall_score(y_test, y_pred_RF)\n",
    "f1 = f1_score(y_test, y_pred_RF)\n",
    "roc_auc = roc_auc_score(y_test, y_pred_RF)\n",
    "avg_precision = average_precision_score(y_test, y_pred_RF)\n",
    "\n",
    "row = {'model': 'RF Classifier',\n",
    "        'tp': tp,\n",
    "        'tn': tn,\n",
    "        'fp': fp,\n",
    "        'fn': fn,\n",
    "        'correct': tp+tn,\n",
    "        'incorrect': fp+fn,\n",
    "        'accuracy': accuracy,\n",
    "        'precision': precision,\n",
    "        'recall': recall,\n",
    "        'f1': f1,\n",
    "        'roc_auc': roc_auc,\n",
    "        'avg_pre': round(avg_precision,3),       \n",
    "    }"
   ]
  },
  {
   "cell_type": "code",
   "execution_count": 35,
   "id": "healthy-performer",
   "metadata": {},
   "outputs": [
    {
     "data": {
      "text/html": [
       "<div>\n",
       "<style scoped>\n",
       "    .dataframe tbody tr th:only-of-type {\n",
       "        vertical-align: middle;\n",
       "    }\n",
       "\n",
       "    .dataframe tbody tr th {\n",
       "        vertical-align: top;\n",
       "    }\n",
       "\n",
       "    .dataframe thead th {\n",
       "        text-align: right;\n",
       "    }\n",
       "</style>\n",
       "<table border=\"1\" class=\"dataframe\">\n",
       "  <thead>\n",
       "    <tr style=\"text-align: right;\">\n",
       "      <th></th>\n",
       "      <th>model</th>\n",
       "      <th>tp</th>\n",
       "      <th>tn</th>\n",
       "      <th>fp</th>\n",
       "      <th>fn</th>\n",
       "      <th>correct</th>\n",
       "      <th>incorrect</th>\n",
       "      <th>accuracy</th>\n",
       "      <th>precision</th>\n",
       "      <th>recall</th>\n",
       "      <th>f1</th>\n",
       "      <th>roc_auc</th>\n",
       "      <th>avg_pre</th>\n",
       "    </tr>\n",
       "  </thead>\n",
       "  <tbody>\n",
       "    <tr>\n",
       "      <th>0</th>\n",
       "      <td>XGBClassifier without SMOTE</td>\n",
       "      <td>211</td>\n",
       "      <td>23</td>\n",
       "      <td>27</td>\n",
       "      <td>52</td>\n",
       "      <td>234</td>\n",
       "      <td>79</td>\n",
       "      <td>0.748000</td>\n",
       "      <td>0.887000</td>\n",
       "      <td>0.802000</td>\n",
       "      <td>0.842000</td>\n",
       "      <td>0.631000</td>\n",
       "      <td>0.877</td>\n",
       "    </tr>\n",
       "    <tr>\n",
       "      <th>1</th>\n",
       "      <td>XGBClassifier with SMOTE</td>\n",
       "      <td>211</td>\n",
       "      <td>25</td>\n",
       "      <td>25</td>\n",
       "      <td>52</td>\n",
       "      <td>236</td>\n",
       "      <td>77</td>\n",
       "      <td>0.753994</td>\n",
       "      <td>0.894068</td>\n",
       "      <td>0.802281</td>\n",
       "      <td>0.845691</td>\n",
       "      <td>0.651141</td>\n",
       "      <td>0.883</td>\n",
       "    </tr>\n",
       "    <tr>\n",
       "      <th>2</th>\n",
       "      <td>XGBClassifier with under/over</td>\n",
       "      <td>190</td>\n",
       "      <td>28</td>\n",
       "      <td>22</td>\n",
       "      <td>73</td>\n",
       "      <td>218</td>\n",
       "      <td>95</td>\n",
       "      <td>0.696486</td>\n",
       "      <td>0.896226</td>\n",
       "      <td>0.722433</td>\n",
       "      <td>0.800000</td>\n",
       "      <td>0.641217</td>\n",
       "      <td>0.881</td>\n",
       "    </tr>\n",
       "    <tr>\n",
       "      <th>3</th>\n",
       "      <td>XGBClassifier with Borderline SMOTE</td>\n",
       "      <td>213</td>\n",
       "      <td>26</td>\n",
       "      <td>24</td>\n",
       "      <td>50</td>\n",
       "      <td>239</td>\n",
       "      <td>74</td>\n",
       "      <td>0.763578</td>\n",
       "      <td>0.898734</td>\n",
       "      <td>0.809886</td>\n",
       "      <td>0.852000</td>\n",
       "      <td>0.664943</td>\n",
       "      <td>0.888</td>\n",
       "    </tr>\n",
       "    <tr>\n",
       "      <th>4</th>\n",
       "      <td>Balanced RF Classifier</td>\n",
       "      <td>179</td>\n",
       "      <td>36</td>\n",
       "      <td>14</td>\n",
       "      <td>84</td>\n",
       "      <td>215</td>\n",
       "      <td>98</td>\n",
       "      <td>0.686901</td>\n",
       "      <td>0.927461</td>\n",
       "      <td>0.680608</td>\n",
       "      <td>0.785088</td>\n",
       "      <td>0.700304</td>\n",
       "      <td>0.900</td>\n",
       "    </tr>\n",
       "    <tr>\n",
       "      <th>5</th>\n",
       "      <td>RF Classifier</td>\n",
       "      <td>222</td>\n",
       "      <td>20</td>\n",
       "      <td>30</td>\n",
       "      <td>41</td>\n",
       "      <td>242</td>\n",
       "      <td>71</td>\n",
       "      <td>0.773163</td>\n",
       "      <td>0.880952</td>\n",
       "      <td>0.844106</td>\n",
       "      <td>0.862136</td>\n",
       "      <td>0.622053</td>\n",
       "      <td>0.875</td>\n",
       "    </tr>\n",
       "  </tbody>\n",
       "</table>\n",
       "</div>"
      ],
      "text/plain": [
       "                                 model   tp  tn  fp  fn correct incorrect  \\\n",
       "0          XGBClassifier without SMOTE  211  23  27  52     234        79   \n",
       "1             XGBClassifier with SMOTE  211  25  25  52     236        77   \n",
       "2        XGBClassifier with under/over  190  28  22  73     218        95   \n",
       "3  XGBClassifier with Borderline SMOTE  213  26  24  50     239        74   \n",
       "4               Balanced RF Classifier  179  36  14  84     215        98   \n",
       "5                        RF Classifier  222  20  30  41     242        71   \n",
       "\n",
       "   accuracy  precision    recall        f1   roc_auc  avg_pre  \n",
       "0  0.748000   0.887000  0.802000  0.842000  0.631000    0.877  \n",
       "1  0.753994   0.894068  0.802281  0.845691  0.651141    0.883  \n",
       "2  0.696486   0.896226  0.722433  0.800000  0.641217    0.881  \n",
       "3  0.763578   0.898734  0.809886  0.852000  0.664943    0.888  \n",
       "4  0.686901   0.927461  0.680608  0.785088  0.700304    0.900  \n",
       "5  0.773163   0.880952  0.844106  0.862136  0.622053    0.875  "
      ]
     },
     "execution_count": 35,
     "metadata": {},
     "output_type": "execute_result"
    }
   ],
   "source": [
    "df_result = df_result.append(row, ignore_index=True)\n",
    "df_result"
   ]
  },
  {
   "cell_type": "code",
   "execution_count": 36,
   "id": "nonprofit-canberra",
   "metadata": {},
   "outputs": [],
   "source": [
    "df_result.to_csv('results/eval_on_test_6.csv', index=False)"
   ]
  },
  {
   "cell_type": "code",
   "execution_count": 4,
   "id": "collect-corporation",
   "metadata": {},
   "outputs": [],
   "source": [
    "df_result = pd.read_csv('results/eval_on_test_6.csv')"
   ]
  },
  {
   "cell_type": "code",
   "execution_count": 5,
   "id": "guilty-masters",
   "metadata": {},
   "outputs": [
    {
     "data": {
      "text/html": [
       "<div>\n",
       "<style scoped>\n",
       "    .dataframe tbody tr th:only-of-type {\n",
       "        vertical-align: middle;\n",
       "    }\n",
       "\n",
       "    .dataframe tbody tr th {\n",
       "        vertical-align: top;\n",
       "    }\n",
       "\n",
       "    .dataframe thead th {\n",
       "        text-align: right;\n",
       "    }\n",
       "</style>\n",
       "<table border=\"1\" class=\"dataframe\">\n",
       "  <thead>\n",
       "    <tr style=\"text-align: right;\">\n",
       "      <th></th>\n",
       "      <th>model</th>\n",
       "      <th>tp</th>\n",
       "      <th>tn</th>\n",
       "      <th>fp</th>\n",
       "      <th>fn</th>\n",
       "      <th>correct</th>\n",
       "      <th>incorrect</th>\n",
       "      <th>accuracy</th>\n",
       "      <th>precision</th>\n",
       "      <th>recall</th>\n",
       "      <th>f1</th>\n",
       "      <th>roc_auc</th>\n",
       "      <th>avg_pre</th>\n",
       "    </tr>\n",
       "  </thead>\n",
       "  <tbody>\n",
       "    <tr>\n",
       "      <th>0</th>\n",
       "      <td>XGBClassifier without SMOTE</td>\n",
       "      <td>211</td>\n",
       "      <td>23</td>\n",
       "      <td>27</td>\n",
       "      <td>52</td>\n",
       "      <td>234</td>\n",
       "      <td>79</td>\n",
       "      <td>0.748000</td>\n",
       "      <td>0.887000</td>\n",
       "      <td>0.802000</td>\n",
       "      <td>0.842000</td>\n",
       "      <td>0.631000</td>\n",
       "      <td>0.877</td>\n",
       "    </tr>\n",
       "    <tr>\n",
       "      <th>1</th>\n",
       "      <td>XGBClassifier with SMOTE</td>\n",
       "      <td>211</td>\n",
       "      <td>25</td>\n",
       "      <td>25</td>\n",
       "      <td>52</td>\n",
       "      <td>236</td>\n",
       "      <td>77</td>\n",
       "      <td>0.753994</td>\n",
       "      <td>0.894068</td>\n",
       "      <td>0.802281</td>\n",
       "      <td>0.845691</td>\n",
       "      <td>0.651141</td>\n",
       "      <td>0.883</td>\n",
       "    </tr>\n",
       "    <tr>\n",
       "      <th>2</th>\n",
       "      <td>XGBClassifier with under/over</td>\n",
       "      <td>190</td>\n",
       "      <td>28</td>\n",
       "      <td>22</td>\n",
       "      <td>73</td>\n",
       "      <td>218</td>\n",
       "      <td>95</td>\n",
       "      <td>0.696486</td>\n",
       "      <td>0.896226</td>\n",
       "      <td>0.722433</td>\n",
       "      <td>0.800000</td>\n",
       "      <td>0.641217</td>\n",
       "      <td>0.881</td>\n",
       "    </tr>\n",
       "    <tr>\n",
       "      <th>3</th>\n",
       "      <td>XGBClassifier with Borderline SMOTE</td>\n",
       "      <td>213</td>\n",
       "      <td>26</td>\n",
       "      <td>24</td>\n",
       "      <td>50</td>\n",
       "      <td>239</td>\n",
       "      <td>74</td>\n",
       "      <td>0.763578</td>\n",
       "      <td>0.898734</td>\n",
       "      <td>0.809886</td>\n",
       "      <td>0.852000</td>\n",
       "      <td>0.664943</td>\n",
       "      <td>0.888</td>\n",
       "    </tr>\n",
       "    <tr>\n",
       "      <th>4</th>\n",
       "      <td>Balanced RF Classifier</td>\n",
       "      <td>179</td>\n",
       "      <td>36</td>\n",
       "      <td>14</td>\n",
       "      <td>84</td>\n",
       "      <td>215</td>\n",
       "      <td>98</td>\n",
       "      <td>0.686901</td>\n",
       "      <td>0.927461</td>\n",
       "      <td>0.680608</td>\n",
       "      <td>0.785088</td>\n",
       "      <td>0.700304</td>\n",
       "      <td>0.900</td>\n",
       "    </tr>\n",
       "    <tr>\n",
       "      <th>5</th>\n",
       "      <td>RF Classifier</td>\n",
       "      <td>222</td>\n",
       "      <td>20</td>\n",
       "      <td>30</td>\n",
       "      <td>41</td>\n",
       "      <td>242</td>\n",
       "      <td>71</td>\n",
       "      <td>0.773163</td>\n",
       "      <td>0.880952</td>\n",
       "      <td>0.844106</td>\n",
       "      <td>0.862136</td>\n",
       "      <td>0.622053</td>\n",
       "      <td>0.875</td>\n",
       "    </tr>\n",
       "  </tbody>\n",
       "</table>\n",
       "</div>"
      ],
      "text/plain": [
       "                                 model   tp  tn  fp  fn  correct  incorrect  \\\n",
       "0          XGBClassifier without SMOTE  211  23  27  52      234         79   \n",
       "1             XGBClassifier with SMOTE  211  25  25  52      236         77   \n",
       "2        XGBClassifier with under/over  190  28  22  73      218         95   \n",
       "3  XGBClassifier with Borderline SMOTE  213  26  24  50      239         74   \n",
       "4               Balanced RF Classifier  179  36  14  84      215         98   \n",
       "5                        RF Classifier  222  20  30  41      242         71   \n",
       "\n",
       "   accuracy  precision    recall        f1   roc_auc  avg_pre  \n",
       "0  0.748000   0.887000  0.802000  0.842000  0.631000    0.877  \n",
       "1  0.753994   0.894068  0.802281  0.845691  0.651141    0.883  \n",
       "2  0.696486   0.896226  0.722433  0.800000  0.641217    0.881  \n",
       "3  0.763578   0.898734  0.809886  0.852000  0.664943    0.888  \n",
       "4  0.686901   0.927461  0.680608  0.785088  0.700304    0.900  \n",
       "5  0.773163   0.880952  0.844106  0.862136  0.622053    0.875  "
      ]
     },
     "execution_count": 5,
     "metadata": {},
     "output_type": "execute_result"
    }
   ],
   "source": [
    "df_result"
   ]
  },
  {
   "cell_type": "code",
   "execution_count": null,
   "id": "improved-genetics",
   "metadata": {},
   "outputs": [],
   "source": []
  }
 ],
 "metadata": {
  "kernelspec": {
   "display_name": "Python 3",
   "language": "python",
   "name": "python3"
  },
  "language_info": {
   "codemirror_mode": {
    "name": "ipython",
    "version": 3
   },
   "file_extension": ".py",
   "mimetype": "text/x-python",
   "name": "python",
   "nbconvert_exporter": "python",
   "pygments_lexer": "ipython3",
   "version": "3.8.5"
  }
 },
 "nbformat": 4,
 "nbformat_minor": 5
}
