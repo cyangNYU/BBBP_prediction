{
 "cells": [
  {
   "cell_type": "code",
   "execution_count": 1,
   "id": "under-spanish",
   "metadata": {},
   "outputs": [],
   "source": [
    "import sys, os\n",
    "import numpy as np\n",
    "import pandas as pd\n",
    "from rdkit import Chem, DataStructs\n",
    "from rdkit.Chem import AllChem, rdFMCS, Descriptors, PandasTools,SaltRemover\n",
    "from rdkit.Chem import Draw\n",
    "from rdkit.Chem.Draw import IPythonConsole\n",
    "import matplotlib.pyplot as plt\n",
    "%matplotlib inline\n",
    "remover = SaltRemover.SaltRemover()"
   ]
  },
  {
   "cell_type": "code",
   "execution_count": 3,
   "id": "sunrise-party",
   "metadata": {},
   "outputs": [
    {
     "data": {
      "text/html": [
       "<div>\n",
       "<style scoped>\n",
       "    .dataframe tbody tr th:only-of-type {\n",
       "        vertical-align: middle;\n",
       "    }\n",
       "\n",
       "    .dataframe tbody tr th {\n",
       "        vertical-align: top;\n",
       "    }\n",
       "\n",
       "    .dataframe thead th {\n",
       "        text-align: right;\n",
       "    }\n",
       "</style>\n",
       "<table border=\"1\" class=\"dataframe\">\n",
       "  <thead>\n",
       "    <tr style=\"text-align: right;\">\n",
       "      <th></th>\n",
       "      <th>BBclass</th>\n",
       "      <th>Check</th>\n",
       "      <th>smiles</th>\n",
       "    </tr>\n",
       "  </thead>\n",
       "  <tbody>\n",
       "    <tr>\n",
       "      <th>0</th>\n",
       "      <td>1</td>\n",
       "      <td>2</td>\n",
       "      <td>CN1CCC[C@@H](c2nc3ccccc3n2Cc2ccc(F)cc2)C1</td>\n",
       "    </tr>\n",
       "    <tr>\n",
       "      <th>1</th>\n",
       "      <td>0</td>\n",
       "      <td>2</td>\n",
       "      <td>C=CCn1c2c(c3cc(C(=O)N4CCC(C)CC4)ccc31)CN(CC1CC...</td>\n",
       "    </tr>\n",
       "  </tbody>\n",
       "</table>\n",
       "</div>"
      ],
      "text/plain": [
       "   BBclass  Check                                             smiles\n",
       "0        1      2          CN1CCC[C@@H](c2nc3ccccc3n2Cc2ccc(F)cc2)C1\n",
       "1        0      2  C=CCn1c2c(c3cc(C(=O)N4CCC(C)CC4)ccc31)CN(CC1CC..."
      ]
     },
     "execution_count": 3,
     "metadata": {},
     "output_type": "execute_result"
    }
   ],
   "source": [
    "df1 = pd.read_csv('dataset/train_set.csv')\n",
    "df1 = df1[['BBclass','Check','smiles']]\n",
    "df1.head(2)"
   ]
  },
  {
   "cell_type": "code",
   "execution_count": 4,
   "id": "colored-edmonton",
   "metadata": {},
   "outputs": [
    {
     "data": {
      "text/html": [
       "<div>\n",
       "<style scoped>\n",
       "    .dataframe tbody tr th:only-of-type {\n",
       "        vertical-align: middle;\n",
       "    }\n",
       "\n",
       "    .dataframe tbody tr th {\n",
       "        vertical-align: top;\n",
       "    }\n",
       "\n",
       "    .dataframe thead th {\n",
       "        text-align: right;\n",
       "    }\n",
       "</style>\n",
       "<table border=\"1\" class=\"dataframe\">\n",
       "  <thead>\n",
       "    <tr style=\"text-align: right;\">\n",
       "      <th></th>\n",
       "      <th>BBclass</th>\n",
       "      <th>Check</th>\n",
       "      <th>smiles</th>\n",
       "    </tr>\n",
       "  </thead>\n",
       "  <tbody>\n",
       "    <tr>\n",
       "      <th>0</th>\n",
       "      <td>1</td>\n",
       "      <td>2</td>\n",
       "      <td>Cc1nnc2n1-c1ccc(Cl)cc1C(c1ccccc1)=NC2</td>\n",
       "    </tr>\n",
       "    <tr>\n",
       "      <th>1</th>\n",
       "      <td>1</td>\n",
       "      <td>2</td>\n",
       "      <td>Oc1ncnc2[nH]ncc12</td>\n",
       "    </tr>\n",
       "  </tbody>\n",
       "</table>\n",
       "</div>"
      ],
      "text/plain": [
       "   BBclass  Check                                 smiles\n",
       "0        1      2  Cc1nnc2n1-c1ccc(Cl)cc1C(c1ccccc1)=NC2\n",
       "1        1      2                      Oc1ncnc2[nH]ncc12"
      ]
     },
     "execution_count": 4,
     "metadata": {},
     "output_type": "execute_result"
    }
   ],
   "source": [
    "df2 = pd.read_csv('dataset/test_set.csv')\n",
    "df2 = df2[['BBclass','Check','smiles']]\n",
    "df2.head(2)"
   ]
  },
  {
   "cell_type": "code",
   "execution_count": 5,
   "id": "daily-thursday",
   "metadata": {},
   "outputs": [
    {
     "data": {
      "text/plain": [
       "4463"
      ]
     },
     "execution_count": 5,
     "metadata": {},
     "output_type": "execute_result"
    }
   ],
   "source": [
    "df = pd.concat([df1,df2], ignore_index=True)\n",
    "len(df)"
   ]
  },
  {
   "cell_type": "markdown",
   "id": "flying-phoenix",
   "metadata": {},
   "source": [
    "### 1. Remove_duplicates_for_Dataset"
   ]
  },
  {
   "cell_type": "code",
   "execution_count": 7,
   "id": "protected-photograph",
   "metadata": {},
   "outputs": [],
   "source": [
    "def Check_duplicate_label(df):\n",
    "    duplicate = df[df.duplicated(['smiles'])]\n",
    "    dup_dict = {}\n",
    "    \n",
    "    for i,j in zip(duplicate['smiles'],duplicate['BBclass']):\n",
    "        if i not in dup_dict.keys():\n",
    "            dup_dict[i] = set()\n",
    "            dup_dict[i].add(j)\n",
    "        else:\n",
    "            dup_dict[i].add(j)\n",
    "            \n",
    "    inconsistent = [i for i, j in dup_dict.items() if len(j) > 1 ]\n",
    "    \n",
    "    return inconsistent"
   ]
  },
  {
   "cell_type": "code",
   "execution_count": 8,
   "id": "literary-maine",
   "metadata": {},
   "outputs": [
    {
     "data": {
      "text/plain": [
       "0"
      ]
     },
     "execution_count": 8,
     "metadata": {},
     "output_type": "execute_result"
    }
   ],
   "source": [
    "inconsistent = Check_duplicate_label(df)\n",
    "len(inconsistent)"
   ]
  },
  {
   "cell_type": "code",
   "execution_count": 9,
   "id": "dramatic-wealth",
   "metadata": {},
   "outputs": [
    {
     "name": "stdout",
     "output_type": "stream",
     "text": [
      "After drop duplicates:  4463\n"
     ]
    }
   ],
   "source": [
    "df = df.drop_duplicates('smiles')\n",
    "print ('After drop duplicates: ',len(df))"
   ]
  },
  {
   "cell_type": "code",
   "execution_count": 10,
   "id": "hearing-promotion",
   "metadata": {},
   "outputs": [
    {
     "name": "stdout",
     "output_type": "stream",
     "text": [
      "After removing overlap with the train set :  2563\n"
     ]
    }
   ],
   "source": [
    "ss = pd.read_csv('dataset/train_set_2.csv')\n",
    "df = df.loc[~df['smiles'].isin(ss.smiles.tolist())]\n",
    "print ('After removing overlap with the train set : ',len(df))"
   ]
  },
  {
   "cell_type": "code",
   "execution_count": 11,
   "id": "potential-traveler",
   "metadata": {},
   "outputs": [],
   "source": [
    "df.to_csv('dataset/test_set_combined.csv',index=False)"
   ]
  },
  {
   "cell_type": "code",
   "execution_count": null,
   "id": "confirmed-donor",
   "metadata": {},
   "outputs": [],
   "source": []
  },
  {
   "cell_type": "markdown",
   "id": "bored-oasis",
   "metadata": {},
   "source": [
    "### 2. Calculate 1D and 2D molecular descriptors"
   ]
  },
  {
   "cell_type": "code",
   "execution_count": 12,
   "id": "honest-passenger",
   "metadata": {},
   "outputs": [
    {
     "data": {
      "text/plain": [
       "208"
      ]
     },
     "execution_count": 12,
     "metadata": {},
     "output_type": "execute_result"
    }
   ],
   "source": [
    "from rdkit.ML.Cluster import Butina\n",
    "from rdkit.ML.Descriptors.MoleculeDescriptors import MolecularDescriptorCalculator\n",
    "\n",
    "Total_descriptors = [x[0] for x in Descriptors._descList]\n",
    "len(Total_descriptors)"
   ]
  },
  {
   "cell_type": "code",
   "execution_count": 13,
   "id": "super-county",
   "metadata": {},
   "outputs": [],
   "source": [
    "DescCalc = MolecularDescriptorCalculator(Total_descriptors)\n",
    "\n",
    "def GetRDKitDescriptors(smile):\n",
    "# Function for the calculation of ligand descriptors\n",
    "    mol = Chem.MolFromSmiles(smile)\n",
    "    mol.UpdatePropertyCache(strict=False)\n",
    "    Chem.GetSymmSSSR(mol)\n",
    "    return DescCalc.CalcDescriptors(mol)"
   ]
  },
  {
   "cell_type": "code",
   "execution_count": 14,
   "id": "minimal-barrel",
   "metadata": {},
   "outputs": [],
   "source": [
    "df = pd.read_csv('dataset/test_set_combined.csv')\n",
    "\n",
    "Features = []\n",
    "\n",
    "for i in df.smiles.tolist():\n",
    "    Features.append(GetRDKitDescriptors(i))\n",
    "    \n",
    "ss = pd.DataFrame(Features, columns=Total_descriptors)\n",
    "df = pd.concat([df,ss], axis=1, ignore_index=False)\n",
    "df.to_csv('dataset/feature_set/test_set_combined.csv', index=False)"
   ]
  },
  {
   "cell_type": "code",
   "execution_count": null,
   "id": "shaped-giving",
   "metadata": {},
   "outputs": [],
   "source": []
  },
  {
   "cell_type": "markdown",
   "id": "copyrighted-shannon",
   "metadata": {},
   "source": [
    "### Calculate_MorganFingerprint"
   ]
  },
  {
   "cell_type": "code",
   "execution_count": 15,
   "id": "dense-brain",
   "metadata": {},
   "outputs": [],
   "source": [
    "def Cal_fp(smile):\n",
    "    fp = AllChem.GetMorganFingerprintAsBitVect(Chem.MolFromSmiles(smile),3)\n",
    "    \n",
    "    return list(map(int, fp.ToBitString()))\n",
    "\n",
    "columns = ['MFP_%d'%(i+1) for i in range(2048)]"
   ]
  },
  {
   "cell_type": "code",
   "execution_count": 16,
   "id": "anonymous-finish",
   "metadata": {},
   "outputs": [],
   "source": [
    "df = pd.read_csv('dataset/feature_set/test_set_combined.csv')\n",
    "\n",
    "Features = []\n",
    "for i in df.smiles.tolist():\n",
    "    Features.append(Cal_fp(i))\n",
    "ss = pd.DataFrame(Features, columns=columns)\n",
    "df = pd.concat([df,ss], axis=1, ignore_index=False)\n",
    "\n",
    "df.to_csv('dataset/feature_set_all/test_set_combined.csv', index=False)"
   ]
  },
  {
   "cell_type": "code",
   "execution_count": null,
   "id": "improved-equilibrium",
   "metadata": {},
   "outputs": [],
   "source": []
  },
  {
   "cell_type": "code",
   "execution_count": null,
   "id": "devoted-screw",
   "metadata": {},
   "outputs": [],
   "source": []
  }
 ],
 "metadata": {
  "kernelspec": {
   "display_name": "Python 3",
   "language": "python",
   "name": "python3"
  },
  "language_info": {
   "codemirror_mode": {
    "name": "ipython",
    "version": 3
   },
   "file_extension": ".py",
   "mimetype": "text/x-python",
   "name": "python",
   "nbconvert_exporter": "python",
   "pygments_lexer": "ipython3",
   "version": "3.8.5"
  }
 },
 "nbformat": 4,
 "nbformat_minor": 5
}
