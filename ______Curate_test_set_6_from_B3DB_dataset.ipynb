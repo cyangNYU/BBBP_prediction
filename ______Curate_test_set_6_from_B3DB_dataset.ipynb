{
 "cells": [
  {
   "cell_type": "code",
   "execution_count": 1,
   "id": "extraordinary-diameter",
   "metadata": {},
   "outputs": [],
   "source": [
    "import sys, os\n",
    "import numpy as np\n",
    "import pandas as pd\n",
    "from rdkit import Chem, DataStructs\n",
    "from rdkit.Chem import AllChem, rdFMCS, Descriptors, PandasTools,SaltRemover\n",
    "from rdkit.Chem import Draw\n",
    "from rdkit.Chem.Draw import IPythonConsole\n",
    "import matplotlib.pyplot as plt\n",
    "%matplotlib inline\n",
    "remover = SaltRemover.SaltRemover()"
   ]
  },
  {
   "cell_type": "code",
   "execution_count": 2,
   "id": "neutral-march",
   "metadata": {},
   "outputs": [
    {
     "data": {
      "text/html": [
       "<div>\n",
       "<style scoped>\n",
       "    .dataframe tbody tr th:only-of-type {\n",
       "        vertical-align: middle;\n",
       "    }\n",
       "\n",
       "    .dataframe tbody tr th {\n",
       "        vertical-align: top;\n",
       "    }\n",
       "\n",
       "    .dataframe thead th {\n",
       "        text-align: right;\n",
       "    }\n",
       "</style>\n",
       "<table border=\"1\" class=\"dataframe\">\n",
       "  <thead>\n",
       "    <tr style=\"text-align: right;\">\n",
       "      <th></th>\n",
       "      <th>NO.</th>\n",
       "      <th>compound_name</th>\n",
       "      <th>IUPAC_name</th>\n",
       "      <th>SMILES</th>\n",
       "      <th>CID</th>\n",
       "      <th>logBB</th>\n",
       "      <th>BBB+/BBB-</th>\n",
       "      <th>Inchi</th>\n",
       "      <th>threshold</th>\n",
       "      <th>reference</th>\n",
       "      <th>group</th>\n",
       "      <th>comments</th>\n",
       "    </tr>\n",
       "  </thead>\n",
       "  <tbody>\n",
       "    <tr>\n",
       "      <th>0</th>\n",
       "      <td>1</td>\n",
       "      <td>sulphasalazine</td>\n",
       "      <td>2-hydroxy-5-[[4-(pyridin-2-ylsulfamoyl)phenyl]...</td>\n",
       "      <td>O=C(O)c1cc(N=Nc2ccc(S(=O)(=O)Nc3ccccn3)cc2)ccc1O</td>\n",
       "      <td>5339.0</td>\n",
       "      <td>-2.69</td>\n",
       "      <td>BBB-</td>\n",
       "      <td>InChI=1S/C18H14N4O5S/c23-16-9-6-13(11-15(16)18...</td>\n",
       "      <td>NaN</td>\n",
       "      <td>R2|R2|R25|R46|</td>\n",
       "      <td>A</td>\n",
       "      <td>NaN</td>\n",
       "    </tr>\n",
       "    <tr>\n",
       "      <th>1</th>\n",
       "      <td>2</td>\n",
       "      <td>moxalactam</td>\n",
       "      <td>7-[[2-carboxy-2-(4-hydroxyphenyl)acetyl]amino]...</td>\n",
       "      <td>COC1(NC(=O)C(C(=O)O)c2ccc(O)cc2)C(=O)N2C(C(=O)...</td>\n",
       "      <td>3889.0</td>\n",
       "      <td>-2.52</td>\n",
       "      <td>BBB-</td>\n",
       "      <td>InChI=1S/C20H20N6O9S/c1-25-19(22-23-24-25)36-8...</td>\n",
       "      <td>NaN</td>\n",
       "      <td>R25|</td>\n",
       "      <td>A</td>\n",
       "      <td>NaN</td>\n",
       "    </tr>\n",
       "  </tbody>\n",
       "</table>\n",
       "</div>"
      ],
      "text/plain": [
       "   NO.   compound_name                                         IUPAC_name  \\\n",
       "0    1  sulphasalazine  2-hydroxy-5-[[4-(pyridin-2-ylsulfamoyl)phenyl]...   \n",
       "1    2      moxalactam  7-[[2-carboxy-2-(4-hydroxyphenyl)acetyl]amino]...   \n",
       "\n",
       "                                              SMILES     CID  logBB BBB+/BBB-  \\\n",
       "0   O=C(O)c1cc(N=Nc2ccc(S(=O)(=O)Nc3ccccn3)cc2)ccc1O  5339.0  -2.69      BBB-   \n",
       "1  COC1(NC(=O)C(C(=O)O)c2ccc(O)cc2)C(=O)N2C(C(=O)...  3889.0  -2.52      BBB-   \n",
       "\n",
       "                                               Inchi  threshold  \\\n",
       "0  InChI=1S/C18H14N4O5S/c23-16-9-6-13(11-15(16)18...        NaN   \n",
       "1  InChI=1S/C20H20N6O9S/c1-25-19(22-23-24-25)36-8...        NaN   \n",
       "\n",
       "        reference group comments  \n",
       "0  R2|R2|R25|R46|     A      NaN  \n",
       "1            R25|     A      NaN  "
      ]
     },
     "execution_count": 2,
     "metadata": {},
     "output_type": "execute_result"
    }
   ],
   "source": [
    "df = pd.read_csv('dataset/B3DB_dataset/B3DB_classification.tsv',sep='\\t', header=0)\n",
    "df.head(2)"
   ]
  },
  {
   "cell_type": "code",
   "execution_count": 3,
   "id": "reported-wagon",
   "metadata": {},
   "outputs": [
    {
     "data": {
      "text/plain": [
       "7807"
      ]
     },
     "execution_count": 3,
     "metadata": {},
     "output_type": "execute_result"
    }
   ],
   "source": [
    "len(df)"
   ]
  },
  {
   "cell_type": "code",
   "execution_count": 4,
   "id": "hawaiian-bulgarian",
   "metadata": {},
   "outputs": [
    {
     "data": {
      "text/plain": [
       "1    4956\n",
       "0    2851\n",
       "Name: BBclass, dtype: int64"
      ]
     },
     "execution_count": 4,
     "metadata": {},
     "output_type": "execute_result"
    }
   ],
   "source": [
    "df['BBclass'] = df['BBB+/BBB-'].map(lambda x: 0 if x=='BBB-' else 1)\n",
    "df.BBclass.value_counts()"
   ]
  },
  {
   "cell_type": "code",
   "execution_count": 5,
   "id": "australian-richards",
   "metadata": {},
   "outputs": [
    {
     "data": {
      "text/plain": [
       "1058"
      ]
     },
     "execution_count": 5,
     "metadata": {},
     "output_type": "execute_result"
    }
   ],
   "source": [
    "len(df.loc[~df['logBB'].isnull()])"
   ]
  },
  {
   "cell_type": "code",
   "execution_count": 6,
   "id": "thrown-dakota",
   "metadata": {},
   "outputs": [],
   "source": [
    "df = df.rename(columns={\"SMILES\": \"smiles\"})\n",
    "df = df[['smiles','logBB','BBclass']]"
   ]
  },
  {
   "cell_type": "markdown",
   "id": "underlying-cooperation",
   "metadata": {},
   "source": [
    "### 1. Check_smiles_and_remove_duplicates_for_test_set"
   ]
  },
  {
   "cell_type": "code",
   "execution_count": 7,
   "id": "respective-visit",
   "metadata": {},
   "outputs": [],
   "source": [
    "def GetLarge(string):\n",
    "    List = string.split('.')\n",
    "    List = sorted(List, key=lambda x:len(x), reverse=True)\n",
    "    return List[0]"
   ]
  },
  {
   "cell_type": "code",
   "execution_count": 8,
   "id": "protecting-tradition",
   "metadata": {},
   "outputs": [],
   "source": [
    "def Check_duplicate_label(df):\n",
    "    duplicate = df[df.duplicated(['smiles'])]\n",
    "    dup_dict = {}\n",
    "    \n",
    "    for i,j in zip(duplicate['smiles'],duplicate['BBclass']):\n",
    "        if i not in dup_dict.keys():\n",
    "            dup_dict[i] = set()\n",
    "            dup_dict[i].add(j)\n",
    "        else:\n",
    "            dup_dict[i].add(j)\n",
    "            \n",
    "    inconsistent = [i for i, j in dup_dict.items() if len(j) > 1 ]\n",
    "    \n",
    "    return inconsistent"
   ]
  },
  {
   "cell_type": "code",
   "execution_count": 9,
   "id": "spatial-dodge",
   "metadata": {},
   "outputs": [],
   "source": [
    "Check = []\n",
    "new_smile = []\n",
    "for i in df.smiles.tolist():\n",
    "    try:\n",
    "        mol = Chem.MolFromSmiles(GetLarge(i))\n",
    "        if mol is None:\n",
    "            Check.append(1)\n",
    "            new_smile.append(0)\n",
    "        else:\n",
    "            Check.append(2)\n",
    "            mol = remover.StripMol(mol, dontRemoveEverything=True)\n",
    "            new_smile.append(GetLarge(Chem.MolToSmiles(mol)))\n",
    "    except:\n",
    "        Check.append(0)\n",
    "        new_smile.append(0)"
   ]
  },
  {
   "cell_type": "code",
   "execution_count": 10,
   "id": "scheduled-diabetes",
   "metadata": {},
   "outputs": [
    {
     "name": "stdout",
     "output_type": "stream",
     "text": [
      "Before check smiles: 7807\n",
      "After remove invalid smiles: 7807\n"
     ]
    }
   ],
   "source": [
    "df['Check'] = pd.Series(Check, index=df.index)\n",
    "df['new_smile'] = pd.Series(new_smile, index=df.index)\n",
    "df = df[['logBB','BBclass','Check','new_smile']]\n",
    "df = df.rename(columns={\"new_smile\": \"smiles\"})\n",
    "print ('Before check smiles:', len(df))\n",
    "df = df.loc[df['Check']==2]\n",
    "print ('After remove invalid smiles:', len(df))"
   ]
  },
  {
   "cell_type": "code",
   "execution_count": 11,
   "id": "sixth-carrier",
   "metadata": {},
   "outputs": [
    {
     "data": {
      "text/plain": [
       "0"
      ]
     },
     "execution_count": 11,
     "metadata": {},
     "output_type": "execute_result"
    }
   ],
   "source": [
    "inconsistent = Check_duplicate_label(df)\n",
    "len(inconsistent)"
   ]
  },
  {
   "cell_type": "code",
   "execution_count": 12,
   "id": "opposite-penny",
   "metadata": {},
   "outputs": [
    {
     "data": {
      "text/plain": [
       "7804"
      ]
     },
     "execution_count": 12,
     "metadata": {},
     "output_type": "execute_result"
    }
   ],
   "source": [
    "df = df.drop_duplicates('smiles')\n",
    "len(df)"
   ]
  },
  {
   "cell_type": "markdown",
   "id": "collectible-retreat",
   "metadata": {},
   "source": [
    "remove overlaps with train_set_2.csv and train_set.csv"
   ]
  },
  {
   "cell_type": "code",
   "execution_count": 13,
   "id": "interested-developer",
   "metadata": {},
   "outputs": [
    {
     "name": "stdout",
     "output_type": "stream",
     "text": [
      "6083\n",
      "3806\n"
     ]
    }
   ],
   "source": [
    "s1 = pd.read_csv('dataset/train_set_2.csv')\n",
    "df = df.loc[~df['smiles'].isin(s1.smiles.tolist())]\n",
    "print (len(df))\n",
    "s2 = pd.read_csv('dataset/train_set.csv')\n",
    "df = df.loc[~df['smiles'].isin(s2.smiles.tolist())]\n",
    "print (len(df))"
   ]
  },
  {
   "cell_type": "code",
   "execution_count": 14,
   "id": "exposed-setting",
   "metadata": {},
   "outputs": [
    {
     "data": {
      "text/plain": [
       "313"
      ]
     },
     "execution_count": 14,
     "metadata": {},
     "output_type": "execute_result"
    }
   ],
   "source": [
    "df1 = df.loc[~df['logBB'].isnull()]\n",
    "len(df1)"
   ]
  },
  {
   "cell_type": "code",
   "execution_count": 15,
   "id": "prompt-prompt",
   "metadata": {},
   "outputs": [],
   "source": [
    "df1.to_csv('dataset/test_set_6.csv',index=False)"
   ]
  },
  {
   "cell_type": "code",
   "execution_count": null,
   "id": "bound-housing",
   "metadata": {},
   "outputs": [],
   "source": []
  },
  {
   "cell_type": "markdown",
   "id": "latin-dayton",
   "metadata": {},
   "source": [
    "### 2. Calculate 1D and 2D molecular descriptors"
   ]
  },
  {
   "cell_type": "code",
   "execution_count": 16,
   "id": "regulation-trash",
   "metadata": {},
   "outputs": [
    {
     "data": {
      "text/plain": [
       "208"
      ]
     },
     "execution_count": 16,
     "metadata": {},
     "output_type": "execute_result"
    }
   ],
   "source": [
    "from rdkit.ML.Cluster import Butina\n",
    "from rdkit.ML.Descriptors.MoleculeDescriptors import MolecularDescriptorCalculator\n",
    "\n",
    "Total_descriptors = [x[0] for x in Descriptors._descList]\n",
    "len(Total_descriptors)"
   ]
  },
  {
   "cell_type": "code",
   "execution_count": 17,
   "id": "historic-legislature",
   "metadata": {},
   "outputs": [],
   "source": [
    "DescCalc = MolecularDescriptorCalculator(Total_descriptors)\n",
    "\n",
    "def GetRDKitDescriptors(smile):\n",
    "# Function for the calculation of ligand descriptors\n",
    "    mol = Chem.MolFromSmiles(smile)\n",
    "    mol.UpdatePropertyCache(strict=False)\n",
    "    Chem.GetSymmSSSR(mol)\n",
    "    return DescCalc.CalcDescriptors(mol)"
   ]
  },
  {
   "cell_type": "code",
   "execution_count": 18,
   "id": "pressing-robert",
   "metadata": {},
   "outputs": [],
   "source": [
    "df = pd.read_csv('dataset/test_set_6.csv')\n",
    "\n",
    "Features = []\n",
    "\n",
    "for i in df.smiles.tolist():\n",
    "    Features.append(GetRDKitDescriptors(i))\n",
    "    \n",
    "ss = pd.DataFrame(Features, columns=Total_descriptors)\n",
    "df = pd.concat([df,ss], axis=1, ignore_index=False)\n",
    "df.to_csv('dataset/feature_set/test_set_6.csv', index=False)"
   ]
  },
  {
   "cell_type": "code",
   "execution_count": null,
   "id": "cutting-server",
   "metadata": {},
   "outputs": [],
   "source": []
  },
  {
   "cell_type": "markdown",
   "id": "tired-procedure",
   "metadata": {},
   "source": [
    "### 3. Calculate_MorganFingerprint"
   ]
  },
  {
   "cell_type": "code",
   "execution_count": 19,
   "id": "integral-laundry",
   "metadata": {},
   "outputs": [],
   "source": [
    "def Cal_fp(smile):\n",
    "    fp = AllChem.GetMorganFingerprintAsBitVect(Chem.MolFromSmiles(smile),3)\n",
    "    \n",
    "    return list(map(int, fp.ToBitString()))\n",
    "\n",
    "columns = ['MFP_%d'%(i+1) for i in range(2048)]"
   ]
  },
  {
   "cell_type": "code",
   "execution_count": 20,
   "id": "interpreted-subscriber",
   "metadata": {},
   "outputs": [],
   "source": [
    "df = pd.read_csv('dataset/feature_set/test_set_6.csv')\n",
    "\n",
    "Features = []\n",
    "for i in df.smiles.tolist():\n",
    "    Features.append(Cal_fp(i))\n",
    "ss = pd.DataFrame(Features, columns=columns)\n",
    "df = pd.concat([df,ss], axis=1, ignore_index=False)\n",
    "\n",
    "df.to_csv('dataset/feature_set_all/test_set_6.csv', index=False)"
   ]
  },
  {
   "cell_type": "code",
   "execution_count": 26,
   "id": "printable-protocol",
   "metadata": {},
   "outputs": [
    {
     "data": {
      "text/plain": [
       "1    263\n",
       "0     50\n",
       "Name: BBclass, dtype: int64"
      ]
     },
     "execution_count": 26,
     "metadata": {},
     "output_type": "execute_result"
    }
   ],
   "source": [
    "df.BBclass.value_counts()"
   ]
  },
  {
   "cell_type": "code",
   "execution_count": null,
   "id": "inside-theology",
   "metadata": {},
   "outputs": [],
   "source": []
  }
 ],
 "metadata": {
  "kernelspec": {
   "display_name": "Python 3",
   "language": "python",
   "name": "python3"
  },
  "language_info": {
   "codemirror_mode": {
    "name": "ipython",
    "version": 3
   },
   "file_extension": ".py",
   "mimetype": "text/x-python",
   "name": "python",
   "nbconvert_exporter": "python",
   "pygments_lexer": "ipython3",
   "version": "3.8.5"
  }
 },
 "nbformat": 4,
 "nbformat_minor": 5
}
